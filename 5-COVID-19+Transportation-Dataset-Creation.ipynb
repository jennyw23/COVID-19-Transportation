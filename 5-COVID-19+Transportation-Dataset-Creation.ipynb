{
 "cells": [
  {
   "cell_type": "markdown",
   "id": "90b30fe2",
   "metadata": {},
   "source": [
    "# COVID-19+Transportation Dataset Creation\n",
    "\n",
    "In this notebook, we generate the public files/folders for the `COVID-19-Transportation-TweetIDs` GitHub Repo and use `twarc` to dehydrate our `.jsonl` files into `.txt` files which we then place into the public folders. We aim to follow the same conventions as Chen, Lerman, and Ferrara's COVID-19 Pandemic Twitter Data Set. At the end of this notebook, we clone the local repository to my GitHub. The public dataset can be found here: GitHub Repo: \n",
    "\n",
    "[COVID-19-Transportation-TweetIDs](https://github.com/jennyw23/COVID-19-Transportation-TweetIDs)."
   ]
  },
  {
   "cell_type": "markdown",
   "id": "535d9125",
   "metadata": {},
   "source": [
    "Since I have already prepared my files in a way that simplifies the \"condensing files for the dataset\" step, this notebook is not very extensive. However, I've still included a short Table of Contents if that is helpful.\n",
    "\n",
    "## Table of Contents\n",
    "1. [Create directories to store the files by month](#1)\n",
    "2. [Dehydrate `.jsonl` files into the directories for the public dataset](#2)\n",
    "3. [The End :)](#3)"
   ]
  },
  {
   "cell_type": "code",
   "execution_count": 1,
   "id": "d3e48a53",
   "metadata": {},
   "outputs": [],
   "source": [
    "import os\n",
    "import sys\n",
    "sys.path.append(\".\")\n",
    "import helper.DataRetrieval as dr"
   ]
  },
  {
   "cell_type": "code",
   "execution_count": 2,
   "id": "2a6a4411",
   "metadata": {},
   "outputs": [],
   "source": [
    "# List entire tweet time range\n",
    "time_range = ['2020-01', '2020-02', '2020-03', '2020-04', '2020-05', '2020-06', '2020-07', '2020-08', '2020-09', '2020-10', '2020-11', '2020-12', \n",
    "            '2021-01', '2021-02', '2021-03', '2021-04', '2021-05', '2021-06', '2021-07', '2021-08', '2021-09', '2021-10', '2021-11', '2021-12', \n",
    "            '2022-01', '2022-02', '2022-03', '2022-04']"
   ]
  },
  {
   "cell_type": "markdown",
   "id": "fe494e54",
   "metadata": {},
   "source": [
    "## Create directories to store the files by month <a href name id='1'>"
   ]
  },
  {
   "cell_type": "code",
   "execution_count": 6,
   "id": "15cce928",
   "metadata": {},
   "outputs": [],
   "source": [
    "def generatePublicMonthDirectories():\n",
    "    time_range = ['2020-01', '2020-02', '2020-03', '2020-04', '2020-05', '2020-06', '2020-07', '2020-08', '2020-09', '2020-10', '2020-11', '2020-12', \n",
    "            '2021-01', '2021-02', '2021-03', '2021-04', '2021-05', '2021-06', '2021-07', '2021-08', '2021-09', '2021-10', '2021-11', '2021-12', \n",
    "            '2022-01', '2022-02', '2022-03', '2022-04']\n",
    "\n",
    "    publicPath = '/students/jw10/cs315/COVID-19-Transportation-TweetIDs'\n",
    "    for month in time_range:\n",
    "        monthDir = f'{publicPath}/{month}'\n",
    "        if not os.path.exists(f'{publicPath}/{monthDir}'):\n",
    "            os.makedirs(monthDir)\n",
    "            \n",
    "def getYearMonth(filename):\n",
    "    components = filename.split('-')\n",
    "    YYYY, MM = components[3], components[4]\n",
    "    \n",
    "    MM = MM if int(MM) > 9 else f'0{MM}' # add 0 in front of month digits between 1-9\n",
    "    \n",
    "    return f'{YYYY}-{MM}'\n",
    "\n",
    "def standardizeFileName(filename, extension):\n",
    "    components = filename.split('-')\n",
    "    MM, dd = components[4], components[5].split('.')[0]\n",
    "    MM = MM if int(MM) > 9 else f'0{MM}' # add 0 in front of month digits between 1-9\n",
    "    dd = dd if int(dd) > 9 else f'0{dd}' # add 0 in front of day digits between 1-9\n",
    "    root = \"-\".join(components[:4])\n",
    "\n",
    "    return f'{root}-{MM}-{dd}.{extension}'\n",
    "\n",
    "def dehydrateToPublicDir(basePath, fileName):\n",
    "    publicDirBasePath = '/students/jw10/cs315/COVID-19-Transportation-TweetIDs'\n",
    "    # get subdirectory of public dir\n",
    "    yearMonth = getYearMonth(fileName)\n",
    "    # standardize two digits for txt file name\n",
    "    txtFileName = standardizeFileName(fileName, 'txt')\n",
    "    # dehydrate tweet and place in public dir\n",
    "    twarcCommand = f'twarc dehydrate {basePath}/{fileName} > {txtFileName}'\n",
    "    \n",
    "    os.system(twarcCommand)\n",
    "    \n",
    "# generatePublicMonthDirectories()\n",
    "# standardizeFileName('covid-mobility-tweet-2021-5-1.jsonl', 'txt')"
   ]
  },
  {
   "cell_type": "markdown",
   "id": "13b8b287",
   "metadata": {},
   "source": [
    "## Dehydrate `.jsonl` files into the directories for the public dataset <a href name id='2'>"
   ]
  },
  {
   "cell_type": "code",
   "execution_count": 5,
   "id": "2034367b",
   "metadata": {},
   "outputs": [],
   "source": [
    "tweetsByDayPath = '/students/jw10/cs315/tweets-by-day'\n",
    "publicdir = '/students/jw10/cs315/COVID-19-Transportation-TweetIDs'\n",
    "\n",
    "for dayFile in os.listdir(tweetsByDayPath):\n",
    "    # access tweet files within the directory\n",
    "    dehydrateToPublicDir(tweetsByDayPath, dayFile)"
   ]
  },
  {
   "cell_type": "markdown",
   "id": "8865b6fa",
   "metadata": {},
   "source": [
    "## The End :) <a href name id='3'>\n",
    "    \n",
    "Now we have our COVID-19+Transportation TweetIDs stored in readable directories with proper naming conventions. We're now ready to upload it to a GitHub repo!"
   ]
  }
 ],
 "metadata": {
  "kernelspec": {
   "display_name": "Python 3 (ipykernel)",
   "language": "python",
   "name": "python3"
  },
  "language_info": {
   "codemirror_mode": {
    "name": "ipython",
    "version": 3
   },
   "file_extension": ".py",
   "mimetype": "text/x-python",
   "name": "python",
   "nbconvert_exporter": "python",
   "pygments_lexer": "ipython3",
   "version": "3.9.5"
  }
 },
 "nbformat": 4,
 "nbformat_minor": 5
}
