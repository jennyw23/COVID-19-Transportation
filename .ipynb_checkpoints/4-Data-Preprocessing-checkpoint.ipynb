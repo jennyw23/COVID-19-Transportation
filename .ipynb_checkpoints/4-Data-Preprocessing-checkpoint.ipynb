{
 "cells": [
  {
   "cell_type": "markdown",
   "id": "3d44d202",
   "metadata": {},
   "source": [
    "# Part 4 - Data Preprocessing\n",
    "\n",
    "## Overview\n",
    "This notebook uses the dataset we accumulated from the Data Cleaning stage and conducts preprocessing using techniques discussed in class. I primarily do preprocessing on our raw dataset and create reusable functions for later analysis. You will find that many of the later notebooks include the same functions to preprocess the data (although I did later create a module/class to do this). There are also some tests of topic modeling visualizations that I later choose to discard from my results.\n"
   ]
  },
  {
   "cell_type": "markdown",
   "id": "8477ca86",
   "metadata": {},
   "source": [
    "## Table of Contents\n",
    "1. [Open our relevant tweets from local `.jsonl` file](#1)\n",
    "2. [Descriptive Statistics](#2)\n",
    "    1. [By Users](#2a)\n",
    "    2. [By Mode](#2b)\n",
    "    3. [Creation of `DataTransformation` Module](#2c)\n",
    "3. [Preprocessing the tweets](#3)\n",
    "4. [Tests of Topic Modeling Visualizations](#4)\n",
    "5. [Conclusions + Post-Data Exploration Thoughts](#5)"
   ]
  },
  {
   "cell_type": "markdown",
   "id": "c83e6002",
   "metadata": {},
   "source": [
    "## Open our relevant tweets from local `.jsonl` file <a href name id=\"1\">\n",
    "    \n",
    "Now that we have a file with our full set of tweets, we can access them directly."
   ]
  },
  {
   "cell_type": "code",
   "execution_count": 6,
   "id": "5da90e28",
   "metadata": {},
   "outputs": [],
   "source": [
    "import sys\n",
    "\n",
    "sys.path.append(\".\")\n",
    "\n",
    "import helper.DataRetrieval as dr"
   ]
  },
  {
   "cell_type": "code",
   "execution_count": 7,
   "id": "8975920d",
   "metadata": {},
   "outputs": [
    {
     "name": "stdout",
     "output_type": "stream",
     "text": [
      "We have collected: 9123 relevant tweets and it is stored in <class 'list'> format.\n"
     ]
    }
   ],
   "source": [
    "import json\n",
    "\n",
    "relevantTweets = []\n",
    "with open('/students/jw10/cs315/all-tweets/covid-mobility-tweet-all-relevant.jsonl') as f:\n",
    "    for line in f:\n",
    "        relevantTweets.append(json.loads(line))\n",
    "\n",
    "print(\"We have collected:\", len(relevantTweets), \"relevant tweets and it is stored in\", type(relevantTweets), \"format.\")"
   ]
  },
  {
   "cell_type": "markdown",
   "id": "abd9e318",
   "metadata": {},
   "source": [
    "## Descriptive Statistics <a href name id=\"2\">\n",
    "\n",
    "To obtain descriptive statistics, we aggregate our tweets based on (1) users and (2) transportation mode."
   ]
  },
  {
   "cell_type": "markdown",
   "id": "e464c9f1",
   "metadata": {},
   "source": [
    "### By Users <a href name id=\"2a\">"
   ]
  },
  {
   "cell_type": "code",
   "execution_count": 8,
   "id": "fd8b2940",
   "metadata": {},
   "outputs": [],
   "source": [
    "# relevantTweets[0]"
   ]
  },
  {
   "cell_type": "code",
   "execution_count": 9,
   "id": "a9036724",
   "metadata": {},
   "outputs": [],
   "source": [
    "def getUniqueUsers(tweets):\n",
    "    '''\n",
    "    Returns a dictionary with users/tweets as keys/value pairs\n",
    "    '''\n",
    "    userDict = {}\n",
    "\n",
    "    for tweet in relevantTweets:\n",
    "        tweetID = tweet['id']\n",
    "        user = tweet['user']['id_str'] # user ID\n",
    "        if user not in userDict:\n",
    "            userDict[user] = [tweetID]\n",
    "        else:\n",
    "            userDict[user].append(tweetID)\n",
    "\n",
    "    return userDict"
   ]
  },
  {
   "cell_type": "code",
   "execution_count": 10,
   "id": "b40d115d",
   "metadata": {},
   "outputs": [],
   "source": [
    "uniqueUsers = getUniqueUsers(relevantTweets)"
   ]
  },
  {
   "cell_type": "code",
   "execution_count": 11,
   "id": "40932609",
   "metadata": {},
   "outputs": [
    {
     "name": "stdout",
     "output_type": "stream",
     "text": [
      "8931\n"
     ]
    }
   ],
   "source": [
    "print(len(uniqueUsers.keys()))"
   ]
  },
  {
   "cell_type": "markdown",
   "id": "41a9157a",
   "metadata": {},
   "source": [
    "These results tell us that most Transportation+COVID-19 tweets captured were tweeted by unique users. This is not particularly helpful in terms of gathering more insights into the top user engagement, so we choose to focus on the modes of transportation."
   ]
  },
  {
   "cell_type": "code",
   "execution_count": 12,
   "id": "7f064bc4",
   "metadata": {},
   "outputs": [
    {
     "name": "stdout",
     "output_type": "stream",
     "text": [
      "Highest tweet count for single user: 22 \n",
      "ID of user with highest tweet count: 252563614\n"
     ]
    }
   ],
   "source": [
    "maxTweetCount, maxTweeter = 0, 'none'\n",
    "for user in uniqueUsers:\n",
    "    tweetCount = len(uniqueUsers[user])\n",
    "    if tweetCount > maxTweetCount:\n",
    "        maxTweetCount, maxTweeter = tweetCount, user\n",
    "        \n",
    "print(\"Highest tweet count for single user:\", maxTweetCount, \"\\nID of user with highest tweet count:\", maxTweeter)"
   ]
  },
  {
   "cell_type": "markdown",
   "id": "8ec216b0",
   "metadata": {},
   "source": [
    "### By transportation mode <a href name id=\"2b\">\n"
   ]
  },
  {
   "cell_type": "code",
   "execution_count": 17,
   "id": "e5d2d8ac",
   "metadata": {},
   "outputs": [],
   "source": [
    "import pandas as pd\n",
    "import inflect\n",
    "\n",
    "def getKeywordsByCategory():\n",
    "    '''\n",
    "    Gets keywords from the .csv file and adds the pluralized keywords. Returns a set of all keywords by category\n",
    "    '''\n",
    "    p = inflect.engine()\n",
    "    keywords = pd.read_csv('./cs315_keywords.csv')\n",
    "    # lowercase all keyword strings\n",
    "    keywords['public transport'] = keywords['public transport'].str.lower()\n",
    "    keywords['motorized'] = keywords['motorized'].str.lower()\n",
    "    keywords['non-motorized'] = keywords['non-motorized'].str.lower()\n",
    "\n",
    "    transit = [word for word in keywords['public transport'] if not pd.isna(word)]\n",
    "    motorized = [word for word in keywords['motorized'] if not pd.isna(word)]\n",
    "    nonmotorized = [word for word in keywords['non-motorized'] if not pd.isna(word)]\n",
    "    \n",
    "    transitPlural = [p.plural(word) for word in transit] # not exhaustive, but captures some meaning\n",
    "    motorizedPlural = [p.plural(word) for word in motorized] # not exhaustive, but captures some meaning\n",
    "    nonmotorizedPlural = [p.plural(word) for word in nonmotorized] # not exhaustive, but captures some meaning\n",
    "    \n",
    "    return (set(transit+transitPlural), set(motorized+motorizedPlural), set(nonmotorized+nonmotorizedPlural))\n"
   ]
  },
  {
   "cell_type": "code",
   "execution_count": 34,
   "id": "97379f72",
   "metadata": {},
   "outputs": [
    {
     "name": "stdout",
     "output_type": "stream",
     "text": [
      "{'mass transits', 'railroad', 'shuttles', 'lines', 'amtrak', 'transportations', 'green line', 'heavy rail', 'caltrains', 'line', 'mtas', 'metro', 'caltrain', 'silver line', 'metrorail', 'bus', 'monorail', 'streetcar', 'bart', 'cable car', 'transports', 'blue lines', 'rapid transits', 'light rail', 'monorails', 'mta', 'metropolitans', 'railways', 'muni', 'blue line', 'metropolitan', 'red lines', 'rail', 'mbta', 'mbtas', 'barts', 'light rails', 'railway', 'heavy rails', 'railroads', 'streetcars', 'buse', 'commuter rails', 'subways', 'metrorails', 'rapid transit', 'silver lines', 'cable cars', 'rails', 'amtraks', 'mass transportations', 'metros', 'transit', 'munis', 'subway', 'green lines', 'buses', 'station', 'mass transportation', 'shuttle', 'stations', 'trolley', 'transport', 'mass transit', 'transportation', 'trolleys', 'commuter rail', 'transits', 'red line'}\n",
      "{'honda', 'chevrolets', 'scooter', 'jeep', 'highways', 'toyotas', 'uber', 'lincolns', 'infiniti', 'routes', 'subaru', 'engine', 'highway', 'rideshare', 'subarus', 'fords', 'mazda', 'diesels', 'ford', 'freeways', 'rides', 'fiat', 'kia', 'mitsubishi', 'congestions', 'freeway', 'auto', 'lexuses', 'autos', 'chevrolet', 'road', 'e-scooter', 'scooters', 'electric scooters', 'automobiles', 'dodges', 'acura', 'infinitis', 'traffics', 'e-scooters', 'diesel', 'buicks', 'nissans', 'commuters', 'electric scooter', 'fiats', 'commutes', 'congestion', 'hyundai', 'nissan', 'lincoln', 'jeeps', 'vehicles', 'gas prices', 'gasoline', 'cars', 'route', 'dodge', 'roadway', 'commuter', 'roads', 'buick', 'acuras', 'chryslers', 'carpool', 'lexus', 'commute', 'rideshares', 'automobile', 'carpools', 'gasolines', 'vehicle', 'chrysler', 'lyft', 'carpoolings', 'traffic', 'engines', 'hyundais', 'car', 'gas pricess', 'kias', 'mitsubishis', 'lyfts', 'mazdas', 'roadways', 'ride', 'toyota', 'hondas', 'ubers', 'carpooling'}\n",
      "{'lanes', 'running', 'pedestrians', 'bicycle', 'runs', 'joggings', 'bikers', 'jog', 'walk', 'lane', 'rollerskates', 'biker', 'cyclings', 'walkers', 'bicyclings', 'cycles', 'exercise', 'bike', 'exercises', 'rollerblades', 'jogs', 'rollerbladings', 'bicycling', 'pedestrian', 'rollerblading', 'rollerblade', 'bicycles', 'walking', 'workout', 'run', 'workouts', 'bikes', 'runnings', 'rollerskate', 'walks', 'walkings', 'cycle', 'walker', 'cycling', 'jogging'}\n",
      "199\n"
     ]
    }
   ],
   "source": [
    "transit, motorized, nonmotorized = getKeywordsByCategory()\n",
    "\n",
    "print(transit)\n",
    "print(motorized)\n",
    "print(nonmotorized)\n",
    "# get the length of the keywords + plurals set\n",
    "print(len(transit.union(motorized).union(nonmotorized)))"
   ]
  },
  {
   "cell_type": "code",
   "execution_count": 35,
   "id": "822cfa3c",
   "metadata": {},
   "outputs": [],
   "source": [
    "# copied from Data Cleaning notebook\n",
    "def returnLoweredTweetText(tweet):\n",
    "    '''\n",
    "    Returns the non-truncated tweet text in lower case\n",
    "    '''\n",
    "    if \"retweeted_status\" not in tweet: \n",
    "        if 'full_text' not in tweet:\n",
    "            return tweet['text'].lower()\n",
    "        else:\n",
    "            return tweet['full_text'].lower()\n",
    "    else:\n",
    "        if 'full_text' not in tweet['retweeted_status']:\n",
    "            return tweet['retweeted_status']['text'].lower()\n",
    "        else:\n",
    "            return tweet['retweeted_status']['full_text'].lower()\n",
    "        \n",
    "def printTweetText(tweet):\n",
    "    '''\n",
    "    Prints out tweet text\n",
    "    '''\n",
    "    print('*** Tweet ***')\n",
    "    if \"retweeted_status\" not in tweet: \n",
    "        if 'full_text' not in tweet:\n",
    "            print(tweet['text'])\n",
    "        else:\n",
    "            print(tweet['full_text'])\n",
    "    else:\n",
    "        if 'full_text' not in tweet['retweeted_status']:\n",
    "            print(tweet['retweeted_status']['text'])\n",
    "        else:\n",
    "            print(tweet['retweeted_status']['full_text'])\n",
    "\n"
   ]
  },
  {
   "cell_type": "code",
   "execution_count": 36,
   "id": "e84c0e8d",
   "metadata": {},
   "outputs": [],
   "source": [
    "def extractMode(tweet, transit, motorized, nonmotorized):\n",
    "    '''\n",
    "    Returns the category of transit given the keywords that it is in. Tweets containing multiple categories are \n",
    "    added to each.\n",
    "    '''\n",
    "    modes = set()\n",
    "    tweetText = returnLoweredTweetText(tweet)\n",
    "    tweetTextSet = set(tweetText.split())\n",
    "    if transit.intersection(tweetTextSet):\n",
    "        modes.add('transit')\n",
    "    if motorized.intersection(tweetTextSet):\n",
    "        modes.add('motorized')\n",
    "    if nonmotorized.intersection(tweetTextSet):\n",
    "        modes.add('nonmotorized')\n",
    "\n",
    "    return modes\n",
    "\n",
    "def getTweetsByTransportationMode(tweets, categories):\n",
    "    '''\n",
    "    Returns a dictionary with transport-mode/tweets as keys/value pairs\n",
    "    '''\n",
    "    modeDict = {}\n",
    "    transit, motorized, nonmotorized = categories\n",
    "\n",
    "    for tweet in tweets:\n",
    "#         tweetID = tweet['id']\n",
    "        modes = extractMode(tweet, transit, motorized, nonmotorized)\n",
    "        for mode in modes:\n",
    "            if mode not in modeDict:\n",
    "                modeDict[mode] = [tweet]\n",
    "            else:\n",
    "                modeDict[mode].append(tweet)\n",
    "\n",
    "    return modeDict"
   ]
  },
  {
   "cell_type": "code",
   "execution_count": 37,
   "id": "2a885c96",
   "metadata": {},
   "outputs": [
    {
     "name": "stdout",
     "output_type": "stream",
     "text": [
      "Transit 3000\n",
      "Motorized 3687\n",
      "Nonomotorized 2507\n"
     ]
    }
   ],
   "source": [
    "tweetsByMode = getTweetsByTransportationMode(relevantTweets, getKeywordsByCategory())\n",
    "\n",
    "print(\"Transit\", len(tweetsByMode['transit']))\n",
    "print(\"Motorized\", len(tweetsByMode['motorized']))\n",
    "print(\"Nonomotorized\", len(tweetsByMode['nonmotorized']))"
   ]
  },
  {
   "cell_type": "code",
   "execution_count": 52,
   "id": "daaf154a",
   "metadata": {},
   "outputs": [],
   "source": [
    "# we do this in the Text Analysis notebook\n",
    "# import matplotlib.pyplot as plt\n",
    "\n",
    "# fig = plt.figure()\n",
    "# ax = fig.add_axes([0,0,1,1])\n",
    "# modes = ['Transit', 'Motorized', 'Non-Motorized']\n",
    "# counts = [len(tweetsByMode['transit']),len(tweetsByMode['motorized']), len(tweetsByMode['nonmotorized'])]\n",
    "# ax.bar(modes,counts)\n",
    "\n",
    "# # customizations\n",
    "\n",
    "# plt.show()\n",
    "\n",
    "# plt.savefig('tweetsPerCategory.png')"
   ]
  },
  {
   "cell_type": "markdown",
   "id": "9086f487",
   "metadata": {},
   "source": [
    "### Creation of `DataTransformation` Module <a href name id=\"2c\">\n",
    "\n",
    "I have taken the above functions and created a module called `DataTransformation`. The class `TransportationMode` splits our tweets into their respective categories. We will use this to prepare our files for LIWC analysis."
   ]
  },
  {
   "cell_type": "code",
   "execution_count": 39,
   "id": "91ab709b",
   "metadata": {},
   "outputs": [
    {
     "name": "stdout",
     "output_type": "stream",
     "text": [
      "Index(['created_at', 'id', 'id_str', 'full_text', 'truncated',\n",
      "       'display_text_range', 'entities', 'source', 'in_reply_to_status_id',\n",
      "       'in_reply_to_status_id_str', 'in_reply_to_user_id',\n",
      "       'in_reply_to_user_id_str', 'in_reply_to_screen_name', 'user', 'geo',\n",
      "       'coordinates', 'place', 'contributors', 'retweeted_status',\n",
      "       'is_quote_status', 'quoted_status_id', 'quoted_status_id_str',\n",
      "       'quoted_status_permalink', 'retweet_count', 'favorite_count',\n",
      "       'favorited', 'retweeted', 'lang', 'possibly_sensitive', 'quoted_status',\n",
      "       'extended_entities', 'withheld_in_countries'],\n",
      "      dtype='object')\n"
     ]
    }
   ],
   "source": [
    "transitDF = pd.DataFrame.from_dict(tweetsByMode['transit'])\n",
    "\n",
    "print(transitDF.keys())"
   ]
  },
  {
   "cell_type": "code",
   "execution_count": 40,
   "id": "17532a2a",
   "metadata": {},
   "outputs": [
    {
     "name": "stdout",
     "output_type": "stream",
     "text": [
      "*** Tweet ***\n",
      "rt @wef @mikequindazzi @antgrasso @fisher85m\n",
      "Remote working and online shopping could drive 14 million cars off US roads – permanently https://t.co/flGl4HiptR #covid19 #sdi20 https://t.co/u7OM3XRPZa\n",
      "--------------------------------------------------------------------------------\n",
      "*** Tweet ***\n",
      "Info for Pak Exporters/importers:\n",
      "\n",
      "All ports are operational in Italy.\n",
      "No route for merchandise/trade cargo is blocked.\n",
      "No Pakistani export/import consignment is halted in Italy due to Corona Virus issue.\n",
      "Plz let us know if any of your consignment gets stuck anywhere in Italy. https://t.co/MXzO7IU3Yb\n",
      "--------------------------------------------------------------------------------\n",
      "*** Tweet ***\n",
      "@sergiart5_ @fjruiddiid @XxRaptor_xX @qLxke_ The chances of serious illness are pretty much negligible. And when it comes to death, pretty much nonexistent. You’re more likely to die in a car crash then die from COVID when vaccinated, but people still drive cars\n",
      "--------------------------------------------------------------------------------\n",
      "*** Tweet ***\n",
      "We'll keep having problems with variants as long as a large number of folks refuse to get vaccinated and thus create a variant engine that will need adjusted vaccines. If everyone had signed up, masked and acted as grownups we wouldn't be in as much of a mess as we've been in. https://t.co/uxcarRXmOY\n",
      "--------------------------------------------------------------------------------\n",
      "*** Tweet ***\n",
      "About 100 Americans are likely to die in car crashes today. The new CDC data suggests that either zero or one vaccinated person will die today from Covid.\n",
      "\n",
      "https://t.co/mNOtdSIs1Y\n",
      "--------------------------------------------------------------------------------\n",
      "*** Tweet ***\n",
      "Security forces have sealed vital roads and erected barricades at many places in the city and other district headquarters to stop unnecessary movement of people, officials said.\n",
      "\n",
      "https://t.co/lEur8YTOYz\n",
      "--------------------------------------------------------------------------------\n",
      "*** Tweet ***\n",
      "Migrants' march continues in India. Lakhs are en route their villages seeking food &amp; shelter. PM @NarendraModi seeks India's forgiveness for the 'harsh' lockdown; calls it a 'life &amp; death battle'.\n",
      "\n",
      "Join Rahul Shivshankar on INDIA UPFRONT SPL EDITION at 4 PM. | #IndiaWithMigrants https://t.co/8BofdmD4jo\n",
      "--------------------------------------------------------------------------------\n",
      "*** Tweet ***\n",
      "@mybmc @CPMumbaiPolice  . It's a prominent to wear mask today. auto riksha people  were roaming at bandra openly without mask. As I spoke to one of bmc person who was standing there for duty..he openly denied me and said This work belongs to police. I request u to take an action.\n",
      "--------------------------------------------------------------------------------\n",
      "*** Tweet ***\n",
      "Have a friend living in Wuhan, China. He says it's really bad. The roads are empty, the shops are empty, the supermarkets are empty. You are just surviving on what you already have. This #CoronavirusOutbreak is no joke.\n",
      "--------------------------------------------------------------------------------\n",
      "*** Tweet ***\n",
      "A depressingly large segment of society seems unable to get its head around the idea that we cannot be completely safe from covid-19, in the same way that we can never be entirely safe from cancer, road accidents and all the other horrible ways people die every minute of the day\n",
      "--------------------------------------------------------------------------------\n"
     ]
    }
   ],
   "source": [
    "import random\n",
    "\n",
    "random.seed(5) # I'm doing this so that the sequence of random numbers is replicable\n",
    "\n",
    "for i in range(10):\n",
    "    tweet = random.choice(tweetsByMode['motorized'])\n",
    "    printTweetText(tweet)\n",
    "    print(80*'-')   "
   ]
  },
  {
   "cell_type": "markdown",
   "id": "779191db",
   "metadata": {},
   "source": [
    "## Preprocessing the tweets <a href name id='3'>\n",
    "\n",
    "Tweets are preprocessed in a similar fashion to that described in [this paper](https://www.cs.toronto.edu/~jstolee/projects/topic.pdf ), which also follows similar conventions to citations [3],[4] in that paper.\n"
   ]
  },
  {
   "cell_type": "code",
   "execution_count": 41,
   "id": "511d4cbf",
   "metadata": {},
   "outputs": [
    {
     "name": "stdout",
     "output_type": "stream",
     "text": [
      "['coronavirus', 'koronavirus', 'corona', 'cdc', 'wuhancoronavirus', 'wuhanlockdown', 'ncov', 'wuhan', 'n95', 'kungflu', 'epidemic', 'outbreak', 'sinophobia', 'china', 'covid-19', 'corona', 'covid', 'covid19', 'sars-cov-2', 'covidー19', 'covd', 'pandemic', 'coronapocalypse', 'canceleverything', 'coronials', 'socialdistancingnow', 'social', 'socialdistancing', 'panicbuy', 'panic', 'panicbuying', 'panic', '14dayquarantine', 'duringmy14dayquarantine', 'panic', 'panic', 'panicshop', 'inmyquarantinesurvivalkit', 'panic-buy', 'panic-shop', 'coronakindness', 'quarantinelife', 'chinese', 'chinesevirus', 'stayhomechallenge', 'stay', 'sflockdown', 'dontbeaspreader', 'lockdown', 'lock', 'shelteringinplace', 'sheltering', 'staysafestayhome', 'stay', 'trumppandemic', 'trump', 'flattenthecurve', 'flatten', 'china', 'chinavirus', 'quarentinelife', 'ppeshortage', 'saferathome', 'stayathome', 'stay', 'stay', 'stayhome', 'getmeppe', 'covidiot', 'epitwitter', 'pandemie', 'wear', 'wearamask', 'kung', 'covididiot', 'covid__19', 'omicron', 'variant', 'vaccine', 'travel']\n"
     ]
    }
   ],
   "source": [
    "import urllib\n",
    "\n",
    "def getCovidKeywordsList():\n",
    "    url ='https://raw.githubusercontent.com/echen102/COVID-19-TweetIDs/master/keywords.txt'\n",
    "    file = urllib.request.urlopen(url)\n",
    "\n",
    "    covidKeywords = []\n",
    "    for line in file:\n",
    "        decoded_line = line.decode(\"utf-8\").split()\n",
    "        covidKeywords.append(decoded_line[0].lower())\n",
    "\n",
    "    return covidKeywords\n",
    "\n",
    "print(getCovidKeywordsList())"
   ]
  },
  {
   "cell_type": "code",
   "execution_count": 48,
   "id": "d606e2e2",
   "metadata": {},
   "outputs": [],
   "source": [
    "import string\n",
    "import nltk\n",
    "from nltk.tokenize import TweetTokenizer\n",
    "import re\n",
    "\n",
    "stopwordsList = nltk.corpus.stopwords.words('english')\n",
    "punctuation = string.punctuation\n",
    "covidKeywordsList = getCovidKeywordsList()\n",
    "\n",
    "def removeLinks(tweetString):\n",
    "    '''Takes a string and removes web links from it'''\n",
    "    tweetString = re.sub(r'http\\S+', '', tweetString) # remove http links\n",
    "    tweetString = re.sub(r'bit.ly/\\S+', '', tweetString) # rempve bitly links\n",
    "    tweetString = tweetString.strip('[link]') # remove [links]\n",
    "    return tweetString\n",
    "\n",
    "def cleanTweets(someTweets):\n",
    "    \"\"\"Given a string that it's a tweet or many tweets joined together,\n",
    "    clean it up to use for further analysis.\n",
    "    \"\"\"\n",
    "    # Your code here\n",
    "    # 1) lowercase tweet words\n",
    "    loweredTweets = someTweets.lower()\n",
    "    \n",
    "    # 2) tokenize tweets\n",
    "    tweet_tokenizer = TweetTokenizer()\n",
    "    tokens = tweet_tokenizer.tokenize(loweredTweets)\n",
    "    \n",
    "    # 3) Remove stopwords\n",
    "    cleanTweets = [w for w in tokens if w not in stopwordsList]\n",
    "\n",
    "    # 4) Remove punctuation\n",
    "    cleanTweets = [w for w in cleanTweets if w not in punctuation]\n",
    "\n",
    "    # Remove @\n",
    "    cleanTweets = [w for w in cleanTweets if w[0] != '@']\n",
    "\n",
    "    # Remove numbers\n",
    "    cleanTweets = [w for w in cleanTweets if not w.isnumeric()]\n",
    "\n",
    "    # 5) Remove COVID keywords\n",
    "    cleanTweets = [w for w in cleanTweets if not (w in covidKeywordsList or w[1:] in covidKeywordsList)]\n",
    "    \n",
    "    # random symbols\n",
    "    cleanTweets = [w for w in cleanTweets if '’' not in w]\n",
    "    \n",
    "    return cleanTweets\n",
    "\n",
    "# def oldCleanTweets(someTweets):\n",
    "#     \"\"\"Given a string that it's a tweet or many tweets joined together,\n",
    "#     clean it up to use for further analysis.\n",
    "#     \"\"\"\n",
    "#     # Your code here\n",
    "#     # 1) lowercase tweet words\n",
    "#     loweredTweets = someTweets.lower()\n",
    "    \n",
    "#     # 2) tokenize tweets\n",
    "#     tweet_tokenizer = TweetTokenizer()\n",
    "#     tokens = tweet_tokenizer.tokenize(loweredTweets)\n",
    "    \n",
    "#     # 3) Remove stopwords\n",
    "#     cleanTweets = [w for w in tokens if w not in stopwordsList]\n",
    "    \n",
    "#     # 4) Remove punctuation\n",
    "#     cleanTweets = [w for w in cleanTweets if w not in punctuation]\n",
    "    \n",
    "#     # 5) Remove COVID keywords\n",
    "#     cleanTweets = [w for w in cleanTweets if not (w in covidKeywordsList or w[1:] in covidKeywordsList)]\n",
    "    \n",
    "#     cleanTweets = [w for w in cleanTweets if '’' not in w]\n",
    "    \n",
    "#     return cleanTweets"
   ]
  },
  {
   "cell_type": "markdown",
   "id": "7c0dfe8a",
   "metadata": {},
   "source": [
    "We aggregate data into pseudodocuments based on the mode of transport used."
   ]
  },
  {
   "cell_type": "code",
   "execution_count": 49,
   "id": "e70053af",
   "metadata": {},
   "outputs": [
    {
     "data": {
      "text/plain": [
       "dict_keys(['nonmotorized', 'motorized', 'transit'])"
      ]
     },
     "execution_count": 49,
     "metadata": {},
     "output_type": "execute_result"
    }
   ],
   "source": [
    "transitWords = ''\n",
    "motorizedWords = ''\n",
    "nonmotorizedWords = ''\n",
    "\n",
    "words = {}\n",
    "for mode in tweetsByMode:\n",
    "    for tweet in tweetsByMode[mode]:\n",
    "        text = returnLoweredTweetText(tweet)\n",
    "        if mode not in words:\n",
    "            words[mode] = text\n",
    "        else:\n",
    "            words[mode] += ' ' + text\n",
    "    \n",
    "    \n",
    "words.keys()"
   ]
  },
  {
   "cell_type": "code",
   "execution_count": 50,
   "id": "e4008b4c",
   "metadata": {},
   "outputs": [
    {
     "data": {
      "text/plain": [
       "list"
      ]
     },
     "execution_count": 50,
     "metadata": {},
     "output_type": "execute_result"
    }
   ],
   "source": [
    "transitDoc = removeLinks(words['transit'])\n",
    "nonmotorizedDoc = removeLinks(words['nonmotorized'])\n",
    "motorizedDoc = removeLinks(words['motorized'])\n",
    "\n",
    "cleanTransit = cleanTweets(transitDoc)\n",
    "cleanNonmotorized = cleanTweets(nonmotorizedDoc)\n",
    "cleanMotorized = cleanTweets(motorizedDoc)\n",
    "\n",
    "type(cleanTransit)"
   ]
  },
  {
   "cell_type": "code",
   "execution_count": 51,
   "id": "98f960de",
   "metadata": {},
   "outputs": [
    {
     "name": "stdout",
     "output_type": "stream",
     "text": [
      "[('transport', 663), ('station', 531), ('public', 509), ('bus', 495), ('people', 436), ('railway', 395), ('transportation', 360), ('workers', 320), ('city', 274), ('metro', 254)]\n",
      "[('walk', 893), ('walking', 878), ('one', 608), ('around', 444), ('night', 438), ('people', 428), ('go', 311), ('think', 310), ('would', 301), ('right', 280)]\n",
      "[('car', 943), ('road', 697), ('people', 557), ('traffic', 419), ('cars', 341), ('get', 323), ('roads', 296), ('city', 245), ('...', 230), ('vehicles', 228)]\n"
     ]
    }
   ],
   "source": [
    "from collections import Counter\n",
    "\n",
    "print(Counter(cleanTransit).most_common(10))\n",
    "print(Counter(cleanNonmotorized).most_common(10))\n",
    "print(Counter(cleanMotorized).most_common(10))"
   ]
  },
  {
   "cell_type": "markdown",
   "id": "28377245",
   "metadata": {},
   "source": [
    "### Tests of Topic Modeling Visualizations <a href name id='4'>\n",
    "\n",
    "After trying out various libraries/methods for topic visualization, I found that topics are very difficult to decipher. Thus, we go reiterate the data preparation <--> modeling step, this time focusing on sentiment analysis.\n",
    "\n",
    "[Can ignore below]"
   ]
  },
  {
   "cell_type": "code",
   "execution_count": 55,
   "id": "c1fd5f54",
   "metadata": {},
   "outputs": [
    {
     "name": "stdout",
     "output_type": "stream",
     "text": [
      "(43146, 734)\n"
     ]
    },
    {
     "name": "stderr",
     "output_type": "stream",
     "text": [
      "/students/jw10/miniconda3/lib/python3.9/site-packages/past/builtins/misc.py:45: DeprecationWarning: the imp module is deprecated in favour of importlib; see the module's documentation for alternative uses\n",
      "  from imp import reload\n",
      "/students/jw10/miniconda3/lib/python3.9/site-packages/past/builtins/misc.py:45: DeprecationWarning: the imp module is deprecated in favour of importlib; see the module's documentation for alternative uses\n",
      "  from imp import reload\n",
      "/students/jw10/miniconda3/lib/python3.9/site-packages/past/builtins/misc.py:45: DeprecationWarning: the imp module is deprecated in favour of importlib; see the module's documentation for alternative uses\n",
      "  from imp import reload\n",
      "/students/jw10/miniconda3/lib/python3.9/site-packages/past/builtins/misc.py:45: DeprecationWarning: the imp module is deprecated in favour of importlib; see the module's documentation for alternative uses\n",
      "  from imp import reload\n"
     ]
    },
    {
     "data": {
      "text/html": [
       "\n",
       "<link rel=\"stylesheet\" type=\"text/css\" href=\"https://cdn.jsdelivr.net/gh/bmabey/pyLDAvis@3.3.1/pyLDAvis/js/ldavis.v1.0.0.css\">\n",
       "\n",
       "\n",
       "<div id=\"ldavis_el24671404573192365443807579170\"></div>\n",
       "<script type=\"text/javascript\">\n",
       "\n",
       "var ldavis_el24671404573192365443807579170_data = {\"mdsDat\": {\"x\": [0.4404218574796775, -0.07285185888434845, -0.06212294131659151, -0.0013713718113299287, -0.056677649408903165, -0.048480098228319855, -0.04847938324993659, -0.05654400450535678, -0.04232262436144744, -0.05157192571344345], \"y\": [0.03602613512118095, 0.4087852543305392, -0.025313687719434798, -0.17861092738519604, -0.025184502911267073, -0.022946292365554143, -0.11011013733282332, -0.03194651443581382, -0.021881511346067046, -0.02881781595556384], \"topics\": [1, 2, 3, 4, 5, 6, 7, 8, 9, 10], \"cluster\": [1, 1, 1, 1, 1, 1, 1, 1, 1, 1], \"Freq\": [11.29924278881393, 10.456131016940192, 10.445815988451749, 10.390020828723815, 10.187481488855061, 9.793095245869639, 9.756565088360395, 9.356749539217272, 9.268716101931904, 9.04618191283604]}, \"tinfo\": {\"Term\": [\"transport\", \"station\", \"bus\", \"public\", \"people\", \"railway\", \"transportation\", \"city\", \"metro\", \"workers\", \"new\", \"rail\", \"virus\", \"transit\", \"train\", \"wuhan\", \"mask\", \"coronavirus\", \"buses\", \"piyushgoyal\", \"shut\", \"home\", \"treatrailwayemployeesfrontlineworker\", \"police\", \"want\", \"cases\", \"video\", \"million\", \"spread\", \"railminindia\", \"bus\", \"public\", \"people\", \"coronavirus\", \"stop\", \"going\", \"trains\", \"food\", \"patient\", \"odd\", \"source\", \"breaking\", \"verify\", \"south\", \"demand\", \"level\", \"near\", \"school\", \"policy\", \"test\", \"chicago\", \"following\", \"flight\", \"read\", \"lines\", \"lesser\", \"mungkin\", \"waiting\", \"shuttle\", \"ensure\", \"station\", \"workers\", \"wuhan\", \"home\", \"video\", \"day\", \"work\", \"delhi\", \"ban\", \"wearing\", \"contain\", \"testing\", \"news\", \"express\", \"case\", \"long\", \"migrants\", \"amid\", \"yesterday\", \"march\", \"fight\", \"man\", \"road\", \"save\", \"outbound\", \"wuhancoronavirus\", \"daily\", \"relief\", \"thursday\", \"media\", \"transportation\", \"new\", \"health\", \"army\", \"metropolitan\", \"country\", \"railways\", \"working\", \"passengers\", \"helps\", \"safe\", \"survive\", \"migrant\", \"vaccination\", \"security\", \"major\", \"things\", \"local\", \"big\", \"death\", \"let\", \"departed\", \"house\", \"low\", \"pmindia\", \"shops\", \"got\", \"central\", \"frequency\", \"college\", \"metro\", \"rail\", \"police\", \"million\", \"railminindia\", \"cities\", \"distancing\", \"line\", \"masks\", \"wuhanpneumonia\", \"assault\", \"drivers\", \"subway\", \"quarantine\", \"patients\", \"days\", \"lives\", \"restrictions\", \"hub\", \"toll\", \"told\", \"order\", \"deadly\", \"frontline\", \"away\", \"car\", \"good\", \"look\", \"start\", \"zero\", \"covid\", \"transport\", \"state\", \"like\", \"employees\", \"airport\", \"allowed\", \"help\", \"necessary\", \"ccp\", \"individual\", \"make\", \"staff\", \"say\", \"know\", \"right\", \"confirmed\", \"open\", \"week\", \"think\", \"world\", \"national\", \"given\", \"kids\", \"way\", \"temporarily\", \"combat\", \"close\", \"information\", \"park\", \"chance\", \"railway\", \"virus\", \"buses\", \"piyushgoyal\", \"cases\", \"hospital\", \"free\", \"risk\", \"jan\", \"use\", \"parents\", \"york\", \"nbssnl\", \"morning\", \"emergency\", \"supplies\", \"federal\", \"students\", \"increase\", \"leaving\", \"sector\", \"night\", \"nyc\", \"hands\", \"ang\", \"employee\", \"killed\", \"second\", \"deaths\", \"making\", \"city\", \"shut\", \"today\", \"getting\", \"pmoindia\", \"leave\", \"likely\", \"says\", \"manila\", \"running\", \"govt\", \"said\", \"crisis\", \"positive\", \"indian\", \"situation\", \"driver\", \"water\", \"capital\", \"live\", \"protect\", \"sure\", \"thank\", \"total\", \"wearamask\", \"protective\", \"report\", \"hit\", \"rates\", \"saying\", \"transit\", \"want\", \"oxygen\", \"time\", \"need\", \"service\", \"medical\", \"high\", \"number\", \"areas\", \"update\", \"essential\", \"hospitals\", \"hold\", \"closed\", \"run\", \"face\", \"outside\", \"reports\", \"tested\", \"measures\", \"thousands\", \"really\", \"adds\", \"county\", \"speed\", \"black\", \"tells\", \"using\", \"period\", \"treatrailwayemployeesfrontlineworker\", \"spread\", \"government\", \"year\", \"life\", \"weapons\", \"suspended\", \"tomorrow\", \"hours\", \"services\", \"minister\", \"wtf\", \"london\", \"residents\", \"care\", \"president\", \"warriors\", \"officials\", \"affected\", \"prevent\", \"stations\", \"declared\", \"non\", \"drive\", \"cars\", \"mass\", \"air\", \"cost\", \"infection\", \"citizens\", \"train\", \"mask\", \"locking\", \"respected\", \"area\", \"china\", \"schools\", \"years\", \"place\", \"private\", \"provide\", \"latest\", \"workforce\", \"border\", \"starting\", \"come\", \"law\", \"vaccines\", \"including\", \"gambaran\", \"message\", \"mumbai\", \"pay\", \"facilities\", \"reduced\", \"grocery\", \"possible\", \"despite\", \"step\", \"cancelled\", \"real\"], \"Freq\": [441.0, 360.0, 341.0, 340.0, 278.0, 259.0, 267.0, 251.0, 199.0, 179.0, 145.0, 138.0, 126.0, 123.0, 119.0, 125.0, 114.0, 125.0, 115.0, 101.0, 98.0, 92.0, 87.0, 92.0, 84.0, 85.0, 87.0, 84.0, 80.0, 84.0, 341.05598478994995, 339.2598667019406, 277.3543140501305, 124.77020540129213, 61.12083436488818, 50.65792405752422, 48.04219648068218, 47.17028728840135, 42.81074132699598, 41.06692294243327, 41.066922942433294, 39.0142342508451, 38.45119536558829, 36.41240154102991, 29.7321034427613, 25.372557481338035, 25.372557481338035, 25.372557481338035, 24.50064828905214, 22.756829904478753, 21.88492071219109, 21.884920712191093, 21.01301151990272, 20.141102327613527, 20.141102327613524, 18.397283943032168, 18.397283943032164, 18.397283943032168, 17.5253747507397, 15.78155636615018, 359.15606861720954, 178.23270673960874, 124.41960423241729, 91.94618030565697, 86.37930763249706, 72.46212594959503, 72.46212594959498, 64.11181693985161, 54.83369581791154, 54.587443745456056, 48.339011032550516, 46.483386808161065, 42.772138359381174, 40.916514134990585, 37.20526568620793, 30.795422131603598, 28.854956676435823, 26.999332452038868, 26.999332452038868, 26.071520339839797, 23.288084003239394, 22.36027189103804, 22.36027189103804, 21.43245977883592, 20.50464766663293, 20.50464766663293, 19.576835554428957, 19.576835554428957, 18.649023442223843, 17.72121133001741, 266.5442008226804, 144.92354492081353, 74.98746740464574, 60.43896715688726, 59.51056520343685, 57.65376129653581, 46.51293785512525, 46.512937855125195, 43.72773199477098, 42.799330041319415, 41.589957893355155, 40.94252613441583, 38.15732027405964, 38.15732027405964, 35.37211441370204, 31.658506599889233, 31.65850659988924, 30.730104646435464, 27.016496832617037, 27.01649683261703, 27.016496832617037, 26.08809487916146, 26.088094879161456, 26.088094879161446, 26.088094879161467, 26.088094879161446, 24.231290972248853, 23.302889018791696, 23.302889018791692, 22.37448706533384, 198.82841776050952, 137.82803693073598, 91.53011628746945, 84.06588661977712, 83.13285791131541, 81.26680049439223, 74.73559953516046, 74.73559953516046, 73.80257082669858, 65.4053124505416, 49.54382440668213, 48.610795698219306, 47.67776698975644, 38.347479905122555, 37.41445119665849, 34.615365071265245, 34.615365071265245, 32.74930765433545, 29.950221528938922, 29.950221528938922, 29.017192820472832, 27.151135403539556, 26.218106695072297, 25.285077986604577, 23.419020569667495, 23.419020569667484, 23.419020569667477, 22.48599186119798, 20.6199344442566, 20.619934444256607, 23.458348037378613, 441.02092742987327, 74.1333065905314, 71.90211040739983, 60.844365586173666, 57.99673537095324, 57.99673537095324, 50.40305479703024, 50.40305479703024, 44.70779436658524, 44.70779436658519, 44.70779436658524, 44.70779436658519, 42.80937422310282, 39.96174400787838, 38.063323864394796, 36.16490372091055, 34.926492072148676, 31.81435935604642, 31.418853362196465, 30.46964329045291, 28.571223146964847, 26.67280300347524, 25.723592931729797, 23.82517278823728, 22.87596271649008, 20.977542572993404, 20.028332501243675, 20.028332501243675, 20.02833250124367, 17.180702285987156, 259.06154583764743, 125.14907819982679, 114.3179227291188, 100.53281576639837, 84.77840780900154, 47.3616889101611, 44.40773741814423, 44.40773741814423, 38.49983443410745, 36.53053343942736, 31.607280952723503, 31.607280952723503, 28.653329460697844, 26.684028466012137, 26.40252175179057, 25.699377968668607, 24.7147274713245, 24.7147274713245, 23.730076973979763, 23.730076973979763, 23.730076973979763, 22.745426476634343, 22.745426476634346, 21.76077597928813, 20.77612548194101, 19.79147498459284, 19.79147498459284, 18.806824487243432, 17.822173989892608, 17.822173989892608, 250.5320450066999, 98.07605795414334, 78.28270619514548, 65.41702755179304, 65.41702755179304, 56.510019260238266, 56.51001926023829, 56.510019260238266, 54.53068408433667, 54.53068408433667, 50.57201373253277, 50.57201373253277, 42.654673028921266, 42.05965266653005, 38.37205050030846, 29.78899438553297, 28.799326797578242, 27.809659209623117, 25.830324033711523, 25.830324033711523, 25.830324033711523, 25.830324033711523, 24.840656445754927, 24.840656445754927, 24.840656445754927, 23.850988857797738, 23.850988857797738, 20.567853269248268, 19.89231850596088, 19.892318505960883, 122.29727195339504, 83.98229259111076, 71.55581279793354, 71.54831259845298, 63.271492935813406, 63.271492935813406, 60.16487298751769, 53.77636048307603, 48.773933177095984, 44.63177324603127, 44.63177324603127, 42.33443824905055, 41.52515329773155, 40.48961331496473, 38.418533349430575, 38.418533349430575, 37.38299336666323, 33.24083343559179, 31.16975347005448, 30.13421348728537, 28.06313352174594, 27.027593538975562, 23.920973590661024, 22.88543360788813, 22.88543360788813, 22.352995238792115, 21.84989362511436, 20.814353642339604, 20.814353642339604, 19.778813659563713, 86.84813349661401, 79.53240624567383, 77.44219845969099, 66.24768894856543, 62.81074395780683, 56.5401205998543, 53.404808920877166, 46.08908166992836, 40.86356220496182, 39.81845831196814, 38.77335441897427, 38.77335441897427, 35.63804273999151, 35.638042739991526, 35.61506048825066, 30.412523275015364, 30.412523275015364, 30.164181101342578, 29.367419382019193, 29.367419382019197, 29.36741938201919, 28.322315489022568, 26.940432160034693, 26.23210770302793, 26.006075035216046, 24.141899917030976, 22.051692131031007, 22.051692131031007, 22.051692131031007, 21.47480392408823, 118.86077804671915, 113.167563237086, 61.08866269930388, 48.25041484431088, 45.04085288056082, 40.761436928892365, 40.761436928892365, 39.69158294097493, 37.55187496513943, 37.55187496513943, 31.13275103762752, 27.923189073867135, 27.92318907386714, 26.853335085946064, 26.85333508594606, 25.783481098024435, 25.783481098024435, 25.783481098024435, 23.64377312217921, 22.57391913425543, 22.57391913425543, 22.573919134255416, 22.57391913425543, 21.504065146330674, 21.504065146330674, 20.43421115840482, 20.43421115840482, 20.43421115840481, 20.43421115840481, 19.364357170477675, 21.504451938593387], \"Total\": [441.0, 360.0, 341.0, 340.0, 278.0, 259.0, 267.0, 251.0, 199.0, 179.0, 145.0, 138.0, 126.0, 123.0, 119.0, 125.0, 114.0, 125.0, 115.0, 101.0, 98.0, 92.0, 87.0, 92.0, 84.0, 85.0, 87.0, 84.0, 80.0, 84.0, 341.9423119081888, 340.14619359709366, 278.24064094528717, 125.65653229647296, 62.007161260114955, 51.54425095276967, 48.928523375933594, 48.0566141836549, 43.69706822226149, 41.95324983770429, 41.95324983770431, 39.90056207756194, 39.33752226086851, 37.29872932621042, 30.618430338084032, 26.258884376693135, 26.258884376693135, 26.258884376693135, 25.386975184415117, 23.64315679985931, 22.771247607581515, 22.77124760758152, 21.899338415303838, 21.02742922302628, 21.027429223026278, 19.283610838471553, 19.28361083847155, 19.283610838471553, 18.41170164619443, 16.6678832616408, 360.0368052180985, 179.11344334051174, 125.3003408333324, 92.82691690658626, 87.26004423342991, 73.34286255053902, 73.34286255053897, 64.99255354080461, 55.71443241887781, 55.468180816301555, 49.21974763352914, 47.36412340914386, 43.65287496037339, 41.79725073598818, 38.086002287217866, 31.67616288518183, 29.735693277485275, 27.88006905310047, 27.88006905310047, 26.952256940908132, 24.168820604331195, 23.24100849213898, 23.24100849213898, 22.31319637994681, 21.38538426775468, 21.38538426775468, 20.457572155562623, 20.457572155562623, 19.52976004337063, 18.601947931178714, 267.42487843942394, 145.80422253757274, 75.8681465836405, 61.31964477369475, 60.39124282024564, 58.534438913347316, 47.393615471957666, 47.39361547195761, 44.6084096116103, 43.68000765816124, 42.47063597116323, 41.823203751263, 39.03799789091584, 39.03799789091584, 36.252792030568685, 32.53918421677269, 32.539184216772696, 31.610782263323767, 27.897174449528112, 27.897174449528105, 27.897174449528112, 26.96877249607926, 26.968772496079254, 26.968772496079247, 26.968772496079268, 26.968772496079247, 25.11196858918166, 24.183566635732916, 24.183566635732912, 23.25516468228418, 199.7086327016017, 138.70825211127442, 92.41033122859082, 84.94610156090329, 84.01307285244225, 82.14701543552044, 75.61581447629403, 75.61581447629403, 74.68278576783298, 66.28552739168468, 50.424039347849636, 49.491010639388755, 48.557981930927916, 39.227694846319615, 38.29466613785882, 35.495580012476445, 35.495580012476445, 33.629522595554945, 30.830436470172817, 30.830436470172817, 29.897407761712152, 28.03135034479086, 27.09832163633024, 26.16529292786966, 24.299235510948588, 24.299235510948577, 24.29923551094857, 23.366206802488097, 21.500149385567244, 21.50014938556725, 30.34456741168223, 441.89952431534795, 75.01190339479038, 72.78070750447877, 61.722962390446966, 58.87533217523047, 58.87533217523047, 51.281651601320135, 51.281651601320135, 45.586391170887474, 45.586391170887424, 45.586391170887474, 45.586391170887424, 43.687971027409915, 40.84034081219362, 38.94192066871614, 37.04350052523867, 35.805091138485984, 32.69295728119896, 32.29745016654512, 31.34824009480644, 29.449819951329133, 27.551399807851833, 26.60218973611323, 24.70376959263606, 23.75455952089751, 21.856139377420508, 20.906929305682045, 20.906929305682045, 20.90692930568204, 18.05929909046696, 259.93659859822907, 126.02413096042733, 115.19297548972283, 101.40786852700789, 85.65346056961957, 48.23674167082223, 45.28279017881187, 45.28279017881187, 39.37488719479117, 37.40558620011761, 32.482333713433675, 32.482333713433675, 29.52838222142329, 27.559081226749672, 27.277575428247292, 26.574430729412903, 25.589780232076095, 25.589780232076095, 24.60512973473927, 24.60512973473927, 24.60512973473927, 23.620479237402463, 23.620479237402467, 22.63582874006565, 21.651178242728843, 20.66652774539203, 20.66652774539203, 19.6818772480552, 18.69722675071837, 18.69722675071837, 251.40659735847865, 98.95060900557228, 79.15725724658624, 66.29157860324533, 66.29157860324533, 57.38457031170164, 57.38457031170166, 57.38457031170164, 55.405235135803004, 55.405235135803004, 51.44656478400571, 51.44656478400571, 43.52922408041116, 42.93420371787764, 39.24660195566632, 30.663545437069878, 29.673877849120533, 28.684210261171174, 26.704875085272466, 26.704875085272466, 26.704875085272466, 26.704875085272466, 25.71520749732309, 25.71520749732309, 25.71520749732309, 24.725539909373733, 24.725539909373733, 21.442405410199857, 20.766869557576154, 20.766869557576157, 123.16723576420029, 84.85225640193211, 72.42577660876384, 72.41827640894456, 64.14145674665164, 64.14145674665164, 61.034836798359464, 54.646324292653375, 49.64389698795464, 45.50173705689822, 45.50173705689822, 43.20440435849664, 42.39511710860582, 41.35957712584168, 39.288497160313355, 39.288497160313355, 38.25295717754917, 34.11079724649233, 32.039717280963806, 31.004177298199547, 28.933097332670904, 27.89755734990655, 24.790937401613267, 23.755397418848766, 23.755397418848766, 23.222959046347274, 22.719857436084187, 21.684317453319572, 21.684317453319572, 20.648777470554894, 87.71714091618057, 80.4014136652449, 78.31120587926351, 67.11669707269886, 63.67975137739222, 57.40912801944726, 54.27381634047458, 46.95808908953855, 41.73256962458396, 40.68746573159306, 39.6423618386021, 39.6423618386021, 36.50705015962915, 36.507050159629166, 36.48406952745911, 31.281530694673894, 31.281530694673894, 31.033191297253605, 30.236426801682807, 30.23642680168281, 30.236426801682804, 29.191322908691646, 27.809443584017732, 27.101115122709263, 26.87508294280704, 25.010907336726724, 22.920699550743954, 22.920699550743954, 22.920699550743954, 22.343811343531353, 119.72731045620871, 114.03409579806011, 61.955195108826274, 49.116947253851336, 45.90738529010741, 41.627969338448665, 41.627969338448665, 40.55811535053399, 38.41840737470448, 38.41840737470448, 31.999283447215547, 28.78972148347067, 28.789721483470675, 27.719867495555608, 27.719867495555604, 26.65001350764049, 26.65001350764049, 26.65001350764049, 24.510305531810094, 23.440451543894802, 23.440451543894802, 23.44045154389479, 23.440451543894802, 22.370597555979398, 22.370597555979398, 21.300743568063893, 21.300743568063893, 21.300743568063883, 21.300743568063883, 20.230889580148265, 29.323924447538474], \"Category\": [\"Default\", \"Default\", \"Default\", \"Default\", \"Default\", \"Default\", \"Default\", \"Default\", \"Default\", \"Default\", \"Default\", \"Default\", \"Default\", \"Default\", \"Default\", \"Default\", \"Default\", \"Default\", \"Default\", \"Default\", \"Default\", \"Default\", \"Default\", \"Default\", \"Default\", \"Default\", \"Default\", \"Default\", \"Default\", \"Default\", \"Topic1\", \"Topic1\", \"Topic1\", \"Topic1\", \"Topic1\", \"Topic1\", \"Topic1\", \"Topic1\", \"Topic1\", \"Topic1\", \"Topic1\", \"Topic1\", \"Topic1\", \"Topic1\", \"Topic1\", \"Topic1\", \"Topic1\", \"Topic1\", \"Topic1\", \"Topic1\", \"Topic1\", \"Topic1\", \"Topic1\", \"Topic1\", \"Topic1\", \"Topic1\", \"Topic1\", \"Topic1\", \"Topic1\", \"Topic1\", \"Topic2\", \"Topic2\", \"Topic2\", \"Topic2\", \"Topic2\", \"Topic2\", \"Topic2\", \"Topic2\", \"Topic2\", \"Topic2\", \"Topic2\", \"Topic2\", \"Topic2\", \"Topic2\", \"Topic2\", \"Topic2\", \"Topic2\", \"Topic2\", \"Topic2\", \"Topic2\", \"Topic2\", \"Topic2\", \"Topic2\", \"Topic2\", \"Topic2\", \"Topic2\", \"Topic2\", \"Topic2\", \"Topic2\", \"Topic2\", \"Topic3\", \"Topic3\", \"Topic3\", \"Topic3\", \"Topic3\", \"Topic3\", \"Topic3\", \"Topic3\", \"Topic3\", \"Topic3\", \"Topic3\", \"Topic3\", \"Topic3\", \"Topic3\", \"Topic3\", \"Topic3\", \"Topic3\", \"Topic3\", \"Topic3\", \"Topic3\", \"Topic3\", \"Topic3\", \"Topic3\", \"Topic3\", \"Topic3\", \"Topic3\", \"Topic3\", \"Topic3\", \"Topic3\", \"Topic3\", \"Topic4\", \"Topic4\", \"Topic4\", \"Topic4\", \"Topic4\", \"Topic4\", \"Topic4\", \"Topic4\", \"Topic4\", \"Topic4\", \"Topic4\", \"Topic4\", \"Topic4\", \"Topic4\", \"Topic4\", \"Topic4\", \"Topic4\", \"Topic4\", \"Topic4\", \"Topic4\", \"Topic4\", \"Topic4\", \"Topic4\", \"Topic4\", \"Topic4\", \"Topic4\", \"Topic4\", \"Topic4\", \"Topic4\", \"Topic4\", \"Topic4\", \"Topic5\", \"Topic5\", \"Topic5\", \"Topic5\", \"Topic5\", \"Topic5\", \"Topic5\", \"Topic5\", \"Topic5\", \"Topic5\", \"Topic5\", \"Topic5\", \"Topic5\", \"Topic5\", \"Topic5\", \"Topic5\", \"Topic5\", \"Topic5\", \"Topic5\", \"Topic5\", \"Topic5\", \"Topic5\", \"Topic5\", \"Topic5\", \"Topic5\", \"Topic5\", \"Topic5\", \"Topic5\", \"Topic5\", \"Topic5\", \"Topic6\", \"Topic6\", \"Topic6\", \"Topic6\", \"Topic6\", \"Topic6\", \"Topic6\", \"Topic6\", \"Topic6\", \"Topic6\", \"Topic6\", \"Topic6\", \"Topic6\", \"Topic6\", \"Topic6\", \"Topic6\", \"Topic6\", \"Topic6\", \"Topic6\", \"Topic6\", \"Topic6\", \"Topic6\", \"Topic6\", \"Topic6\", \"Topic6\", \"Topic6\", \"Topic6\", \"Topic6\", \"Topic6\", \"Topic6\", \"Topic7\", \"Topic7\", \"Topic7\", \"Topic7\", \"Topic7\", \"Topic7\", \"Topic7\", \"Topic7\", \"Topic7\", \"Topic7\", \"Topic7\", \"Topic7\", \"Topic7\", \"Topic7\", \"Topic7\", \"Topic7\", \"Topic7\", \"Topic7\", \"Topic7\", \"Topic7\", \"Topic7\", \"Topic7\", \"Topic7\", \"Topic7\", \"Topic7\", \"Topic7\", \"Topic7\", \"Topic7\", \"Topic7\", \"Topic7\", \"Topic8\", \"Topic8\", \"Topic8\", \"Topic8\", \"Topic8\", \"Topic8\", \"Topic8\", \"Topic8\", \"Topic8\", \"Topic8\", \"Topic8\", \"Topic8\", \"Topic8\", \"Topic8\", \"Topic8\", \"Topic8\", \"Topic8\", \"Topic8\", \"Topic8\", \"Topic8\", \"Topic8\", \"Topic8\", \"Topic8\", \"Topic8\", \"Topic8\", \"Topic8\", \"Topic8\", \"Topic8\", \"Topic8\", \"Topic8\", \"Topic9\", \"Topic9\", \"Topic9\", \"Topic9\", \"Topic9\", \"Topic9\", \"Topic9\", \"Topic9\", \"Topic9\", \"Topic9\", \"Topic9\", \"Topic9\", \"Topic9\", \"Topic9\", \"Topic9\", \"Topic9\", \"Topic9\", \"Topic9\", \"Topic9\", \"Topic9\", \"Topic9\", \"Topic9\", \"Topic9\", \"Topic9\", \"Topic9\", \"Topic9\", \"Topic9\", \"Topic9\", \"Topic9\", \"Topic9\", \"Topic10\", \"Topic10\", \"Topic10\", \"Topic10\", \"Topic10\", \"Topic10\", \"Topic10\", \"Topic10\", \"Topic10\", \"Topic10\", \"Topic10\", \"Topic10\", \"Topic10\", \"Topic10\", \"Topic10\", \"Topic10\", \"Topic10\", \"Topic10\", \"Topic10\", \"Topic10\", \"Topic10\", \"Topic10\", \"Topic10\", \"Topic10\", \"Topic10\", \"Topic10\", \"Topic10\", \"Topic10\", \"Topic10\", \"Topic10\", \"Topic10\"], \"logprob\": [30.0, 29.0, 28.0, 27.0, 26.0, 25.0, 24.0, 23.0, 22.0, 21.0, 20.0, 19.0, 18.0, 17.0, 16.0, 15.0, 14.0, 13.0, 12.0, 11.0, 10.0, 9.0, 8.0, 7.0, 6.0, 5.0, 4.0, 3.0, 2.0, 1.0, -1.9348, -1.9401, -2.1416, -2.9404, -3.654, -3.8418, -3.8948, -3.9131, -4.0101, -4.0517, -4.0517, -4.1029, -4.1175, -4.172, -4.3746, -4.5332, -4.5332, -4.5332, -4.5682, -4.642, -4.6811, -4.6811, -4.7217, -4.7641, -4.7641, -4.8547, -4.8547, -4.8547, -4.9032, -5.008, -1.8056, -2.5062, -2.8657, -3.1681, -3.2306, -3.4063, -3.4063, -3.5287, -3.685, -3.6895, -3.8111, -3.8502, -3.9334, -3.9778, -4.0729, -4.262, -4.327, -4.3935, -4.3935, -4.4285, -4.5414, -4.582, -4.582, -4.6244, -4.6687, -4.6687, -4.715, -4.715, -4.7635, -4.8146, -2.1028, -2.7121, -3.371, -3.5867, -3.6022, -3.6339, -3.8486, -3.8486, -3.9103, -3.9318, -3.9605, -3.9762, -4.0466, -4.0466, -4.1224, -4.2333, -4.2333, -4.2631, -4.3919, -4.3919, -4.3919, -4.4269, -4.4269, -4.4269, -4.4269, -4.4269, -4.5007, -4.5398, -4.5398, -4.5804, -2.3905, -2.757, -3.1663, -3.2514, -3.2625, -3.2852, -3.369, -3.369, -3.3816, -3.5024, -3.7801, -3.7991, -3.8185, -4.0363, -4.0609, -4.1387, -4.1387, -4.1941, -4.2834, -4.2834, -4.3151, -4.3816, -4.4165, -4.4528, -4.5294, -4.5294, -4.5294, -4.5701, -4.6567, -4.6567, -4.5277, -1.5742, -3.3574, -3.388, -3.555, -3.6029, -3.6029, -3.7432, -3.7432, -3.8631, -3.8631, -3.8631, -3.8631, -3.9065, -3.9754, -4.024, -4.0752, -4.11, -4.2034, -4.2159, -4.2466, -4.3109, -4.3796, -4.4159, -4.4925, -4.5332, -4.6198, -4.6661, -4.6661, -4.6661, -4.8195, -2.0667, -2.7943, -2.8848, -3.0133, -3.1838, -3.766, -3.8304, -3.8304, -3.9732, -4.0257, -4.1704, -4.1704, -4.2685, -4.3397, -4.3503, -4.3773, -4.4164, -4.4164, -4.4571, -4.4571, -4.4571, -4.4994, -4.4994, -4.5437, -4.59, -4.6386, -4.6386, -4.6896, -4.7434, -4.7434, -2.0965, -3.0343, -3.2597, -3.4393, -3.4393, -3.5857, -3.5857, -3.5857, -3.6213, -3.6213, -3.6967, -3.6967, -3.8669, -3.881, -3.9727, -4.2259, -4.2597, -4.2947, -4.3685, -4.3685, -4.3685, -4.3685, -4.4076, -4.4076, -4.4076, -4.4482, -4.4482, -4.5963, -4.6297, -4.6297, -2.7718, -3.1476, -3.3077, -3.3079, -3.4308, -3.4308, -3.4811, -3.5934, -3.691, -3.7798, -3.7798, -3.8326, -3.8519, -3.8772, -3.9297, -3.9297, -3.957, -4.0744, -4.1388, -4.1726, -4.2438, -4.2814, -4.4035, -4.4477, -4.4477, -4.4713, -4.494, -4.5426, -4.5426, -4.5936, -3.1046, -3.1926, -3.2192, -3.3754, -3.4286, -3.5338, -3.5909, -3.7382, -3.8585, -3.8844, -3.911, -3.911, -3.9954, -3.9954, -3.996, -4.1539, -4.1539, -4.1621, -4.1889, -4.1889, -4.1889, -4.2251, -4.2751, -4.3018, -4.3104, -4.3848, -4.4754, -4.4754, -4.4754, -4.5019, -2.7665, -2.8156, -3.4321, -3.6681, -3.7369, -3.8367, -3.8367, -3.8633, -3.9187, -3.9187, -4.1062, -4.215, -4.215, -4.2541, -4.2541, -4.2947, -4.2947, -4.2947, -4.3814, -4.4277, -4.4277, -4.4277, -4.4277, -4.4762, -4.4762, -4.5273, -4.5273, -4.5273, -4.5273, -4.581, -4.4762], \"loglift\": [30.0, 29.0, 28.0, 27.0, 26.0, 25.0, 24.0, 23.0, 22.0, 21.0, 20.0, 19.0, 18.0, 17.0, 16.0, 15.0, 14.0, 13.0, 12.0, 11.0, 10.0, 9.0, 8.0, 7.0, 6.0, 5.0, 4.0, 3.0, 2.0, 1.0, 2.1778, 2.1778, 2.1772, 2.1734, 2.166, 2.1631, 2.1622, 2.1618, 2.1599, 2.1591, 2.1591, 2.158, 2.1576, 2.1564, 2.1511, 2.1461, 2.1461, 2.1461, 2.1449, 2.1422, 2.1407, 2.1407, 2.1391, 2.1374, 2.1374, 2.1334, 2.1334, 2.1334, 2.1311, 2.1258, 2.2555, 2.2531, 2.2509, 2.2484, 2.2478, 2.2459, 2.2459, 2.2443, 2.242, 2.242, 2.2399, 2.2392, 2.2376, 2.2367, 2.2346, 2.2298, 2.2279, 2.2259, 2.2259, 2.2248, 2.2209, 2.2193, 2.2193, 2.2177, 2.2159, 2.2159, 2.214, 2.214, 2.2118, 2.2095, 2.2557, 2.2529, 2.2473, 2.2445, 2.2443, 2.2438, 2.2402, 2.2402, 2.239, 2.2386, 2.238, 2.2377, 2.2362, 2.2362, 2.2344, 2.2315, 2.2315, 2.2307, 2.2269, 2.2269, 2.2269, 2.2258, 2.2258, 2.2258, 2.2258, 2.2258, 2.2233, 2.2219, 2.2219, 2.2204, 2.2599, 2.258, 2.2548, 2.2539, 2.2538, 2.2536, 2.2526, 2.2526, 2.2525, 2.251, 2.2467, 2.2464, 2.246, 2.2416, 2.2411, 2.2392, 2.2392, 2.2378, 2.2354, 2.2354, 2.2344, 2.2324, 2.2313, 2.2301, 2.2274, 2.2274, 2.2274, 2.2259, 2.2225, 2.2225, 2.0069, 2.282, 2.2722, 2.2719, 2.2697, 2.269, 2.269, 2.2667, 2.2667, 2.2645, 2.2645, 2.2645, 2.2645, 2.2637, 2.2623, 2.2612, 2.26, 2.2592, 2.2568, 2.2564, 2.2556, 2.2537, 2.2516, 2.2504, 2.2478, 2.2463, 2.243, 2.2411, 2.2411, 2.2411, 2.2341, 2.3201, 2.3165, 2.3159, 2.3148, 2.3132, 2.3052, 2.304, 2.304, 2.301, 2.2998, 2.2962, 2.2962, 2.2934, 2.2912, 2.2909, 2.29, 2.2887, 2.2887, 2.2873, 2.2873, 2.2873, 2.2857, 2.2857, 2.2841, 2.2822, 2.2802, 2.2802, 2.278, 2.2756, 2.2756, 2.3237, 2.3184, 2.3161, 2.3139, 2.3139, 2.3119, 2.3119, 2.3119, 2.3113, 2.3113, 2.3101, 2.3101, 2.3069, 2.3066, 2.3047, 2.2983, 2.2973, 2.2963, 2.2939, 2.2939, 2.2939, 2.2939, 2.2926, 2.2926, 2.2926, 2.2912, 2.2912, 2.2856, 2.2842, 2.2842, 2.362, 2.3588, 2.357, 2.357, 2.3554, 2.3554, 2.3547, 2.353, 2.3514, 2.3498, 2.3498, 2.3487, 2.3483, 2.3478, 2.3467, 2.3467, 2.3461, 2.3432, 2.3415, 2.3406, 2.3385, 2.3374, 2.3333, 2.3318, 2.3318, 2.3309, 2.33, 2.3281, 2.3281, 2.326, 2.3686, 2.3677, 2.3674, 2.3655, 2.3648, 2.3633, 2.3624, 2.3598, 2.3575, 2.3569, 2.3564, 2.3564, 2.3544, 2.3544, 2.3544, 2.3504, 2.3504, 2.3501, 2.3494, 2.3494, 2.3494, 2.3483, 2.3468, 2.3459, 2.3457, 2.3432, 2.3399, 2.3399, 2.3399, 2.3389, 2.3956, 2.3952, 2.3887, 2.385, 2.3838, 2.3818, 2.3818, 2.3812, 2.38, 2.38, 2.3754, 2.3723, 2.3723, 2.3711, 2.3711, 2.3698, 2.3698, 2.3698, 2.3668, 2.3652, 2.3652, 2.3652, 2.3652, 2.3633, 2.3633, 2.3613, 2.3613, 2.3613, 2.3613, 2.3591, 2.0927]}, \"token.table\": {\"Topic\": [8, 9, 9, 5, 5, 2, 6, 10, 8, 3, 4, 4, 2, 3, 8, 10, 1, 1, 6, 10, 7, 4, 9, 9, 2, 6, 5, 3, 5, 1, 10, 4, 9, 7, 5, 8, 3, 5, 10, 5, 2, 1, 9, 3, 8, 4, 7, 7, 2, 2, 4, 4, 3, 6, 9, 2, 1, 3, 10, 4, 9, 7, 4, 6, 6, 5, 1, 8, 2, 8, 10, 6, 2, 1, 1, 1, 6, 3, 4, 10, 7, 5, 1, 4, 3, 9, 7, 10, 6, 3, 5, 3, 8, 7, 8, 2, 6, 8, 9, 3, 4, 10, 6, 7, 5, 9, 5, 6, 5, 6, 5, 10, 10, 7, 6, 1, 3, 1, 9, 5, 7, 4, 1, 7, 4, 3, 10, 9, 2, 4, 3, 3, 5, 6, 2, 7, 2, 10, 4, 9, 8, 2, 8, 10, 4, 3, 3, 2, 4, 9, 6, 10, 1, 5, 6, 1, 5, 8, 3, 2, 6, 9, 8, 6, 1, 9, 5, 4, 2, 8, 8, 6, 5, 3, 1, 4, 10, 1, 8, 6, 10, 3, 7, 4, 1, 7, 10, 9, 9, 10, 7, 7, 10, 1, 4, 4, 4, 6, 3, 7, 1, 8, 10, 8, 10, 2, 7, 8, 9, 10, 4, 5, 6, 2, 8, 7, 3, 7, 2, 5, 7, 7, 1, 10, 6, 6, 3, 8, 9, 3, 7, 1, 7, 1, 1, 8, 9, 5, 4, 10, 5, 2, 9, 10, 1, 6, 4, 6, 7, 3, 9, 8, 5, 1, 8, 2, 7, 3, 5, 8, 2, 8, 7, 4, 4, 9, 7, 10, 1, 8, 5, 3, 9, 8, 6, 8, 3, 10, 1, 2, 6, 1, 8, 9, 7, 5, 9, 7, 2, 5, 2, 2, 10, 3, 5, 9, 2, 2, 4, 9, 10, 2, 6, 4], \"Freq\": [0.9682010195186466, 0.9591080384665692, 0.959831088544849, 0.9851324460875189, 0.9851324460875189, 0.9684337563359585, 0.9699241198133164, 0.9802344375665641, 0.9889732329060137, 0.9784792495363435, 0.9915905319499613, 0.9465318359352011, 0.9871768877854395, 0.9678399527109353, 0.9683159351633566, 0.9740306299923321, 0.9774298398150042, 0.9972442371845406, 0.9896436784912352, 0.9391579112093971, 0.9736050034676552, 0.9465318359352015, 0.9867320303428655, 0.9674388747127104, 0.9714855269128012, 0.9923708795269465, 0.9871367055863383, 0.9510590537136027, 0.9413432888419164, 0.966130638914807, 0.9849147256417177, 0.9860370406710544, 0.939857559533128, 0.9983827100690644, 0.9566206355595434, 0.9672042136135737, 0.9460264117914259, 0.9608284261627201, 0.9756092616067855, 0.9718304018129251, 0.97521832816757, 0.9947751837132992, 0.959831088544849, 0.9908696671007903, 0.9682010195186466, 0.7579610441619057, 0.19772896804223627, 0.9878420970832484, 0.9776331154018095, 0.9816906171392794, 0.9860382613186698, 0.95946901616011, 0.9678399527109355, 0.9627096167782432, 0.959189142868995, 0.9847281959743057, 0.9798020234461591, 0.9640779907124026, 0.938934358610181, 0.9918560094795105, 0.9593701175127444, 0.9772905363920777, 0.9900787914199923, 0.9531638934843051, 0.9677484406861406, 0.9882869784202247, 0.9599299292443537, 0.9721231116044821, 0.9809257613371749, 0.9672454819183356, 0.9834337212024834, 0.9769525089028775, 0.9516393197886646, 0.9589330783310168, 0.9661306389148069, 0.9780131371798915, 0.971671573819846, 0.9510590537136028, 0.9554641741989266, 0.9812097670955694, 0.9805167016616784, 0.979986504798399, 0.9894410929888501, 0.9465318359352017, 0.9557195770919886, 0.9832564718606802, 0.9913198328035978, 0.9389343586101805, 0.9719105164044545, 0.9885571663111157, 0.9750075989891257, 0.9844320618374667, 0.9881725934723067, 0.9793677340887599, 0.9671278765325623, 0.9910918413091495, 0.9743610030863608, 0.9906801269685463, 0.9824460935146343, 0.9640779907124029, 0.9730643946291118, 0.979179960398788, 0.9754063587039371, 0.9682366907312254, 0.9871367055863394, 0.959831088544849, 0.9566206355595434, 0.9650821299375544, 0.9773631516019248, 0.9677484406861406, 0.9794237561322525, 0.9725693253432798, 0.9756092616067855, 0.9932983673204708, 0.9754063587039371, 0.9334351408963979, 0.9678399527109353, 0.9520587257769985, 0.989325470613669, 0.9892731531301654, 0.9932983673204705, 0.9918560094795105, 0.9511386193657386, 0.9736050034676552, 0.9860382613186698, 0.9806780402257738, 0.9845824856632532, 0.9861108975550738, 0.9786538891205746, 0.9415306551877894, 0.9640779907124031, 0.983429694697301, 0.9871367055863383, 0.9627096167782432, 0.9466026402185285, 0.9926859775107941, 0.9646687495226867, 0.990931696429712, 0.9908575214379982, 0.9595813409279127, 0.9677498291336661, 0.9676405969199715, 0.983045145155737, 0.9812097670955694, 0.9964516671512117, 0.9935215305733951, 0.9734105756699838, 0.9752589162586529, 0.9888623310132135, 0.9837960754907243, 0.979713357562624, 0.9812097670955701, 0.9334351408963981, 0.9847258845020942, 0.9821059542828615, 0.9520587257769985, 0.9750075989891257, 0.9822040719910649, 0.9944842301301288, 0.9850439412990314, 0.9737313019280341, 0.9708932118123024, 0.9870296848752451, 0.973731301928034, 0.977278283770818, 0.966706894970707, 0.9775146183716703, 0.9632072543025914, 0.9819790814637934, 0.9674356117077693, 0.9941212006456784, 0.9851508910138991, 0.9566206355595435, 0.9863611005882633, 0.9840477118804422, 0.9661919983008055, 0.9812097670955694, 0.9955411224576243, 0.9685803446969173, 0.9959779400461487, 0.9891091952192697, 0.9640779907124023, 0.9805167016616784, 0.9955596823089422, 0.9847569400606387, 0.9782410377512455, 0.9389343586101805, 0.9590323533978441, 0.9591080384665691, 0.9891091952192697, 0.9736050034676552, 0.9706562561613196, 0.9687716930016913, 0.9966302912727834, 0.9687033650300051, 0.9948939439399305, 0.9879414855564017, 0.9963968190578784, 0.9916947574470117, 0.9630724527136838, 0.9511386193657384, 0.23871293259274504, 0.7502406452914844, 0.9680957041357461, 0.9834337212024834, 0.9776331154018095, 0.9706562561613196, 0.9675491118774151, 0.9861108975550733, 0.9772594325115808, 0.9812806561923019, 0.9758121671314268, 0.971671573819846, 0.9466026402185285, 0.9672042136135737, 0.9926859775107941, 0.9889185560705334, 0.9913198328035978, 0.9411470970995891, 0.9842526212311787, 0.9630724527136836, 0.9932983673204708, 0.9520587257769985, 0.9849147256417177, 0.9653550705828846, 0.9754063587039371, 0.9654428814886225, 0.9822040719910649, 0.9831037465904578, 0.9640779907124031, 0.9903930959584216, 0.9776391311294398, 0.978360446334177, 0.9772782837708175, 0.9651803332265858, 0.9473383626993205, 0.9950073805055691, 0.9871367055863394, 0.9767373995130012, 0.9740306299923323, 0.9865100957448754, 0.9971202799184088, 0.9591080384665694, 0.938934358610181, 0.9837573396419488, 0.9769525089028775, 0.9885089555055722, 0.9783840814780985, 0.9736050034676552, 0.9803170566234266, 0.9765298181265976, 0.9684418264585583, 0.9682351710106979, 0.9727973381345111, 0.9676115483232687, 0.9711992261028416, 0.9721873721066594, 0.9834296946973008, 0.9598280929344365, 0.9678266688854192, 0.9728742164678845, 0.9942241595673644, 0.9853802760878738, 0.9699837601686188, 0.9730643946291118, 0.9795969319000251, 0.9721873721066594, 0.9939252752489188, 0.9810228612705221, 0.9905231634293156, 0.9979644143841485, 0.998411223211904, 0.9918243924882841, 0.9889732329060137, 0.989157068734393, 0.9684418264585583, 0.9734105756699838, 0.9756092616067855, 0.9659988178208411, 0.9855598946287587, 0.9918735328494436, 0.9334351408963979, 0.989955996009168, 0.9590323533978441, 0.9761467980139106, 0.9715116516936003, 0.9928734674508788, 0.9721873721066594, 0.9915594705034213, 0.9788040807921202, 0.9816906171392802, 0.9937835858674495, 0.9725693253432797, 0.991694757447013, 0.9569915219888275, 0.9837960754907243, 0.989622208330127, 0.9819790814637934, 0.9806062131166516, 0.9833618589501018, 0.9862391201930777, 0.9684337563359585, 0.9851508910138991, 0.9767373995130009], \"Term\": [\"adds\", \"affected\", \"air\", \"airport\", \"allowed\", \"amid\", \"ang\", \"area\", \"areas\", \"army\", \"assault\", \"away\", \"ban\", \"big\", \"black\", \"border\", \"breaking\", \"bus\", \"buses\", \"cancelled\", \"capital\", \"car\", \"care\", \"cars\", \"case\", \"cases\", \"ccp\", \"central\", \"chance\", \"chicago\", \"china\", \"cities\", \"citizens\", \"city\", \"close\", \"closed\", \"college\", \"combat\", \"come\", \"confirmed\", \"contain\", \"coronavirus\", \"cost\", \"country\", \"county\", \"covid\", \"covid\", \"crisis\", \"daily\", \"day\", \"days\", \"deadly\", \"death\", \"deaths\", \"declared\", \"delhi\", \"demand\", \"departed\", \"despite\", \"distancing\", \"drive\", \"driver\", \"drivers\", \"emergency\", \"employee\", \"employees\", \"ensure\", \"essential\", \"express\", \"face\", \"facilities\", \"federal\", \"fight\", \"flight\", \"following\", \"food\", \"free\", \"frequency\", \"frontline\", \"gambaran\", \"getting\", \"given\", \"going\", \"good\", \"got\", \"government\", \"govt\", \"grocery\", \"hands\", \"health\", \"help\", \"helps\", \"high\", \"hit\", \"hold\", \"home\", \"hospital\", \"hospitals\", \"hours\", \"house\", \"hub\", \"including\", \"increase\", \"indian\", \"individual\", \"infection\", \"information\", \"jan\", \"kids\", \"killed\", \"know\", \"latest\", \"law\", \"leave\", \"leaving\", \"lesser\", \"let\", \"level\", \"life\", \"like\", \"likely\", \"line\", \"lines\", \"live\", \"lives\", \"local\", \"locking\", \"london\", \"long\", \"look\", \"low\", \"major\", \"make\", \"making\", \"man\", \"manila\", \"march\", \"mask\", \"masks\", \"mass\", \"measures\", \"media\", \"medical\", \"message\", \"metro\", \"metropolitan\", \"migrant\", \"migrants\", \"million\", \"minister\", \"morning\", \"mumbai\", \"mungkin\", \"national\", \"nbssnl\", \"near\", \"necessary\", \"need\", \"new\", \"news\", \"night\", \"non\", \"number\", \"nyc\", \"odd\", \"officials\", \"open\", \"order\", \"outbound\", \"outside\", \"oxygen\", \"parents\", \"park\", \"passengers\", \"patient\", \"patients\", \"pay\", \"people\", \"period\", \"piyushgoyal\", \"place\", \"pmindia\", \"pmoindia\", \"police\", \"policy\", \"positive\", \"possible\", \"president\", \"prevent\", \"private\", \"protect\", \"protective\", \"provide\", \"public\", \"quarantine\", \"rail\", \"railminindia\", \"railway\", \"railways\", \"rates\", \"read\", \"real\", \"real\", \"really\", \"reduced\", \"relief\", \"report\", \"reports\", \"residents\", \"respected\", \"restrictions\", \"right\", \"risk\", \"road\", \"run\", \"running\", \"safe\", \"said\", \"save\", \"say\", \"saying\", \"says\", \"school\", \"schools\", \"second\", \"sector\", \"security\", \"service\", \"services\", \"shops\", \"shut\", \"shuttle\", \"situation\", \"source\", \"south\", \"speed\", \"spread\", \"staff\", \"start\", \"starting\", \"state\", \"station\", \"stations\", \"step\", \"stop\", \"students\", \"subway\", \"supplies\", \"sure\", \"survive\", \"suspended\", \"tells\", \"temporarily\", \"test\", \"tested\", \"testing\", \"thank\", \"things\", \"think\", \"thousands\", \"thursday\", \"time\", \"today\", \"told\", \"toll\", \"tomorrow\", \"total\", \"train\", \"trains\", \"transit\", \"transport\", \"transportation\", \"treatrailwayemployeesfrontlineworker\", \"update\", \"use\", \"using\", \"vaccination\", \"vaccines\", \"verify\", \"video\", \"virus\", \"waiting\", \"want\", \"warriors\", \"water\", \"way\", \"weapons\", \"wearamask\", \"wearing\", \"week\", \"work\", \"workers\", \"workforce\", \"working\", \"world\", \"wtf\", \"wuhan\", \"wuhancoronavirus\", \"wuhanpneumonia\", \"year\", \"years\", \"yesterday\", \"york\", \"zero\"]}, \"R\": 30, \"lambda.step\": 0.01, \"plot.opts\": {\"xlab\": \"PC1\", \"ylab\": \"PC2\"}, \"topic.order\": [4, 8, 7, 2, 9, 10, 5, 6, 1, 3]};\n",
       "\n",
       "function LDAvis_load_lib(url, callback){\n",
       "  var s = document.createElement('script');\n",
       "  s.src = url;\n",
       "  s.async = true;\n",
       "  s.onreadystatechange = s.onload = callback;\n",
       "  s.onerror = function(){console.warn(\"failed to load library \" + url);};\n",
       "  document.getElementsByTagName(\"head\")[0].appendChild(s);\n",
       "}\n",
       "\n",
       "if(typeof(LDAvis) !== \"undefined\"){\n",
       "   // already loaded: just create the visualization\n",
       "   !function(LDAvis){\n",
       "       new LDAvis(\"#\" + \"ldavis_el24671404573192365443807579170\", ldavis_el24671404573192365443807579170_data);\n",
       "   }(LDAvis);\n",
       "}else if(typeof define === \"function\" && define.amd){\n",
       "   // require.js is available: use it to load d3/LDAvis\n",
       "   require.config({paths: {d3: \"https://d3js.org/d3.v5\"}});\n",
       "   require([\"d3\"], function(d3){\n",
       "      window.d3 = d3;\n",
       "      LDAvis_load_lib(\"https://cdn.jsdelivr.net/gh/bmabey/pyLDAvis@3.3.1/pyLDAvis/js/ldavis.v3.0.0.js\", function(){\n",
       "        new LDAvis(\"#\" + \"ldavis_el24671404573192365443807579170\", ldavis_el24671404573192365443807579170_data);\n",
       "      });\n",
       "    });\n",
       "}else{\n",
       "    // require.js not available: dynamically load d3 & LDAvis\n",
       "    LDAvis_load_lib(\"https://d3js.org/d3.v5.js\", function(){\n",
       "         LDAvis_load_lib(\"https://cdn.jsdelivr.net/gh/bmabey/pyLDAvis@3.3.1/pyLDAvis/js/ldavis.v3.0.0.js\", function(){\n",
       "                 new LDAvis(\"#\" + \"ldavis_el24671404573192365443807579170\", ldavis_el24671404573192365443807579170_data);\n",
       "            })\n",
       "         });\n",
       "}\n",
       "</script>"
      ],
      "text/plain": [
       "PreparedData(topic_coordinates=              x         y  topics  cluster       Freq\n",
       "topic                                                \n",
       "3      0.440422  0.036026       1        1  11.299243\n",
       "7     -0.072852  0.408785       2        1  10.456131\n",
       "6     -0.062123 -0.025314       3        1  10.445816\n",
       "1     -0.001371 -0.178611       4        1  10.390021\n",
       "8     -0.056678 -0.025185       5        1  10.187481\n",
       "9     -0.048480 -0.022946       6        1   9.793095\n",
       "4     -0.048479 -0.110110       7        1   9.756565\n",
       "5     -0.056544 -0.031947       8        1   9.356750\n",
       "0     -0.042323 -0.021882       9        1   9.268716\n",
       "2     -0.051572 -0.028818      10        1   9.046182, topic_info=          Term        Freq       Total Category  logprob  loglift\n",
       "669  transport  441.000000  441.000000  Default  30.0000  30.0000\n",
       "602    station  360.000000  360.000000  Default  29.0000  29.0000\n",
       "58         bus  341.000000  341.000000  Default  28.0000  28.0000\n",
       "480     public  340.000000  340.000000  Default  27.0000  27.0000\n",
       "443     people  278.000000  278.000000  Default  26.0000  26.0000\n",
       "..         ...         ...         ...      ...      ...      ...\n",
       "461   possible   20.434211   21.300744  Topic10  -4.5273   2.3613\n",
       "150    despite   20.434211   21.300744  Topic10  -4.5273   2.3613\n",
       "604       step   20.434211   21.300744  Topic10  -4.5273   2.3613\n",
       "64   cancelled   19.364357   20.230890  Topic10  -4.5810   2.3591\n",
       "496       real   21.504452   29.323924  Topic10  -4.4762   2.0927\n",
       "\n",
       "[332 rows x 6 columns], token_table=      Topic      Freq       Term\n",
       "term                            \n",
       "5         8  0.968201       adds\n",
       "8         9  0.959108   affected\n",
       "14        9  0.959831        air\n",
       "15        5  0.985132    airport\n",
       "18        5  0.985132    allowed\n",
       "...     ...       ...        ...\n",
       "729       9  0.983362       year\n",
       "730      10  0.986239      years\n",
       "731       2  0.968434  yesterday\n",
       "732       6  0.985151       york\n",
       "733       4  0.976737       zero\n",
       "\n",
       "[304 rows x 3 columns], R=30, lambda_step=0.01, plot_opts={'xlab': 'PC1', 'ylab': 'PC2'}, topic_order=[4, 8, 7, 2, 9, 10, 5, 6, 1, 3])"
      ]
     },
     "execution_count": 55,
     "metadata": {},
     "output_type": "execute_result"
    }
   ],
   "source": [
    "from sklearn.feature_extraction.text import CountVectorizer, TfidfVectorizer\n",
    "from sklearn.decomposition import LatentDirichletAllocation\n",
    "\n",
    "import pyLDAvis\n",
    "import pyLDAvis.sklearn\n",
    "pyLDAvis.enable_notebook()\n",
    "\n",
    "# Create the TF vector representation, this only counts the terms in each document\n",
    "\n",
    "tf_vectorizer = CountVectorizer(strip_accents = 'unicode',\n",
    "                                stop_words = 'english',\n",
    "                                lowercase = True,\n",
    "                                token_pattern = r'\\b[a-zA-Z]{3,}\\b',\n",
    "                                max_df = 0.5, \n",
    "                                min_df = 10)\n",
    "\n",
    "dtm_tf = tf_vectorizer.fit_transform(cleanTransit)\n",
    "\n",
    "tfidf_vectorizer = TfidfVectorizer(**tf_vectorizer.get_params())\n",
    "\n",
    "dtm_tfidf = tfidf_vectorizer.fit_transform(cleanTransit)\n",
    "print(dtm_tfidf.shape)\n",
    "\n",
    "# for TFIDF DTM\n",
    "lda_tfidf = LatentDirichletAllocation(n_components=10, random_state=0)\n",
    "lda_tfidf.fit(dtm_tfidf)\n",
    "pyLDAvis.sklearn.prepare(lda_tfidf, dtm_tfidf, tfidf_vectorizer)"
   ]
  },
  {
   "cell_type": "code",
   "execution_count": 56,
   "id": "0413004a",
   "metadata": {},
   "outputs": [
    {
     "name": "stderr",
     "output_type": "stream",
     "text": [
      "/students/jw10/miniconda3/lib/python3.9/site-packages/past/builtins/misc.py:45: DeprecationWarning: the imp module is deprecated in favour of importlib; see the module's documentation for alternative uses\n",
      "  from imp import reload\n",
      "/students/jw10/miniconda3/lib/python3.9/site-packages/past/builtins/misc.py:45: DeprecationWarning: the imp module is deprecated in favour of importlib; see the module's documentation for alternative uses\n",
      "  from imp import reload\n",
      "/students/jw10/miniconda3/lib/python3.9/site-packages/past/builtins/misc.py:45: DeprecationWarning: the imp module is deprecated in favour of importlib; see the module's documentation for alternative uses\n",
      "  from imp import reload\n",
      "/students/jw10/miniconda3/lib/python3.9/site-packages/past/builtins/misc.py:45: DeprecationWarning: the imp module is deprecated in favour of importlib; see the module's documentation for alternative uses\n",
      "  from imp import reload\n"
     ]
    },
    {
     "data": {
      "text/html": [
       "\n",
       "<link rel=\"stylesheet\" type=\"text/css\" href=\"https://cdn.jsdelivr.net/gh/bmabey/pyLDAvis@3.3.1/pyLDAvis/js/ldavis.v1.0.0.css\">\n",
       "\n",
       "\n",
       "<div id=\"ldavis_el24671404573363260641019744021\"></div>\n",
       "<script type=\"text/javascript\">\n",
       "\n",
       "var ldavis_el24671404573363260641019744021_data = {\"mdsDat\": {\"x\": [0.37377736041078347, 0.11612973370938305, -0.3295028562689045, -0.24377138666969522, 0.19260490575547995, -0.16625757844518393, -0.1115538612492723, -0.4615314607494534, 0.1784890210193396, 0.4516161224875237], \"y\": [0.25233793473465255, 0.42373600537997885, -0.24258276618579278, 0.4084175364197387, -0.42384769735459643, 0.1520289484736178, -0.40571184887431644, 0.017997228384489476, -0.08419586097704024, -0.09817948000073148], \"topics\": [1, 2, 3, 4, 5, 6, 7, 8, 9, 10], \"cluster\": [1, 1, 1, 1, 1, 1, 1, 1, 1, 1], \"Freq\": [11.29924278881393, 10.456131016940192, 10.445815988451749, 10.390020828723815, 10.187481488855061, 9.793095245869639, 9.756565088360395, 9.356749539217272, 9.268716101931904, 9.04618191283604]}, \"tinfo\": {\"Term\": [\"transport\", \"station\", \"bus\", \"public\", \"people\", \"railway\", \"transportation\", \"city\", \"metro\", \"workers\", \"new\", \"rail\", \"virus\", \"transit\", \"train\", \"wuhan\", \"mask\", \"coronavirus\", \"buses\", \"piyushgoyal\", \"shut\", \"home\", \"treatrailwayemployeesfrontlineworker\", \"police\", \"want\", \"cases\", \"video\", \"million\", \"spread\", \"railminindia\", \"bus\", \"public\", \"people\", \"coronavirus\", \"stop\", \"going\", \"trains\", \"food\", \"patient\", \"odd\", \"source\", \"breaking\", \"verify\", \"south\", \"demand\", \"level\", \"near\", \"school\", \"policy\", \"test\", \"chicago\", \"following\", \"flight\", \"read\", \"lines\", \"lesser\", \"mungkin\", \"waiting\", \"shuttle\", \"ensure\", \"station\", \"workers\", \"wuhan\", \"home\", \"video\", \"day\", \"work\", \"delhi\", \"ban\", \"wearing\", \"contain\", \"testing\", \"news\", \"express\", \"case\", \"long\", \"migrants\", \"amid\", \"yesterday\", \"march\", \"fight\", \"man\", \"road\", \"save\", \"outbound\", \"wuhancoronavirus\", \"daily\", \"relief\", \"thursday\", \"media\", \"transportation\", \"new\", \"health\", \"army\", \"metropolitan\", \"country\", \"railways\", \"working\", \"passengers\", \"helps\", \"safe\", \"survive\", \"migrant\", \"vaccination\", \"security\", \"major\", \"things\", \"local\", \"big\", \"death\", \"let\", \"departed\", \"house\", \"low\", \"pmindia\", \"shops\", \"got\", \"central\", \"frequency\", \"college\", \"metro\", \"rail\", \"police\", \"million\", \"railminindia\", \"cities\", \"distancing\", \"line\", \"masks\", \"wuhanpneumonia\", \"assault\", \"drivers\", \"subway\", \"quarantine\", \"patients\", \"days\", \"lives\", \"restrictions\", \"hub\", \"toll\", \"told\", \"order\", \"deadly\", \"frontline\", \"away\", \"car\", \"good\", \"look\", \"start\", \"zero\", \"covid\", \"transport\", \"state\", \"like\", \"employees\", \"airport\", \"allowed\", \"help\", \"necessary\", \"ccp\", \"individual\", \"make\", \"staff\", \"say\", \"know\", \"right\", \"confirmed\", \"open\", \"week\", \"think\", \"world\", \"national\", \"given\", \"kids\", \"way\", \"temporarily\", \"combat\", \"close\", \"information\", \"park\", \"chance\", \"railway\", \"virus\", \"buses\", \"piyushgoyal\", \"cases\", \"hospital\", \"free\", \"risk\", \"jan\", \"use\", \"parents\", \"york\", \"nbssnl\", \"morning\", \"emergency\", \"supplies\", \"federal\", \"students\", \"increase\", \"leaving\", \"sector\", \"night\", \"nyc\", \"hands\", \"ang\", \"employee\", \"killed\", \"second\", \"deaths\", \"making\", \"city\", \"shut\", \"today\", \"getting\", \"pmoindia\", \"leave\", \"likely\", \"says\", \"manila\", \"running\", \"govt\", \"said\", \"crisis\", \"positive\", \"indian\", \"situation\", \"driver\", \"water\", \"capital\", \"live\", \"protect\", \"sure\", \"thank\", \"total\", \"wearamask\", \"protective\", \"report\", \"hit\", \"rates\", \"saying\", \"transit\", \"want\", \"oxygen\", \"time\", \"need\", \"service\", \"medical\", \"high\", \"number\", \"areas\", \"update\", \"essential\", \"hospitals\", \"hold\", \"closed\", \"run\", \"face\", \"outside\", \"reports\", \"tested\", \"measures\", \"thousands\", \"really\", \"adds\", \"county\", \"speed\", \"black\", \"tells\", \"using\", \"period\", \"treatrailwayemployeesfrontlineworker\", \"spread\", \"government\", \"year\", \"life\", \"weapons\", \"suspended\", \"tomorrow\", \"hours\", \"services\", \"minister\", \"wtf\", \"london\", \"residents\", \"care\", \"president\", \"warriors\", \"officials\", \"affected\", \"prevent\", \"stations\", \"declared\", \"non\", \"drive\", \"cars\", \"mass\", \"air\", \"cost\", \"infection\", \"citizens\", \"train\", \"mask\", \"locking\", \"respected\", \"area\", \"china\", \"schools\", \"years\", \"place\", \"private\", \"provide\", \"latest\", \"workforce\", \"border\", \"starting\", \"come\", \"law\", \"vaccines\", \"including\", \"gambaran\", \"message\", \"mumbai\", \"pay\", \"facilities\", \"reduced\", \"grocery\", \"possible\", \"despite\", \"step\", \"cancelled\", \"real\"], \"Freq\": [441.0, 360.0, 341.0, 340.0, 278.0, 259.0, 267.0, 251.0, 199.0, 179.0, 145.0, 138.0, 126.0, 123.0, 119.0, 125.0, 114.0, 125.0, 115.0, 101.0, 98.0, 92.0, 87.0, 92.0, 84.0, 85.0, 87.0, 84.0, 80.0, 84.0, 341.05598478994995, 339.2598667019406, 277.3543140501305, 124.77020540129213, 61.12083436488818, 50.65792405752422, 48.04219648068218, 47.17028728840135, 42.81074132699598, 41.06692294243327, 41.066922942433294, 39.0142342508451, 38.45119536558829, 36.41240154102991, 29.7321034427613, 25.372557481338035, 25.372557481338035, 25.372557481338035, 24.50064828905214, 22.756829904478753, 21.88492071219109, 21.884920712191093, 21.01301151990272, 20.141102327613527, 20.141102327613524, 18.397283943032168, 18.397283943032164, 18.397283943032168, 17.5253747507397, 15.78155636615018, 359.15606861720954, 178.23270673960874, 124.41960423241729, 91.94618030565697, 86.37930763249706, 72.46212594959503, 72.46212594959498, 64.11181693985161, 54.83369581791154, 54.587443745456056, 48.339011032550516, 46.483386808161065, 42.772138359381174, 40.916514134990585, 37.20526568620793, 30.795422131603598, 28.854956676435823, 26.999332452038868, 26.999332452038868, 26.071520339839797, 23.288084003239394, 22.36027189103804, 22.36027189103804, 21.43245977883592, 20.50464766663293, 20.50464766663293, 19.576835554428957, 19.576835554428957, 18.649023442223843, 17.72121133001741, 266.5442008226804, 144.92354492081353, 74.98746740464574, 60.43896715688726, 59.51056520343685, 57.65376129653581, 46.51293785512525, 46.512937855125195, 43.72773199477098, 42.799330041319415, 41.589957893355155, 40.94252613441583, 38.15732027405964, 38.15732027405964, 35.37211441370204, 31.658506599889233, 31.65850659988924, 30.730104646435464, 27.016496832617037, 27.01649683261703, 27.016496832617037, 26.08809487916146, 26.088094879161456, 26.088094879161446, 26.088094879161467, 26.088094879161446, 24.231290972248853, 23.302889018791696, 23.302889018791692, 22.37448706533384, 198.82841776050952, 137.82803693073598, 91.53011628746945, 84.06588661977712, 83.13285791131541, 81.26680049439223, 74.73559953516046, 74.73559953516046, 73.80257082669858, 65.4053124505416, 49.54382440668213, 48.610795698219306, 47.67776698975644, 38.347479905122555, 37.41445119665849, 34.615365071265245, 34.615365071265245, 32.74930765433545, 29.950221528938922, 29.950221528938922, 29.017192820472832, 27.151135403539556, 26.218106695072297, 25.285077986604577, 23.419020569667495, 23.419020569667484, 23.419020569667477, 22.48599186119798, 20.6199344442566, 20.619934444256607, 23.458348037378613, 441.02092742987327, 74.1333065905314, 71.90211040739983, 60.844365586173666, 57.99673537095324, 57.99673537095324, 50.40305479703024, 50.40305479703024, 44.70779436658524, 44.70779436658519, 44.70779436658524, 44.70779436658519, 42.80937422310282, 39.96174400787838, 38.063323864394796, 36.16490372091055, 34.926492072148676, 31.81435935604642, 31.418853362196465, 30.46964329045291, 28.571223146964847, 26.67280300347524, 25.723592931729797, 23.82517278823728, 22.87596271649008, 20.977542572993404, 20.028332501243675, 20.028332501243675, 20.02833250124367, 17.180702285987156, 259.06154583764743, 125.14907819982679, 114.3179227291188, 100.53281576639837, 84.77840780900154, 47.3616889101611, 44.40773741814423, 44.40773741814423, 38.49983443410745, 36.53053343942736, 31.607280952723503, 31.607280952723503, 28.653329460697844, 26.684028466012137, 26.40252175179057, 25.699377968668607, 24.7147274713245, 24.7147274713245, 23.730076973979763, 23.730076973979763, 23.730076973979763, 22.745426476634343, 22.745426476634346, 21.76077597928813, 20.77612548194101, 19.79147498459284, 19.79147498459284, 18.806824487243432, 17.822173989892608, 17.822173989892608, 250.5320450066999, 98.07605795414334, 78.28270619514548, 65.41702755179304, 65.41702755179304, 56.510019260238266, 56.51001926023829, 56.510019260238266, 54.53068408433667, 54.53068408433667, 50.57201373253277, 50.57201373253277, 42.654673028921266, 42.05965266653005, 38.37205050030846, 29.78899438553297, 28.799326797578242, 27.809659209623117, 25.830324033711523, 25.830324033711523, 25.830324033711523, 25.830324033711523, 24.840656445754927, 24.840656445754927, 24.840656445754927, 23.850988857797738, 23.850988857797738, 20.567853269248268, 19.89231850596088, 19.892318505960883, 122.29727195339504, 83.98229259111076, 71.55581279793354, 71.54831259845298, 63.271492935813406, 63.271492935813406, 60.16487298751769, 53.77636048307603, 48.773933177095984, 44.63177324603127, 44.63177324603127, 42.33443824905055, 41.52515329773155, 40.48961331496473, 38.418533349430575, 38.418533349430575, 37.38299336666323, 33.24083343559179, 31.16975347005448, 30.13421348728537, 28.06313352174594, 27.027593538975562, 23.920973590661024, 22.88543360788813, 22.88543360788813, 22.352995238792115, 21.84989362511436, 20.814353642339604, 20.814353642339604, 19.778813659563713, 86.84813349661401, 79.53240624567383, 77.44219845969099, 66.24768894856543, 62.81074395780683, 56.5401205998543, 53.404808920877166, 46.08908166992836, 40.86356220496182, 39.81845831196814, 38.77335441897427, 38.77335441897427, 35.63804273999151, 35.638042739991526, 35.61506048825066, 30.412523275015364, 30.412523275015364, 30.164181101342578, 29.367419382019193, 29.367419382019197, 29.36741938201919, 28.322315489022568, 26.940432160034693, 26.23210770302793, 26.006075035216046, 24.141899917030976, 22.051692131031007, 22.051692131031007, 22.051692131031007, 21.47480392408823, 118.86077804671915, 113.167563237086, 61.08866269930388, 48.25041484431088, 45.04085288056082, 40.761436928892365, 40.761436928892365, 39.69158294097493, 37.55187496513943, 37.55187496513943, 31.13275103762752, 27.923189073867135, 27.92318907386714, 26.853335085946064, 26.85333508594606, 25.783481098024435, 25.783481098024435, 25.783481098024435, 23.64377312217921, 22.57391913425543, 22.57391913425543, 22.573919134255416, 22.57391913425543, 21.504065146330674, 21.504065146330674, 20.43421115840482, 20.43421115840482, 20.43421115840481, 20.43421115840481, 19.364357170477675, 21.504451938593387], \"Total\": [441.0, 360.0, 341.0, 340.0, 278.0, 259.0, 267.0, 251.0, 199.0, 179.0, 145.0, 138.0, 126.0, 123.0, 119.0, 125.0, 114.0, 125.0, 115.0, 101.0, 98.0, 92.0, 87.0, 92.0, 84.0, 85.0, 87.0, 84.0, 80.0, 84.0, 341.9423119081888, 340.14619359709366, 278.24064094528717, 125.65653229647296, 62.007161260114955, 51.54425095276967, 48.928523375933594, 48.0566141836549, 43.69706822226149, 41.95324983770429, 41.95324983770431, 39.90056207756194, 39.33752226086851, 37.29872932621042, 30.618430338084032, 26.258884376693135, 26.258884376693135, 26.258884376693135, 25.386975184415117, 23.64315679985931, 22.771247607581515, 22.77124760758152, 21.899338415303838, 21.02742922302628, 21.027429223026278, 19.283610838471553, 19.28361083847155, 19.283610838471553, 18.41170164619443, 16.6678832616408, 360.0368052180985, 179.11344334051174, 125.3003408333324, 92.82691690658626, 87.26004423342991, 73.34286255053902, 73.34286255053897, 64.99255354080461, 55.71443241887781, 55.468180816301555, 49.21974763352914, 47.36412340914386, 43.65287496037339, 41.79725073598818, 38.086002287217866, 31.67616288518183, 29.735693277485275, 27.88006905310047, 27.88006905310047, 26.952256940908132, 24.168820604331195, 23.24100849213898, 23.24100849213898, 22.31319637994681, 21.38538426775468, 21.38538426775468, 20.457572155562623, 20.457572155562623, 19.52976004337063, 18.601947931178714, 267.42487843942394, 145.80422253757274, 75.8681465836405, 61.31964477369475, 60.39124282024564, 58.534438913347316, 47.393615471957666, 47.39361547195761, 44.6084096116103, 43.68000765816124, 42.47063597116323, 41.823203751263, 39.03799789091584, 39.03799789091584, 36.252792030568685, 32.53918421677269, 32.539184216772696, 31.610782263323767, 27.897174449528112, 27.897174449528105, 27.897174449528112, 26.96877249607926, 26.968772496079254, 26.968772496079247, 26.968772496079268, 26.968772496079247, 25.11196858918166, 24.183566635732916, 24.183566635732912, 23.25516468228418, 199.7086327016017, 138.70825211127442, 92.41033122859082, 84.94610156090329, 84.01307285244225, 82.14701543552044, 75.61581447629403, 75.61581447629403, 74.68278576783298, 66.28552739168468, 50.424039347849636, 49.491010639388755, 48.557981930927916, 39.227694846319615, 38.29466613785882, 35.495580012476445, 35.495580012476445, 33.629522595554945, 30.830436470172817, 30.830436470172817, 29.897407761712152, 28.03135034479086, 27.09832163633024, 26.16529292786966, 24.299235510948588, 24.299235510948577, 24.29923551094857, 23.366206802488097, 21.500149385567244, 21.50014938556725, 30.34456741168223, 441.89952431534795, 75.01190339479038, 72.78070750447877, 61.722962390446966, 58.87533217523047, 58.87533217523047, 51.281651601320135, 51.281651601320135, 45.586391170887474, 45.586391170887424, 45.586391170887474, 45.586391170887424, 43.687971027409915, 40.84034081219362, 38.94192066871614, 37.04350052523867, 35.805091138485984, 32.69295728119896, 32.29745016654512, 31.34824009480644, 29.449819951329133, 27.551399807851833, 26.60218973611323, 24.70376959263606, 23.75455952089751, 21.856139377420508, 20.906929305682045, 20.906929305682045, 20.90692930568204, 18.05929909046696, 259.93659859822907, 126.02413096042733, 115.19297548972283, 101.40786852700789, 85.65346056961957, 48.23674167082223, 45.28279017881187, 45.28279017881187, 39.37488719479117, 37.40558620011761, 32.482333713433675, 32.482333713433675, 29.52838222142329, 27.559081226749672, 27.277575428247292, 26.574430729412903, 25.589780232076095, 25.589780232076095, 24.60512973473927, 24.60512973473927, 24.60512973473927, 23.620479237402463, 23.620479237402467, 22.63582874006565, 21.651178242728843, 20.66652774539203, 20.66652774539203, 19.6818772480552, 18.69722675071837, 18.69722675071837, 251.40659735847865, 98.95060900557228, 79.15725724658624, 66.29157860324533, 66.29157860324533, 57.38457031170164, 57.38457031170166, 57.38457031170164, 55.405235135803004, 55.405235135803004, 51.44656478400571, 51.44656478400571, 43.52922408041116, 42.93420371787764, 39.24660195566632, 30.663545437069878, 29.673877849120533, 28.684210261171174, 26.704875085272466, 26.704875085272466, 26.704875085272466, 26.704875085272466, 25.71520749732309, 25.71520749732309, 25.71520749732309, 24.725539909373733, 24.725539909373733, 21.442405410199857, 20.766869557576154, 20.766869557576157, 123.16723576420029, 84.85225640193211, 72.42577660876384, 72.41827640894456, 64.14145674665164, 64.14145674665164, 61.034836798359464, 54.646324292653375, 49.64389698795464, 45.50173705689822, 45.50173705689822, 43.20440435849664, 42.39511710860582, 41.35957712584168, 39.288497160313355, 39.288497160313355, 38.25295717754917, 34.11079724649233, 32.039717280963806, 31.004177298199547, 28.933097332670904, 27.89755734990655, 24.790937401613267, 23.755397418848766, 23.755397418848766, 23.222959046347274, 22.719857436084187, 21.684317453319572, 21.684317453319572, 20.648777470554894, 87.71714091618057, 80.4014136652449, 78.31120587926351, 67.11669707269886, 63.67975137739222, 57.40912801944726, 54.27381634047458, 46.95808908953855, 41.73256962458396, 40.68746573159306, 39.6423618386021, 39.6423618386021, 36.50705015962915, 36.507050159629166, 36.48406952745911, 31.281530694673894, 31.281530694673894, 31.033191297253605, 30.236426801682807, 30.23642680168281, 30.236426801682804, 29.191322908691646, 27.809443584017732, 27.101115122709263, 26.87508294280704, 25.010907336726724, 22.920699550743954, 22.920699550743954, 22.920699550743954, 22.343811343531353, 119.72731045620871, 114.03409579806011, 61.955195108826274, 49.116947253851336, 45.90738529010741, 41.627969338448665, 41.627969338448665, 40.55811535053399, 38.41840737470448, 38.41840737470448, 31.999283447215547, 28.78972148347067, 28.789721483470675, 27.719867495555608, 27.719867495555604, 26.65001350764049, 26.65001350764049, 26.65001350764049, 24.510305531810094, 23.440451543894802, 23.440451543894802, 23.44045154389479, 23.440451543894802, 22.370597555979398, 22.370597555979398, 21.300743568063893, 21.300743568063893, 21.300743568063883, 21.300743568063883, 20.230889580148265, 29.323924447538474], \"Category\": [\"Default\", \"Default\", \"Default\", \"Default\", \"Default\", \"Default\", \"Default\", \"Default\", \"Default\", \"Default\", \"Default\", \"Default\", \"Default\", \"Default\", \"Default\", \"Default\", \"Default\", \"Default\", \"Default\", \"Default\", \"Default\", \"Default\", \"Default\", \"Default\", \"Default\", \"Default\", \"Default\", \"Default\", \"Default\", \"Default\", \"Topic1\", \"Topic1\", \"Topic1\", \"Topic1\", \"Topic1\", \"Topic1\", \"Topic1\", \"Topic1\", \"Topic1\", \"Topic1\", \"Topic1\", \"Topic1\", \"Topic1\", \"Topic1\", \"Topic1\", \"Topic1\", \"Topic1\", \"Topic1\", \"Topic1\", \"Topic1\", \"Topic1\", \"Topic1\", \"Topic1\", \"Topic1\", \"Topic1\", \"Topic1\", \"Topic1\", \"Topic1\", \"Topic1\", \"Topic1\", \"Topic2\", \"Topic2\", \"Topic2\", \"Topic2\", \"Topic2\", \"Topic2\", \"Topic2\", \"Topic2\", \"Topic2\", \"Topic2\", \"Topic2\", \"Topic2\", \"Topic2\", \"Topic2\", \"Topic2\", \"Topic2\", \"Topic2\", \"Topic2\", \"Topic2\", \"Topic2\", \"Topic2\", \"Topic2\", \"Topic2\", \"Topic2\", \"Topic2\", \"Topic2\", \"Topic2\", \"Topic2\", \"Topic2\", \"Topic2\", \"Topic3\", \"Topic3\", \"Topic3\", \"Topic3\", \"Topic3\", \"Topic3\", \"Topic3\", \"Topic3\", \"Topic3\", \"Topic3\", \"Topic3\", \"Topic3\", \"Topic3\", \"Topic3\", \"Topic3\", \"Topic3\", \"Topic3\", \"Topic3\", \"Topic3\", \"Topic3\", \"Topic3\", \"Topic3\", \"Topic3\", \"Topic3\", \"Topic3\", \"Topic3\", \"Topic3\", \"Topic3\", \"Topic3\", \"Topic3\", \"Topic4\", \"Topic4\", \"Topic4\", \"Topic4\", \"Topic4\", \"Topic4\", \"Topic4\", \"Topic4\", \"Topic4\", \"Topic4\", \"Topic4\", \"Topic4\", \"Topic4\", \"Topic4\", \"Topic4\", \"Topic4\", \"Topic4\", \"Topic4\", \"Topic4\", \"Topic4\", \"Topic4\", \"Topic4\", \"Topic4\", \"Topic4\", \"Topic4\", \"Topic4\", \"Topic4\", \"Topic4\", \"Topic4\", \"Topic4\", \"Topic4\", \"Topic5\", \"Topic5\", \"Topic5\", \"Topic5\", \"Topic5\", \"Topic5\", \"Topic5\", \"Topic5\", \"Topic5\", \"Topic5\", \"Topic5\", \"Topic5\", \"Topic5\", \"Topic5\", \"Topic5\", \"Topic5\", \"Topic5\", \"Topic5\", \"Topic5\", \"Topic5\", \"Topic5\", \"Topic5\", \"Topic5\", \"Topic5\", \"Topic5\", \"Topic5\", \"Topic5\", \"Topic5\", \"Topic5\", \"Topic5\", \"Topic6\", \"Topic6\", \"Topic6\", \"Topic6\", \"Topic6\", \"Topic6\", \"Topic6\", \"Topic6\", \"Topic6\", \"Topic6\", \"Topic6\", \"Topic6\", \"Topic6\", \"Topic6\", \"Topic6\", \"Topic6\", \"Topic6\", \"Topic6\", \"Topic6\", \"Topic6\", \"Topic6\", \"Topic6\", \"Topic6\", \"Topic6\", \"Topic6\", \"Topic6\", \"Topic6\", \"Topic6\", \"Topic6\", \"Topic6\", \"Topic7\", \"Topic7\", \"Topic7\", \"Topic7\", \"Topic7\", \"Topic7\", \"Topic7\", \"Topic7\", \"Topic7\", \"Topic7\", \"Topic7\", \"Topic7\", \"Topic7\", \"Topic7\", \"Topic7\", \"Topic7\", \"Topic7\", \"Topic7\", \"Topic7\", \"Topic7\", \"Topic7\", \"Topic7\", \"Topic7\", \"Topic7\", \"Topic7\", \"Topic7\", \"Topic7\", \"Topic7\", \"Topic7\", \"Topic7\", \"Topic8\", \"Topic8\", \"Topic8\", \"Topic8\", \"Topic8\", \"Topic8\", \"Topic8\", \"Topic8\", \"Topic8\", \"Topic8\", \"Topic8\", \"Topic8\", \"Topic8\", \"Topic8\", \"Topic8\", \"Topic8\", \"Topic8\", \"Topic8\", \"Topic8\", \"Topic8\", \"Topic8\", \"Topic8\", \"Topic8\", \"Topic8\", \"Topic8\", \"Topic8\", \"Topic8\", \"Topic8\", \"Topic8\", \"Topic8\", \"Topic9\", \"Topic9\", \"Topic9\", \"Topic9\", \"Topic9\", \"Topic9\", \"Topic9\", \"Topic9\", \"Topic9\", \"Topic9\", \"Topic9\", \"Topic9\", \"Topic9\", \"Topic9\", \"Topic9\", \"Topic9\", \"Topic9\", \"Topic9\", \"Topic9\", \"Topic9\", \"Topic9\", \"Topic9\", \"Topic9\", \"Topic9\", \"Topic9\", \"Topic9\", \"Topic9\", \"Topic9\", \"Topic9\", \"Topic9\", \"Topic10\", \"Topic10\", \"Topic10\", \"Topic10\", \"Topic10\", \"Topic10\", \"Topic10\", \"Topic10\", \"Topic10\", \"Topic10\", \"Topic10\", \"Topic10\", \"Topic10\", \"Topic10\", \"Topic10\", \"Topic10\", \"Topic10\", \"Topic10\", \"Topic10\", \"Topic10\", \"Topic10\", \"Topic10\", \"Topic10\", \"Topic10\", \"Topic10\", \"Topic10\", \"Topic10\", \"Topic10\", \"Topic10\", \"Topic10\", \"Topic10\"], \"logprob\": [30.0, 29.0, 28.0, 27.0, 26.0, 25.0, 24.0, 23.0, 22.0, 21.0, 20.0, 19.0, 18.0, 17.0, 16.0, 15.0, 14.0, 13.0, 12.0, 11.0, 10.0, 9.0, 8.0, 7.0, 6.0, 5.0, 4.0, 3.0, 2.0, 1.0, -1.9348, -1.9401, -2.1416, -2.9404, -3.654, -3.8418, -3.8948, -3.9131, -4.0101, -4.0517, -4.0517, -4.1029, -4.1175, -4.172, -4.3746, -4.5332, -4.5332, -4.5332, -4.5682, -4.642, -4.6811, -4.6811, -4.7217, -4.7641, -4.7641, -4.8547, -4.8547, -4.8547, -4.9032, -5.008, -1.8056, -2.5062, -2.8657, -3.1681, -3.2306, -3.4063, -3.4063, -3.5287, -3.685, -3.6895, -3.8111, -3.8502, -3.9334, -3.9778, -4.0729, -4.262, -4.327, -4.3935, -4.3935, -4.4285, -4.5414, -4.582, -4.582, -4.6244, -4.6687, -4.6687, -4.715, -4.715, -4.7635, -4.8146, -2.1028, -2.7121, -3.371, -3.5867, -3.6022, -3.6339, -3.8486, -3.8486, -3.9103, -3.9318, -3.9605, -3.9762, -4.0466, -4.0466, -4.1224, -4.2333, -4.2333, -4.2631, -4.3919, -4.3919, -4.3919, -4.4269, -4.4269, -4.4269, -4.4269, -4.4269, -4.5007, -4.5398, -4.5398, -4.5804, -2.3905, -2.757, -3.1663, -3.2514, -3.2625, -3.2852, -3.369, -3.369, -3.3816, -3.5024, -3.7801, -3.7991, -3.8185, -4.0363, -4.0609, -4.1387, -4.1387, -4.1941, -4.2834, -4.2834, -4.3151, -4.3816, -4.4165, -4.4528, -4.5294, -4.5294, -4.5294, -4.5701, -4.6567, -4.6567, -4.5277, -1.5742, -3.3574, -3.388, -3.555, -3.6029, -3.6029, -3.7432, -3.7432, -3.8631, -3.8631, -3.8631, -3.8631, -3.9065, -3.9754, -4.024, -4.0752, -4.11, -4.2034, -4.2159, -4.2466, -4.3109, -4.3796, -4.4159, -4.4925, -4.5332, -4.6198, -4.6661, -4.6661, -4.6661, -4.8195, -2.0667, -2.7943, -2.8848, -3.0133, -3.1838, -3.766, -3.8304, -3.8304, -3.9732, -4.0257, -4.1704, -4.1704, -4.2685, -4.3397, -4.3503, -4.3773, -4.4164, -4.4164, -4.4571, -4.4571, -4.4571, -4.4994, -4.4994, -4.5437, -4.59, -4.6386, -4.6386, -4.6896, -4.7434, -4.7434, -2.0965, -3.0343, -3.2597, -3.4393, -3.4393, -3.5857, -3.5857, -3.5857, -3.6213, -3.6213, -3.6967, -3.6967, -3.8669, -3.881, -3.9727, -4.2259, -4.2597, -4.2947, -4.3685, -4.3685, -4.3685, -4.3685, -4.4076, -4.4076, -4.4076, -4.4482, -4.4482, -4.5963, -4.6297, -4.6297, -2.7718, -3.1476, -3.3077, -3.3079, -3.4308, -3.4308, -3.4811, -3.5934, -3.691, -3.7798, -3.7798, -3.8326, -3.8519, -3.8772, -3.9297, -3.9297, -3.957, -4.0744, -4.1388, -4.1726, -4.2438, -4.2814, -4.4035, -4.4477, -4.4477, -4.4713, -4.494, -4.5426, -4.5426, -4.5936, -3.1046, -3.1926, -3.2192, -3.3754, -3.4286, -3.5338, -3.5909, -3.7382, -3.8585, -3.8844, -3.911, -3.911, -3.9954, -3.9954, -3.996, -4.1539, -4.1539, -4.1621, -4.1889, -4.1889, -4.1889, -4.2251, -4.2751, -4.3018, -4.3104, -4.3848, -4.4754, -4.4754, -4.4754, -4.5019, -2.7665, -2.8156, -3.4321, -3.6681, -3.7369, -3.8367, -3.8367, -3.8633, -3.9187, -3.9187, -4.1062, -4.215, -4.215, -4.2541, -4.2541, -4.2947, -4.2947, -4.2947, -4.3814, -4.4277, -4.4277, -4.4277, -4.4277, -4.4762, -4.4762, -4.5273, -4.5273, -4.5273, -4.5273, -4.581, -4.4762], \"loglift\": [30.0, 29.0, 28.0, 27.0, 26.0, 25.0, 24.0, 23.0, 22.0, 21.0, 20.0, 19.0, 18.0, 17.0, 16.0, 15.0, 14.0, 13.0, 12.0, 11.0, 10.0, 9.0, 8.0, 7.0, 6.0, 5.0, 4.0, 3.0, 2.0, 1.0, 2.1778, 2.1778, 2.1772, 2.1734, 2.166, 2.1631, 2.1622, 2.1618, 2.1599, 2.1591, 2.1591, 2.158, 2.1576, 2.1564, 2.1511, 2.1461, 2.1461, 2.1461, 2.1449, 2.1422, 2.1407, 2.1407, 2.1391, 2.1374, 2.1374, 2.1334, 2.1334, 2.1334, 2.1311, 2.1258, 2.2555, 2.2531, 2.2509, 2.2484, 2.2478, 2.2459, 2.2459, 2.2443, 2.242, 2.242, 2.2399, 2.2392, 2.2376, 2.2367, 2.2346, 2.2298, 2.2279, 2.2259, 2.2259, 2.2248, 2.2209, 2.2193, 2.2193, 2.2177, 2.2159, 2.2159, 2.214, 2.214, 2.2118, 2.2095, 2.2557, 2.2529, 2.2473, 2.2445, 2.2443, 2.2438, 2.2402, 2.2402, 2.239, 2.2386, 2.238, 2.2377, 2.2362, 2.2362, 2.2344, 2.2315, 2.2315, 2.2307, 2.2269, 2.2269, 2.2269, 2.2258, 2.2258, 2.2258, 2.2258, 2.2258, 2.2233, 2.2219, 2.2219, 2.2204, 2.2599, 2.258, 2.2548, 2.2539, 2.2538, 2.2536, 2.2526, 2.2526, 2.2525, 2.251, 2.2467, 2.2464, 2.246, 2.2416, 2.2411, 2.2392, 2.2392, 2.2378, 2.2354, 2.2354, 2.2344, 2.2324, 2.2313, 2.2301, 2.2274, 2.2274, 2.2274, 2.2259, 2.2225, 2.2225, 2.0069, 2.282, 2.2722, 2.2719, 2.2697, 2.269, 2.269, 2.2667, 2.2667, 2.2645, 2.2645, 2.2645, 2.2645, 2.2637, 2.2623, 2.2612, 2.26, 2.2592, 2.2568, 2.2564, 2.2556, 2.2537, 2.2516, 2.2504, 2.2478, 2.2463, 2.243, 2.2411, 2.2411, 2.2411, 2.2341, 2.3201, 2.3165, 2.3159, 2.3148, 2.3132, 2.3052, 2.304, 2.304, 2.301, 2.2998, 2.2962, 2.2962, 2.2934, 2.2912, 2.2909, 2.29, 2.2887, 2.2887, 2.2873, 2.2873, 2.2873, 2.2857, 2.2857, 2.2841, 2.2822, 2.2802, 2.2802, 2.278, 2.2756, 2.2756, 2.3237, 2.3184, 2.3161, 2.3139, 2.3139, 2.3119, 2.3119, 2.3119, 2.3113, 2.3113, 2.3101, 2.3101, 2.3069, 2.3066, 2.3047, 2.2983, 2.2973, 2.2963, 2.2939, 2.2939, 2.2939, 2.2939, 2.2926, 2.2926, 2.2926, 2.2912, 2.2912, 2.2856, 2.2842, 2.2842, 2.362, 2.3588, 2.357, 2.357, 2.3554, 2.3554, 2.3547, 2.353, 2.3514, 2.3498, 2.3498, 2.3487, 2.3483, 2.3478, 2.3467, 2.3467, 2.3461, 2.3432, 2.3415, 2.3406, 2.3385, 2.3374, 2.3333, 2.3318, 2.3318, 2.3309, 2.33, 2.3281, 2.3281, 2.326, 2.3686, 2.3677, 2.3674, 2.3655, 2.3648, 2.3633, 2.3624, 2.3598, 2.3575, 2.3569, 2.3564, 2.3564, 2.3544, 2.3544, 2.3544, 2.3504, 2.3504, 2.3501, 2.3494, 2.3494, 2.3494, 2.3483, 2.3468, 2.3459, 2.3457, 2.3432, 2.3399, 2.3399, 2.3399, 2.3389, 2.3956, 2.3952, 2.3887, 2.385, 2.3838, 2.3818, 2.3818, 2.3812, 2.38, 2.38, 2.3754, 2.3723, 2.3723, 2.3711, 2.3711, 2.3698, 2.3698, 2.3698, 2.3668, 2.3652, 2.3652, 2.3652, 2.3652, 2.3633, 2.3633, 2.3613, 2.3613, 2.3613, 2.3613, 2.3591, 2.0927]}, \"token.table\": {\"Topic\": [8, 9, 9, 5, 5, 2, 6, 10, 8, 3, 4, 4, 2, 3, 8, 10, 1, 1, 6, 10, 7, 4, 9, 9, 2, 6, 5, 3, 5, 1, 10, 4, 9, 7, 5, 8, 3, 5, 10, 5, 2, 1, 9, 3, 8, 4, 7, 7, 2, 2, 4, 4, 3, 6, 9, 2, 1, 3, 10, 4, 9, 7, 4, 6, 6, 5, 1, 8, 2, 8, 10, 6, 2, 1, 1, 1, 6, 3, 4, 10, 7, 5, 1, 4, 3, 9, 7, 10, 6, 3, 5, 3, 8, 7, 8, 2, 6, 8, 9, 3, 4, 10, 6, 7, 5, 9, 5, 6, 5, 6, 5, 10, 10, 7, 6, 1, 3, 1, 9, 5, 7, 4, 1, 7, 4, 3, 10, 9, 2, 4, 3, 3, 5, 6, 2, 7, 2, 10, 4, 9, 8, 2, 8, 10, 4, 3, 3, 2, 4, 9, 6, 10, 1, 5, 6, 1, 5, 8, 3, 2, 6, 9, 8, 6, 1, 9, 5, 4, 2, 8, 8, 6, 5, 3, 1, 4, 10, 1, 8, 6, 10, 3, 7, 4, 1, 7, 10, 9, 9, 10, 7, 7, 10, 1, 4, 4, 4, 6, 3, 7, 1, 8, 10, 8, 10, 2, 7, 8, 9, 10, 4, 5, 6, 2, 8, 7, 3, 7, 2, 5, 7, 7, 1, 10, 6, 6, 3, 8, 9, 3, 7, 1, 7, 1, 1, 8, 9, 5, 4, 10, 5, 2, 9, 10, 1, 6, 4, 6, 7, 3, 9, 8, 5, 1, 8, 2, 7, 3, 5, 8, 2, 8, 7, 4, 4, 9, 7, 10, 1, 8, 5, 3, 9, 8, 6, 8, 3, 10, 1, 2, 6, 1, 8, 9, 7, 5, 9, 7, 2, 5, 2, 2, 10, 3, 5, 9, 2, 2, 4, 9, 10, 2, 6, 4], \"Freq\": [0.9682010195186466, 0.9591080384665692, 0.959831088544849, 0.9851324460875189, 0.9851324460875189, 0.9684337563359585, 0.9699241198133164, 0.9802344375665641, 0.9889732329060137, 0.9784792495363435, 0.9915905319499613, 0.9465318359352011, 0.9871768877854395, 0.9678399527109353, 0.9683159351633566, 0.9740306299923321, 0.9774298398150042, 0.9972442371845406, 0.9896436784912352, 0.9391579112093971, 0.9736050034676552, 0.9465318359352015, 0.9867320303428655, 0.9674388747127104, 0.9714855269128012, 0.9923708795269465, 0.9871367055863383, 0.9510590537136027, 0.9413432888419164, 0.966130638914807, 0.9849147256417177, 0.9860370406710544, 0.939857559533128, 0.9983827100690644, 0.9566206355595434, 0.9672042136135737, 0.9460264117914259, 0.9608284261627201, 0.9756092616067855, 0.9718304018129251, 0.97521832816757, 0.9947751837132992, 0.959831088544849, 0.9908696671007903, 0.9682010195186466, 0.7579610441619057, 0.19772896804223627, 0.9878420970832484, 0.9776331154018095, 0.9816906171392794, 0.9860382613186698, 0.95946901616011, 0.9678399527109355, 0.9627096167782432, 0.959189142868995, 0.9847281959743057, 0.9798020234461591, 0.9640779907124026, 0.938934358610181, 0.9918560094795105, 0.9593701175127444, 0.9772905363920777, 0.9900787914199923, 0.9531638934843051, 0.9677484406861406, 0.9882869784202247, 0.9599299292443537, 0.9721231116044821, 0.9809257613371749, 0.9672454819183356, 0.9834337212024834, 0.9769525089028775, 0.9516393197886646, 0.9589330783310168, 0.9661306389148069, 0.9780131371798915, 0.971671573819846, 0.9510590537136028, 0.9554641741989266, 0.9812097670955694, 0.9805167016616784, 0.979986504798399, 0.9894410929888501, 0.9465318359352017, 0.9557195770919886, 0.9832564718606802, 0.9913198328035978, 0.9389343586101805, 0.9719105164044545, 0.9885571663111157, 0.9750075989891257, 0.9844320618374667, 0.9881725934723067, 0.9793677340887599, 0.9671278765325623, 0.9910918413091495, 0.9743610030863608, 0.9906801269685463, 0.9824460935146343, 0.9640779907124029, 0.9730643946291118, 0.979179960398788, 0.9754063587039371, 0.9682366907312254, 0.9871367055863394, 0.959831088544849, 0.9566206355595434, 0.9650821299375544, 0.9773631516019248, 0.9677484406861406, 0.9794237561322525, 0.9725693253432798, 0.9756092616067855, 0.9932983673204708, 0.9754063587039371, 0.9334351408963979, 0.9678399527109353, 0.9520587257769985, 0.989325470613669, 0.9892731531301654, 0.9932983673204705, 0.9918560094795105, 0.9511386193657386, 0.9736050034676552, 0.9860382613186698, 0.9806780402257738, 0.9845824856632532, 0.9861108975550738, 0.9786538891205746, 0.9415306551877894, 0.9640779907124031, 0.983429694697301, 0.9871367055863383, 0.9627096167782432, 0.9466026402185285, 0.9926859775107941, 0.9646687495226867, 0.990931696429712, 0.9908575214379982, 0.9595813409279127, 0.9677498291336661, 0.9676405969199715, 0.983045145155737, 0.9812097670955694, 0.9964516671512117, 0.9935215305733951, 0.9734105756699838, 0.9752589162586529, 0.9888623310132135, 0.9837960754907243, 0.979713357562624, 0.9812097670955701, 0.9334351408963981, 0.9847258845020942, 0.9821059542828615, 0.9520587257769985, 0.9750075989891257, 0.9822040719910649, 0.9944842301301288, 0.9850439412990314, 0.9737313019280341, 0.9708932118123024, 0.9870296848752451, 0.973731301928034, 0.977278283770818, 0.966706894970707, 0.9775146183716703, 0.9632072543025914, 0.9819790814637934, 0.9674356117077693, 0.9941212006456784, 0.9851508910138991, 0.9566206355595435, 0.9863611005882633, 0.9840477118804422, 0.9661919983008055, 0.9812097670955694, 0.9955411224576243, 0.9685803446969173, 0.9959779400461487, 0.9891091952192697, 0.9640779907124023, 0.9805167016616784, 0.9955596823089422, 0.9847569400606387, 0.9782410377512455, 0.9389343586101805, 0.9590323533978441, 0.9591080384665691, 0.9891091952192697, 0.9736050034676552, 0.9706562561613196, 0.9687716930016913, 0.9966302912727834, 0.9687033650300051, 0.9948939439399305, 0.9879414855564017, 0.9963968190578784, 0.9916947574470117, 0.9630724527136838, 0.9511386193657384, 0.23871293259274504, 0.7502406452914844, 0.9680957041357461, 0.9834337212024834, 0.9776331154018095, 0.9706562561613196, 0.9675491118774151, 0.9861108975550733, 0.9772594325115808, 0.9812806561923019, 0.9758121671314268, 0.971671573819846, 0.9466026402185285, 0.9672042136135737, 0.9926859775107941, 0.9889185560705334, 0.9913198328035978, 0.9411470970995891, 0.9842526212311787, 0.9630724527136836, 0.9932983673204708, 0.9520587257769985, 0.9849147256417177, 0.9653550705828846, 0.9754063587039371, 0.9654428814886225, 0.9822040719910649, 0.9831037465904578, 0.9640779907124031, 0.9903930959584216, 0.9776391311294398, 0.978360446334177, 0.9772782837708175, 0.9651803332265858, 0.9473383626993205, 0.9950073805055691, 0.9871367055863394, 0.9767373995130012, 0.9740306299923323, 0.9865100957448754, 0.9971202799184088, 0.9591080384665694, 0.938934358610181, 0.9837573396419488, 0.9769525089028775, 0.9885089555055722, 0.9783840814780985, 0.9736050034676552, 0.9803170566234266, 0.9765298181265976, 0.9684418264585583, 0.9682351710106979, 0.9727973381345111, 0.9676115483232687, 0.9711992261028416, 0.9721873721066594, 0.9834296946973008, 0.9598280929344365, 0.9678266688854192, 0.9728742164678845, 0.9942241595673644, 0.9853802760878738, 0.9699837601686188, 0.9730643946291118, 0.9795969319000251, 0.9721873721066594, 0.9939252752489188, 0.9810228612705221, 0.9905231634293156, 0.9979644143841485, 0.998411223211904, 0.9918243924882841, 0.9889732329060137, 0.989157068734393, 0.9684418264585583, 0.9734105756699838, 0.9756092616067855, 0.9659988178208411, 0.9855598946287587, 0.9918735328494436, 0.9334351408963979, 0.989955996009168, 0.9590323533978441, 0.9761467980139106, 0.9715116516936003, 0.9928734674508788, 0.9721873721066594, 0.9915594705034213, 0.9788040807921202, 0.9816906171392802, 0.9937835858674495, 0.9725693253432797, 0.991694757447013, 0.9569915219888275, 0.9837960754907243, 0.989622208330127, 0.9819790814637934, 0.9806062131166516, 0.9833618589501018, 0.9862391201930777, 0.9684337563359585, 0.9851508910138991, 0.9767373995130009], \"Term\": [\"adds\", \"affected\", \"air\", \"airport\", \"allowed\", \"amid\", \"ang\", \"area\", \"areas\", \"army\", \"assault\", \"away\", \"ban\", \"big\", \"black\", \"border\", \"breaking\", \"bus\", \"buses\", \"cancelled\", \"capital\", \"car\", \"care\", \"cars\", \"case\", \"cases\", \"ccp\", \"central\", \"chance\", \"chicago\", \"china\", \"cities\", \"citizens\", \"city\", \"close\", \"closed\", \"college\", \"combat\", \"come\", \"confirmed\", \"contain\", \"coronavirus\", \"cost\", \"country\", \"county\", \"covid\", \"covid\", \"crisis\", \"daily\", \"day\", \"days\", \"deadly\", \"death\", \"deaths\", \"declared\", \"delhi\", \"demand\", \"departed\", \"despite\", \"distancing\", \"drive\", \"driver\", \"drivers\", \"emergency\", \"employee\", \"employees\", \"ensure\", \"essential\", \"express\", \"face\", \"facilities\", \"federal\", \"fight\", \"flight\", \"following\", \"food\", \"free\", \"frequency\", \"frontline\", \"gambaran\", \"getting\", \"given\", \"going\", \"good\", \"got\", \"government\", \"govt\", \"grocery\", \"hands\", \"health\", \"help\", \"helps\", \"high\", \"hit\", \"hold\", \"home\", \"hospital\", \"hospitals\", \"hours\", \"house\", \"hub\", \"including\", \"increase\", \"indian\", \"individual\", \"infection\", \"information\", \"jan\", \"kids\", \"killed\", \"know\", \"latest\", \"law\", \"leave\", \"leaving\", \"lesser\", \"let\", \"level\", \"life\", \"like\", \"likely\", \"line\", \"lines\", \"live\", \"lives\", \"local\", \"locking\", \"london\", \"long\", \"look\", \"low\", \"major\", \"make\", \"making\", \"man\", \"manila\", \"march\", \"mask\", \"masks\", \"mass\", \"measures\", \"media\", \"medical\", \"message\", \"metro\", \"metropolitan\", \"migrant\", \"migrants\", \"million\", \"minister\", \"morning\", \"mumbai\", \"mungkin\", \"national\", \"nbssnl\", \"near\", \"necessary\", \"need\", \"new\", \"news\", \"night\", \"non\", \"number\", \"nyc\", \"odd\", \"officials\", \"open\", \"order\", \"outbound\", \"outside\", \"oxygen\", \"parents\", \"park\", \"passengers\", \"patient\", \"patients\", \"pay\", \"people\", \"period\", \"piyushgoyal\", \"place\", \"pmindia\", \"pmoindia\", \"police\", \"policy\", \"positive\", \"possible\", \"president\", \"prevent\", \"private\", \"protect\", \"protective\", \"provide\", \"public\", \"quarantine\", \"rail\", \"railminindia\", \"railway\", \"railways\", \"rates\", \"read\", \"real\", \"real\", \"really\", \"reduced\", \"relief\", \"report\", \"reports\", \"residents\", \"respected\", \"restrictions\", \"right\", \"risk\", \"road\", \"run\", \"running\", \"safe\", \"said\", \"save\", \"say\", \"saying\", \"says\", \"school\", \"schools\", \"second\", \"sector\", \"security\", \"service\", \"services\", \"shops\", \"shut\", \"shuttle\", \"situation\", \"source\", \"south\", \"speed\", \"spread\", \"staff\", \"start\", \"starting\", \"state\", \"station\", \"stations\", \"step\", \"stop\", \"students\", \"subway\", \"supplies\", \"sure\", \"survive\", \"suspended\", \"tells\", \"temporarily\", \"test\", \"tested\", \"testing\", \"thank\", \"things\", \"think\", \"thousands\", \"thursday\", \"time\", \"today\", \"told\", \"toll\", \"tomorrow\", \"total\", \"train\", \"trains\", \"transit\", \"transport\", \"transportation\", \"treatrailwayemployeesfrontlineworker\", \"update\", \"use\", \"using\", \"vaccination\", \"vaccines\", \"verify\", \"video\", \"virus\", \"waiting\", \"want\", \"warriors\", \"water\", \"way\", \"weapons\", \"wearamask\", \"wearing\", \"week\", \"work\", \"workers\", \"workforce\", \"working\", \"world\", \"wtf\", \"wuhan\", \"wuhancoronavirus\", \"wuhanpneumonia\", \"year\", \"years\", \"yesterday\", \"york\", \"zero\"]}, \"R\": 30, \"lambda.step\": 0.01, \"plot.opts\": {\"xlab\": \"PC1\", \"ylab\": \"PC2\"}, \"topic.order\": [4, 8, 7, 2, 9, 10, 5, 6, 1, 3]};\n",
       "\n",
       "function LDAvis_load_lib(url, callback){\n",
       "  var s = document.createElement('script');\n",
       "  s.src = url;\n",
       "  s.async = true;\n",
       "  s.onreadystatechange = s.onload = callback;\n",
       "  s.onerror = function(){console.warn(\"failed to load library \" + url);};\n",
       "  document.getElementsByTagName(\"head\")[0].appendChild(s);\n",
       "}\n",
       "\n",
       "if(typeof(LDAvis) !== \"undefined\"){\n",
       "   // already loaded: just create the visualization\n",
       "   !function(LDAvis){\n",
       "       new LDAvis(\"#\" + \"ldavis_el24671404573363260641019744021\", ldavis_el24671404573363260641019744021_data);\n",
       "   }(LDAvis);\n",
       "}else if(typeof define === \"function\" && define.amd){\n",
       "   // require.js is available: use it to load d3/LDAvis\n",
       "   require.config({paths: {d3: \"https://d3js.org/d3.v5\"}});\n",
       "   require([\"d3\"], function(d3){\n",
       "      window.d3 = d3;\n",
       "      LDAvis_load_lib(\"https://cdn.jsdelivr.net/gh/bmabey/pyLDAvis@3.3.1/pyLDAvis/js/ldavis.v3.0.0.js\", function(){\n",
       "        new LDAvis(\"#\" + \"ldavis_el24671404573363260641019744021\", ldavis_el24671404573363260641019744021_data);\n",
       "      });\n",
       "    });\n",
       "}else{\n",
       "    // require.js not available: dynamically load d3 & LDAvis\n",
       "    LDAvis_load_lib(\"https://d3js.org/d3.v5.js\", function(){\n",
       "         LDAvis_load_lib(\"https://cdn.jsdelivr.net/gh/bmabey/pyLDAvis@3.3.1/pyLDAvis/js/ldavis.v3.0.0.js\", function(){\n",
       "                 new LDAvis(\"#\" + \"ldavis_el24671404573363260641019744021\", ldavis_el24671404573363260641019744021_data);\n",
       "            })\n",
       "         });\n",
       "}\n",
       "</script>"
      ],
      "text/plain": [
       "PreparedData(topic_coordinates=              x         y  topics  cluster       Freq\n",
       "topic                                                \n",
       "3      0.373777  0.252338       1        1  11.299243\n",
       "7      0.116130  0.423736       2        1  10.456131\n",
       "6     -0.329503 -0.242583       3        1  10.445816\n",
       "1     -0.243771  0.408418       4        1  10.390021\n",
       "8      0.192605 -0.423848       5        1  10.187481\n",
       "9     -0.166258  0.152029       6        1   9.793095\n",
       "4     -0.111554 -0.405712       7        1   9.756565\n",
       "5     -0.461531  0.017997       8        1   9.356750\n",
       "0      0.178489 -0.084196       9        1   9.268716\n",
       "2      0.451616 -0.098179      10        1   9.046182, topic_info=          Term        Freq       Total Category  logprob  loglift\n",
       "669  transport  441.000000  441.000000  Default  30.0000  30.0000\n",
       "602    station  360.000000  360.000000  Default  29.0000  29.0000\n",
       "58         bus  341.000000  341.000000  Default  28.0000  28.0000\n",
       "480     public  340.000000  340.000000  Default  27.0000  27.0000\n",
       "443     people  278.000000  278.000000  Default  26.0000  26.0000\n",
       "..         ...         ...         ...      ...      ...      ...\n",
       "461   possible   20.434211   21.300744  Topic10  -4.5273   2.3613\n",
       "150    despite   20.434211   21.300744  Topic10  -4.5273   2.3613\n",
       "604       step   20.434211   21.300744  Topic10  -4.5273   2.3613\n",
       "64   cancelled   19.364357   20.230890  Topic10  -4.5810   2.3591\n",
       "496       real   21.504452   29.323924  Topic10  -4.4762   2.0927\n",
       "\n",
       "[332 rows x 6 columns], token_table=      Topic      Freq       Term\n",
       "term                            \n",
       "5         8  0.968201       adds\n",
       "8         9  0.959108   affected\n",
       "14        9  0.959831        air\n",
       "15        5  0.985132    airport\n",
       "18        5  0.985132    allowed\n",
       "...     ...       ...        ...\n",
       "729       9  0.983362       year\n",
       "730      10  0.986239      years\n",
       "731       2  0.968434  yesterday\n",
       "732       6  0.985151       york\n",
       "733       4  0.976737       zero\n",
       "\n",
       "[304 rows x 3 columns], R=30, lambda_step=0.01, plot_opts={'xlab': 'PC1', 'ylab': 'PC2'}, topic_order=[4, 8, 7, 2, 9, 10, 5, 6, 1, 3])"
      ]
     },
     "execution_count": 56,
     "metadata": {},
     "output_type": "execute_result"
    }
   ],
   "source": [
    "pyLDAvis.sklearn.prepare(lda_tfidf, dtm_tfidf, tfidf_vectorizer, mds='mmds')"
   ]
  },
  {
   "cell_type": "code",
   "execution_count": 58,
   "id": "9181ec65",
   "metadata": {},
   "outputs": [
    {
     "name": "stdout",
     "output_type": "stream",
     "text": [
      "(33024, 460)\n"
     ]
    },
    {
     "name": "stderr",
     "output_type": "stream",
     "text": [
      "/students/jw10/miniconda3/lib/python3.9/site-packages/past/builtins/misc.py:45: DeprecationWarning: the imp module is deprecated in favour of importlib; see the module's documentation for alternative uses\n",
      "  from imp import reload\n",
      "/students/jw10/miniconda3/lib/python3.9/site-packages/past/builtins/misc.py:45: DeprecationWarning: the imp module is deprecated in favour of importlib; see the module's documentation for alternative uses\n",
      "  from imp import reload\n",
      "/students/jw10/miniconda3/lib/python3.9/site-packages/past/builtins/misc.py:45: DeprecationWarning: the imp module is deprecated in favour of importlib; see the module's documentation for alternative uses\n",
      "  from imp import reload\n",
      "/students/jw10/miniconda3/lib/python3.9/site-packages/past/builtins/misc.py:45: DeprecationWarning: the imp module is deprecated in favour of importlib; see the module's documentation for alternative uses\n",
      "  from imp import reload\n"
     ]
    },
    {
     "data": {
      "text/html": [
       "\n",
       "<link rel=\"stylesheet\" type=\"text/css\" href=\"https://cdn.jsdelivr.net/gh/bmabey/pyLDAvis@3.3.1/pyLDAvis/js/ldavis.v1.0.0.css\">\n",
       "\n",
       "\n",
       "<div id=\"ldavis_el24671404573315534402493307144\"></div>\n",
       "<script type=\"text/javascript\">\n",
       "\n",
       "var ldavis_el24671404573315534402493307144_data = {\"mdsDat\": {\"x\": [0.014144682417930321, 0.04795376361576255, -0.3642969034942889, -0.22900295715211297, 0.33539776550831696, 0.3986617406108369, 0.09788969039763559, -0.2433796694738649, -0.4285983279272754, 0.3712302154970599], \"y\": [0.07360774000456768, -0.4127538975303591, -0.13526233333936202, 0.3854706462214761, -0.31760540227791156, -0.04093209866194847, 0.43833276623610007, -0.3803556008892566, 0.13430964067642143, 0.2551885395602724], \"topics\": [1, 2, 3, 4, 5, 6, 7, 8, 9, 10], \"cluster\": [1, 1, 1, 1, 1, 1, 1, 1, 1, 1], \"Freq\": [11.093353173102498, 10.761886240311327, 10.559462280545327, 10.271618848160518, 10.222592227652425, 9.875181971322858, 9.840941769819528, 9.361526886067947, 9.109331984628811, 8.904104618388759]}, \"tinfo\": {\"Term\": [\"walk\", \"walking\", \"night\", \"people\", \"right\", \"think\", \"long\", \"use\", \"walks\", \"like\", \"went\", \"know\", \"happy\", \"story\", \"stuff\", \"personal\", \"lighthearted\", \"goes\", \"sleep\", \"beginning\", \"mask\", \"painful\", \"time\", \"home\", \"exercise\", \"health\", \"free\", \"day\", \"run\", \"today\", \"walking\", \"story\", \"painful\", \"away\", \"let\", \"new\", \"really\", \"wearing\", \"news\", \"police\", \"masks\", \"media\", \"morning\", \"school\", \"talk\", \"response\", \"break\", \"ensure\", \"sadly\", \"toll\", \"allowed\", \"women\", \"close\", \"buy\", \"line\", \"ramyinocencio\", \"simply\", \"stand\", \"officials\", \"rules\", \"personal\", \"goes\", \"sleep\", \"beginning\", \"day\", \"run\", \"hospital\", \"killers\", \"thing\", \"water\", \"dog\", \"cars\", \"donald\", \"friends\", \"died\", \"job\", \"constitutional\", \"foot\", \"video\", \"forced\", \"kids\", \"trains\", \"trying\", \"words\", \"power\", \"using\", \"follow\", \"instead\", \"best\", \"needs\", \"people\", \"mask\", \"exercise\", \"free\", \"military\", \"going\", \"want\", \"start\", \"say\", \"black\", \"march\", \"hand\", \"fear\", \"week\", \"daily\", \"asked\", \"faith\", \"migrants\", \"voters\", \"sink\", \"feel\", \"seen\", \"transport\", \"double\", \"global\", \"heart\", \"fast\", \"row\", \"south\", \"yes\", \"long\", \"walks\", \"happy\", \"lighthearted\", \"home\", \"radicalize\", \"bike\", \"life\", \"year\", \"old\", \"disabilities\", \"latest\", \"alabama\", \"security\", \"space\", \"sure\", \"big\", \"famous\", \"ground\", \"plazas\", \"wave\", \"immune\", \"try\", \"checkpoints\", \"crisis\", \"suffering\", \"francisco\", \"fucking\", \"knows\", \"photo\", \"night\", \"went\", \"stuff\", \"dead\", \"cycle\", \"running\", \"public\", \"man\", \"breonna\", \"city\", \"workers\", \"covid\", \"country\", \"local\", \"took\", \"lockdown\", \"beach\", \"supplies\", \"weeks\", \"die\", \"recite\", \"america\", \"remember\", \"tested\", \"future\", \"hope\", \"suspended\", \"folks\", \"ride\", \"students\", \"walk\", \"lane\", \"distancing\", \"work\", \"oxygen\", \"taylor\", \"person\", \"park\", \"taking\", \"drink\", \"food\", \"end\", \"live\", \"high\", \"years\", \"florida\", \"ran\", \"safety\", \"grammys\", \"talking\", \"cities\", \"transportation\", \"trump\", \"drive\", \"infected\", \"stupid\", \"used\", \"restrictions\", \"left\", \"blocks\", \"think\", \"use\", \"test\", \"need\", \"outside\", \"safe\", \"past\", \"virus\", \"come\", \"coronavirus\", \"important\", \"world\", \"cycling\", \"fine\", \"shut\", \"days\", \"street\", \"club\", \"supreme\", \"times\", \"chicago\", \"york\", \"roads\", \"pandemic\", \"doctors\", \"giving\", \"great\", \"lol\", \"hard\", \"making\", \"right\", \"today\", \"risk\", \"road\", \"government\", \"help\", \"vaccinated\", \"face\", \"bus\", \"express\", \"woman\", \"car\", \"family\", \"god\", \"met\", \"positive\", \"saw\", \"low\", \"service\", \"imagine\", \"nurses\", \"read\", \"state\", \"little\", \"started\", \"workout\", \"place\", \"dark\", \"death\", \"fever\", \"like\", \"know\", \"make\", \"testing\", \"patients\", \"staff\", \"stop\", \"zero\", \"literally\", \"look\", \"care\", \"hours\", \"said\", \"court\", \"lot\", \"justices\", \"sick\", \"months\", \"miles\", \"problem\", \"says\", \"house\", \"platform\", \"taken\", \"non\", \"case\", \"pcr\", \"shows\", \"point\", \"results\", \"time\", \"health\", \"fight\", \"way\", \"medical\", \"funneled\", \"good\", \"got\", \"love\", \"getting\", \"tell\", \"railways\", \"cases\", \"open\", \"caring\", \"deaths\", \"perfectly\", \"vaccination\", \"thank\", \"things\", \"avoid\", \"restaurant\", \"asking\", \"change\", \"green\", \"middle\", \"working\", \"absolutely\", \"amid\", \"cover\", \"post\"], \"Freq\": [529.0, 552.0, 301.0, 243.0, 206.0, 208.0, 174.0, 167.0, 169.0, 157.0, 162.0, 151.0, 145.0, 149.0, 140.0, 142.0, 138.0, 140.0, 138.0, 135.0, 130.0, 131.0, 107.0, 109.0, 110.0, 79.0, 80.0, 79.0, 77.0, 72.0, 552.0542498712816, 148.93326817071542, 130.32768439991654, 68.30907183056777, 62.993190753191875, 58.563289855377775, 39.07172590498003, 33.5505804812089, 31.097904288893044, 30.211924109326787, 29.325943929760193, 24.010062852353073, 20.4661421340707, 17.80820159534939, 16.92222141577302, 15.150261056615022, 14.264280877032705, 14.264280877032705, 14.264280877032705, 14.264280877032705, 13.378300697447573, 13.378300697447578, 12.492320517859026, 11.606340338266245, 11.606340338266245, 11.606340338266245, 11.606340338266245, 11.606340338266245, 10.720360158668145, 10.720360158668145, 141.66849877777526, 139.85339949794246, 137.13075057819302, 134.4081016584447, 78.14002398362062, 76.92896306514723, 45.468236946597024, 35.48519090749001, 33.67009162765045, 32.76254198773032, 27.31724414820416, 26.409694508281916, 23.68704558851233, 23.68704558851233, 20.96439666873712, 20.96439666873712, 20.05684702881041, 20.05684702881041, 20.05684702881041, 18.241747748953724, 18.241747748953724, 18.241747748953724, 18.241747748953724, 18.241747748953724, 17.33419810902343, 17.33419810902343, 16.42664846909152, 16.42664846909152, 15.519098829157718, 14.611549189221671, 242.67830631851763, 129.44011900447722, 109.8555160801309, 79.25511447437309, 48.97840388749419, 45.2888819364206, 32.37555510764859, 30.53079413210674, 29.608413644335396, 28.686033156563763, 27.763652668791718, 25.918891693246483, 24.996511205473187, 24.996511205473187, 24.074130717699294, 21.306989254373775, 20.38460876659698, 20.384608766596983, 20.38460876659698, 19.46222827881919, 18.539847791040245, 18.539847791040245, 18.53984779104025, 17.617467303259943, 17.617467303259943, 17.617467303259943, 16.69508681547808, 15.772706327694378, 15.772706327694376, 15.772706327694378, 174.01391265047727, 168.34262815304305, 144.71227608040255, 137.1505634171564, 108.79414092998414, 73.82121986246179, 70.04036353083629, 37.635786501746104, 36.07216012394068, 22.948025323174118, 19.944017136675217, 19.944017136675196, 19.944017136675214, 16.163160804996085, 15.217946722071757, 15.217946722071757, 14.27273263914485, 14.27273263914485, 14.27273263914485, 14.27273263914485, 14.27273263914485, 13.327518556214814, 13.327518556214816, 12.38230447328092, 12.382304473280918, 12.382304473280918, 11.437090390342163, 11.437090390342163, 11.437090390342163, 11.437090390342163, 301.01868443698964, 161.4735989306656, 139.64001412355182, 72.24068711026868, 64.64639674257083, 63.697110446608406, 59.899965262758535, 38.066380455603536, 37.117094159639045, 34.028433748358864, 29.522803791915635, 21.503068506717717, 20.02994083222531, 18.1313682402773, 18.1313682402773, 17.773563295613243, 17.18208194430115, 17.18208194430115, 17.18208194430115, 15.283509352343145, 15.283509352343149, 14.334223056360546, 14.334223056360546, 14.060776648614565, 13.384936760374822, 13.384936760374822, 13.384936760374822, 11.486364168390873, 11.486364168390873, 11.486364168390873, 528.9243984427208, 63.75296858539062, 58.856427218465846, 48.76647436500291, 47.104727937841204, 40.249570024138144, 38.29095347736472, 37.31164520397775, 30.456487290263098, 24.58063764992337, 23.601329376531584, 22.62202110313906, 22.62202110313906, 21.38255123617415, 20.663404556351523, 18.704788009559667, 18.704788009559667, 18.704788009559667, 17.725479736161684, 17.725479736161684, 16.746171462761986, 16.746171462761986, 16.746171462761986, 15.76686318936025, 14.787554915956077, 14.787554915956077, 14.787554915956077, 13.808246642548909, 12.828938369138069, 11.849630095722587, 208.10291595363486, 166.69920931910812, 49.388707187894504, 47.41710211005614, 37.559076720858016, 34.6016691040956, 33.615866565174386, 33.615866565174386, 32.630064026252924, 31.64426148733122, 27.701051331641008, 27.701051331641008, 26.715248792717446, 25.729446253793398, 23.75784117594356, 22.45457867137142, 21.78623609809089, 20.800433559163213, 20.800433559163213, 20.800433559163213, 19.8146310202345, 19.8146310202345, 17.84302594237313, 17.349789770955606, 16.857223403440035, 16.857223403440035, 16.857223403440035, 16.857223403440035, 16.85722340344004, 15.871420864504916, 205.82169491911438, 71.43284338253032, 43.18924676463641, 37.31875030011787, 33.87473833680401, 33.18370871436251, 32.85346900035442, 32.14994831792304, 31.116187921483238, 31.116187921483238, 30.08242752504314, 29.048667128602627, 25.94738593927843, 24.913625542835938, 24.913625542835945, 23.879865146392778, 23.879865146392778, 22.846104749948875, 21.812344353504102, 20.778583957058327, 19.744823560611383, 19.744823560611383, 19.744823560611383, 18.711063164163097, 18.711063164163097, 18.711063164163097, 16.643542371261418, 15.609781974807337, 15.609781974807339, 15.609781974807339, 156.70023769874734, 150.3086576426159, 48.04337674446826, 43.78232337370543, 41.65179668832331, 41.65179668832332, 36.32547997486513, 34.19495328948041, 28.868636576013394, 27.803373233318812, 25.67284654792808, 25.67284654792808, 25.67284654792808, 24.607583205231762, 24.607583205231762, 22.4770565198369, 22.4770565198369, 20.346529834438126, 19.28126649173687, 19.281266491736872, 19.281266491736872, 18.216003149034076, 18.216003149034073, 18.216003149034073, 17.316719921471282, 17.15073980632944, 17.15073980632944, 17.15073980632944, 16.08547646362259, 16.08547646362259, 106.23629873363186, 78.88400760487234, 62.47263292761033, 59.19035799215692, 43.87307496003282, 42.7789833148803, 41.68489166972768, 40.59080002457492, 36.21443344396193, 34.02625015365413, 32.932158508499796, 32.932158508499796, 29.64988357303478, 29.64988357303478, 28.555791927878968, 28.555791927878968, 28.55579192787896, 27.853541384190518, 25.273516992408304, 24.179425347250106, 20.897150411770127, 20.897150411770127, 17.614875476278453, 17.61487547627845, 16.520783831110716, 15.42669218594037, 15.42669218594037, 14.332600540766789, 14.332600540766789, 14.332600540766787, 18.780087800734528], \"Total\": [529.0, 552.0, 301.0, 243.0, 206.0, 208.0, 174.0, 167.0, 169.0, 157.0, 162.0, 151.0, 145.0, 149.0, 140.0, 142.0, 138.0, 140.0, 138.0, 135.0, 130.0, 131.0, 107.0, 109.0, 110.0, 79.0, 80.0, 79.0, 77.0, 72.0, 552.9425155568302, 149.82153385629076, 131.21595008549707, 69.1973375161862, 63.88145643881704, 59.45155554100949, 39.959991590658404, 34.438846626498844, 31.98616997460756, 31.100189795046518, 30.214209615485448, 24.898328538120158, 21.354407819877956, 18.69646728119747, 17.810487101637623, 16.0385267425186, 15.152546562959484, 15.152546562959484, 15.152546562959484, 15.152546562959484, 14.266566383400711, 14.266566383400717, 13.380586203842364, 12.494606024284534, 12.494606024284534, 12.494606024284534, 12.494606024284534, 12.494606024284534, 11.608625844727355, 11.608625844727355, 142.55460751641698, 140.73950823658458, 138.016859316836, 135.29421039708842, 79.02613272229239, 77.81507209882923, 46.35434568531722, 36.37129964624299, 34.556200366411495, 33.64865072649574, 28.20335288700199, 27.29580324708647, 24.57315432734019, 24.57315432734019, 21.850505407594426, 21.850505407594426, 20.942955767679347, 20.942955767679347, 20.942955767679347, 19.127856487849453, 19.127856487849453, 19.127856487849453, 19.127856487849453, 19.127856487849453, 18.220306847934705, 18.220306847934705, 17.31275720802009, 17.31275720802009, 16.405207568105656, 15.497657928191447, 243.56293197180042, 130.32474501182645, 110.74014173343912, 80.13974195050129, 49.86302954086051, 46.1735075897955, 33.2601807610691, 31.415419785536955, 30.493039297770927, 29.570658810004947, 28.64827832223894, 26.803517346707096, 25.881136858941236, 25.881136858941236, 24.958756371175372, 22.191614907878154, 21.26923442011254, 21.269234420112543, 21.26923442011254, 20.346853932347, 19.424473444581547, 19.424473444581547, 19.42447344458155, 18.502092956816185, 18.502092956816185, 18.502092956816185, 17.57971246905095, 16.657331981285864, 16.65733198128586, 16.657331981285864, 174.8962549434603, 169.22497044602702, 145.59461837339128, 138.032905710147, 109.67648322298416, 74.70356215548333, 70.92270582386146, 38.518129341275475, 36.95450241676501, 23.830367615898272, 20.826359429880657, 20.826359429880636, 20.826359429880654, 17.045503098261534, 16.100289015356974, 16.100289015356974, 15.155074932452536, 15.155074932452536, 15.155074932452536, 15.155074932452536, 15.155074932452536, 14.209860849548239, 14.20986084954824, 13.26464676664413, 13.264646766644127, 13.264646766644127, 12.31943268374025, 12.31943268374025, 12.31943268374025, 12.31943268374025, 301.90061950852066, 162.35553400221062, 140.5219491951016, 73.12262218185131, 65.52833181416149, 64.57904551820019, 60.78190033435522, 38.94831552724768, 37.999029231286535, 34.91036925039837, 30.404738863597693, 22.385009751677494, 20.911875903988157, 19.01330331206667, 19.01330331206667, 18.655503191232263, 18.064017016106025, 18.064017016106025, 18.064017016106025, 16.16544442418495, 16.165444424184955, 15.216158128224583, 15.216158128224583, 14.942713660848439, 14.266871832264332, 14.266871832264332, 14.266871832264332, 12.368299240344374, 12.368299240344374, 12.368299240344374, 529.8033313155629, 64.6319014582977, 59.73536009137909, 49.645407623901356, 47.98366081077451, 41.128502897088616, 39.169886350321235, 38.19057807693753, 31.335420163251662, 25.45957052294959, 24.48026224956593, 23.500953976182245, 23.500953976182245, 22.261485147250667, 21.542337429414967, 19.583720882647693, 19.583720882647693, 19.583720882647693, 18.604412609264077, 18.604412609264077, 17.625104335880472, 17.625104335880472, 17.625104335880472, 16.645796062496878, 15.666487789113308, 15.666487789113308, 15.666487789113308, 14.68717951572975, 13.707871242346235, 12.728562968962741, 208.98119939979586, 167.57749276527468, 50.26699063412783, 48.29538555629344, 38.43736016712147, 35.47995255036983, 34.49415001145263, 34.49415001145263, 33.50834747253545, 32.52254493361828, 28.57933477794949, 28.57933477794949, 27.593532239032285, 26.60772970011509, 24.63612462228069, 23.332863500065223, 22.6645195444463, 21.67871700552909, 21.67871700552909, 21.67871700552909, 20.69291446661191, 20.69291446661191, 18.7213093887775, 18.228074357398643, 17.7355068498603, 17.7355068498603, 17.7355068498603, 17.7355068498603, 17.735506849860307, 16.749704310943113, 206.69518257824168, 72.30633104169753, 44.06273491156217, 38.19223795934148, 34.748226571713474, 34.05719637360094, 33.726957480923204, 33.023435977165775, 31.989675580730566, 31.989675580730566, 30.955915184295385, 29.922154787860148, 26.82087359855432, 25.787113202118984, 25.78711320211899, 24.753352805683612, 24.753352805683612, 23.719592409248214, 22.68583201281277, 21.652071616377263, 20.618311219941695, 20.618311219941695, 20.618311219941695, 19.58455082350606, 19.58455082350606, 19.58455082350606, 17.517030030634526, 16.483269634198585, 16.48326963419859, 16.48326963419859, 157.57057506255043, 151.17899500642014, 48.91371410833215, 44.65266073757792, 42.52213405220076, 42.52213405220078, 37.195817338757564, 35.06529065338017, 29.738973939936244, 28.673710597247357, 26.54318391186946, 26.54318391186946, 26.54318391186946, 25.477920569180405, 25.477920569180405, 23.347393883802173, 23.347393883802173, 21.21686719842359, 20.151603855734137, 20.15160385573414, 20.15160385573414, 19.08634051304456, 19.086340513044558, 19.086340513044558, 18.18706046717255, 18.021077170354825, 18.021077170354825, 18.021077170354825, 16.955813827664898, 16.955813827664898, 107.10375326661958, 79.75146213787332, 63.34008746062488, 60.057812525175095, 44.740529493075144, 43.64643784792502, 42.55234620277493, 41.45825455762482, 37.08188797702409, 34.893704686723616, 33.79961304157331, 33.79961304157331, 30.517338106122203, 30.517338106122203, 29.423246460971747, 29.423246460971747, 29.42324646097174, 28.720997214700322, 26.140971525519987, 25.046879880369254, 21.764604944916446, 21.764604944916446, 18.482330009462324, 18.48233000946232, 17.388238364310507, 16.294146719158398, 16.294146719158398, 15.200055074005927, 15.200055074005927, 15.200055074005926, 32.50593327340676], \"Category\": [\"Default\", \"Default\", \"Default\", \"Default\", \"Default\", \"Default\", \"Default\", \"Default\", \"Default\", \"Default\", \"Default\", \"Default\", \"Default\", \"Default\", \"Default\", \"Default\", \"Default\", \"Default\", \"Default\", \"Default\", \"Default\", \"Default\", \"Default\", \"Default\", \"Default\", \"Default\", \"Default\", \"Default\", \"Default\", \"Default\", \"Topic1\", \"Topic1\", \"Topic1\", \"Topic1\", \"Topic1\", \"Topic1\", \"Topic1\", \"Topic1\", \"Topic1\", \"Topic1\", \"Topic1\", \"Topic1\", \"Topic1\", \"Topic1\", \"Topic1\", \"Topic1\", \"Topic1\", \"Topic1\", \"Topic1\", \"Topic1\", \"Topic1\", \"Topic1\", \"Topic1\", \"Topic1\", \"Topic1\", \"Topic1\", \"Topic1\", \"Topic1\", \"Topic1\", \"Topic1\", \"Topic2\", \"Topic2\", \"Topic2\", \"Topic2\", \"Topic2\", \"Topic2\", \"Topic2\", \"Topic2\", \"Topic2\", \"Topic2\", \"Topic2\", \"Topic2\", \"Topic2\", \"Topic2\", \"Topic2\", \"Topic2\", \"Topic2\", \"Topic2\", \"Topic2\", \"Topic2\", \"Topic2\", \"Topic2\", \"Topic2\", \"Topic2\", \"Topic2\", \"Topic2\", \"Topic2\", \"Topic2\", \"Topic2\", \"Topic2\", \"Topic3\", \"Topic3\", \"Topic3\", \"Topic3\", \"Topic3\", \"Topic3\", \"Topic3\", \"Topic3\", \"Topic3\", \"Topic3\", \"Topic3\", \"Topic3\", \"Topic3\", \"Topic3\", \"Topic3\", \"Topic3\", \"Topic3\", \"Topic3\", \"Topic3\", \"Topic3\", \"Topic3\", \"Topic3\", \"Topic3\", \"Topic3\", \"Topic3\", \"Topic3\", \"Topic3\", \"Topic3\", \"Topic3\", \"Topic3\", \"Topic4\", \"Topic4\", \"Topic4\", \"Topic4\", \"Topic4\", \"Topic4\", \"Topic4\", \"Topic4\", \"Topic4\", \"Topic4\", \"Topic4\", \"Topic4\", \"Topic4\", \"Topic4\", \"Topic4\", \"Topic4\", \"Topic4\", \"Topic4\", \"Topic4\", \"Topic4\", \"Topic4\", \"Topic4\", \"Topic4\", \"Topic4\", \"Topic4\", \"Topic4\", \"Topic4\", \"Topic4\", \"Topic4\", \"Topic4\", \"Topic5\", \"Topic5\", \"Topic5\", \"Topic5\", \"Topic5\", \"Topic5\", \"Topic5\", \"Topic5\", \"Topic5\", \"Topic5\", \"Topic5\", \"Topic5\", \"Topic5\", \"Topic5\", \"Topic5\", \"Topic5\", \"Topic5\", \"Topic5\", \"Topic5\", \"Topic5\", \"Topic5\", \"Topic5\", \"Topic5\", \"Topic5\", \"Topic5\", \"Topic5\", \"Topic5\", \"Topic5\", \"Topic5\", \"Topic5\", \"Topic6\", \"Topic6\", \"Topic6\", \"Topic6\", \"Topic6\", \"Topic6\", \"Topic6\", \"Topic6\", \"Topic6\", \"Topic6\", \"Topic6\", \"Topic6\", \"Topic6\", \"Topic6\", \"Topic6\", \"Topic6\", \"Topic6\", \"Topic6\", \"Topic6\", \"Topic6\", \"Topic6\", \"Topic6\", \"Topic6\", \"Topic6\", \"Topic6\", \"Topic6\", \"Topic6\", \"Topic6\", \"Topic6\", \"Topic6\", \"Topic7\", \"Topic7\", \"Topic7\", \"Topic7\", \"Topic7\", \"Topic7\", \"Topic7\", \"Topic7\", \"Topic7\", \"Topic7\", \"Topic7\", \"Topic7\", \"Topic7\", \"Topic7\", \"Topic7\", \"Topic7\", \"Topic7\", \"Topic7\", \"Topic7\", \"Topic7\", \"Topic7\", \"Topic7\", \"Topic7\", \"Topic7\", \"Topic7\", \"Topic7\", \"Topic7\", \"Topic7\", \"Topic7\", \"Topic7\", \"Topic8\", \"Topic8\", \"Topic8\", \"Topic8\", \"Topic8\", \"Topic8\", \"Topic8\", \"Topic8\", \"Topic8\", \"Topic8\", \"Topic8\", \"Topic8\", \"Topic8\", \"Topic8\", \"Topic8\", \"Topic8\", \"Topic8\", \"Topic8\", \"Topic8\", \"Topic8\", \"Topic8\", \"Topic8\", \"Topic8\", \"Topic8\", \"Topic8\", \"Topic8\", \"Topic8\", \"Topic8\", \"Topic8\", \"Topic8\", \"Topic9\", \"Topic9\", \"Topic9\", \"Topic9\", \"Topic9\", \"Topic9\", \"Topic9\", \"Topic9\", \"Topic9\", \"Topic9\", \"Topic9\", \"Topic9\", \"Topic9\", \"Topic9\", \"Topic9\", \"Topic9\", \"Topic9\", \"Topic9\", \"Topic9\", \"Topic9\", \"Topic9\", \"Topic9\", \"Topic9\", \"Topic9\", \"Topic9\", \"Topic9\", \"Topic9\", \"Topic9\", \"Topic9\", \"Topic9\", \"Topic10\", \"Topic10\", \"Topic10\", \"Topic10\", \"Topic10\", \"Topic10\", \"Topic10\", \"Topic10\", \"Topic10\", \"Topic10\", \"Topic10\", \"Topic10\", \"Topic10\", \"Topic10\", \"Topic10\", \"Topic10\", \"Topic10\", \"Topic10\", \"Topic10\", \"Topic10\", \"Topic10\", \"Topic10\", \"Topic10\", \"Topic10\", \"Topic10\", \"Topic10\", \"Topic10\", \"Topic10\", \"Topic10\", \"Topic10\", \"Topic10\"], \"logprob\": [30.0, 29.0, 28.0, 27.0, 26.0, 25.0, 24.0, 23.0, 22.0, 21.0, 20.0, 19.0, 18.0, 17.0, 16.0, 15.0, 14.0, 13.0, 12.0, 11.0, 10.0, 9.0, 8.0, 7.0, 6.0, 5.0, 4.0, 3.0, 2.0, 1.0, -1.0377, -2.3478, -2.4813, -3.1273, -3.2083, -3.2812, -3.6859, -3.8383, -3.9142, -3.9431, -3.9728, -4.1728, -4.3325, -4.4716, -4.5227, -4.6333, -4.6935, -4.6935, -4.6935, -4.6935, -4.7577, -4.7577, -4.8262, -4.8998, -4.8998, -4.8998, -4.8998, -4.8998, -4.9792, -4.9792, -2.3675, -2.3804, -2.4, -2.4201, -2.9625, -2.9781, -3.504, -3.7519, -3.8044, -3.8317, -4.0135, -4.0472, -4.156, -4.156, -4.2781, -4.2781, -4.3224, -4.3224, -4.3224, -4.4173, -4.4173, -4.4173, -4.4173, -4.4173, -4.4683, -4.4683, -4.5221, -4.5221, -4.5789, -4.6392, -1.8102, -2.4388, -2.6028, -2.9293, -3.4106, -3.4889, -3.8246, -3.8832, -3.9139, -3.9456, -3.9783, -4.047, -4.0832, -4.0832, -4.1208, -4.2429, -4.2872, -4.2872, -4.2872, -4.3335, -4.3821, -4.3821, -4.3821, -4.4331, -4.4331, -4.4331, -4.4869, -4.5437, -4.5437, -4.5437, -2.1152, -2.1483, -2.2996, -2.3533, -2.5849, -2.9727, -3.0253, -3.6464, -3.6888, -4.1411, -4.2814, -4.2814, -4.2814, -4.4916, -4.5519, -4.5519, -4.616, -4.616, -4.616, -4.616, -4.616, -4.6845, -4.6845, -4.7581, -4.7581, -4.7581, -4.8375, -4.8375, -4.8375, -4.8375, -1.5624, -2.1852, -2.3305, -2.9896, -3.1006, -3.1154, -3.1769, -3.6302, -3.6555, -3.7424, -3.8844, -4.2014, -4.2723, -4.3719, -4.3719, -4.3919, -4.4257, -4.4257, -4.4257, -4.5428, -4.5428, -4.6069, -4.6069, -4.6262, -4.6754, -4.6754, -4.6754, -4.8284, -4.8284, -4.8284, -0.9641, -3.08, -3.1599, -3.3479, -3.3826, -3.5399, -3.5898, -3.6157, -3.8187, -4.033, -4.0737, -4.1161, -4.1161, -4.1724, -4.2066, -4.3062, -4.3062, -4.3062, -4.36, -4.36, -4.4168, -4.4168, -4.4168, -4.4771, -4.5412, -4.5412, -4.5412, -4.6097, -4.6833, -4.7627, -1.8935, -2.1153, -3.3318, -3.3725, -3.6056, -3.6876, -3.7165, -3.7165, -3.7463, -3.777, -3.91, -3.91, -3.9463, -3.9839, -4.0636, -4.12, -4.1502, -4.1965, -4.1965, -4.1965, -4.2451, -4.2451, -4.3499, -4.3779, -4.4067, -4.4067, -4.4067, -4.4067, -4.4067, -4.467, -1.8546, -2.9128, -3.416, -3.5621, -3.6589, -3.6795, -3.6895, -3.7112, -3.7438, -3.7438, -3.7776, -3.8126, -3.9255, -3.9662, -3.9662, -4.0085, -4.0085, -4.0528, -4.0991, -4.1476, -4.1987, -4.1987, -4.1987, -4.2525, -4.2525, -4.2525, -4.3695, -4.4337, -4.4337, -4.4337, -2.0999, -2.1416, -3.2822, -3.375, -3.4249, -3.4249, -3.5617, -3.6222, -3.7915, -3.8291, -3.9088, -3.9088, -3.9088, -3.9512, -3.9512, -4.0418, -4.0418, -4.1414, -4.1951, -4.1951, -4.1951, -4.252, -4.252, -4.252, -4.3026, -4.3122, -4.3122, -4.3122, -4.3763, -4.3763, -2.4658, -2.7635, -2.9967, -3.0507, -3.3502, -3.3754, -3.4013, -3.4279, -3.542, -3.6043, -3.637, -3.637, -3.742, -3.742, -3.7796, -3.7796, -3.7796, -3.8045, -3.9017, -3.946, -4.0919, -4.0919, -4.2627, -4.2627, -4.3269, -4.3954, -4.3954, -4.4689, -4.4689, -4.4689, -4.1987], \"loglift\": [30.0, 29.0, 28.0, 27.0, 26.0, 25.0, 24.0, 23.0, 22.0, 21.0, 20.0, 19.0, 18.0, 17.0, 16.0, 15.0, 14.0, 13.0, 12.0, 11.0, 10.0, 9.0, 8.0, 7.0, 6.0, 5.0, 4.0, 3.0, 2.0, 1.0, 2.1972, 2.1929, 2.192, 2.1859, 2.1848, 2.1838, 2.1763, 2.1727, 2.1707, 2.1698, 2.169, 2.1625, 2.1563, 2.1501, 2.1477, 2.1418, 2.1384, 2.1384, 2.1384, 2.1384, 2.1345, 2.1345, 2.1301, 2.1251, 2.1251, 2.1251, 2.1251, 2.1251, 2.1192, 2.1192, 2.2229, 2.2228, 2.2227, 2.2226, 2.2179, 2.2177, 2.2099, 2.2045, 2.2032, 2.2025, 2.1972, 2.1962, 2.1924, 2.1924, 2.1878, 2.1878, 2.1859, 2.1859, 2.1859, 2.1817, 2.1817, 2.1817, 2.1817, 2.1817, 2.1793, 2.1793, 2.1766, 2.1766, 2.1736, 2.1703, 2.2445, 2.2413, 2.2401, 2.237, 2.2302, 2.2288, 2.2212, 2.2196, 2.2187, 2.2178, 2.2168, 2.2146, 2.2134, 2.2134, 2.2121, 2.2075, 2.2057, 2.2057, 2.2057, 2.2037, 2.2015, 2.2015, 2.2015, 2.1992, 2.1992, 2.1992, 2.1965, 2.1936, 2.1936, 2.1936, 2.2707, 2.2706, 2.2697, 2.2694, 2.2677, 2.2639, 2.2633, 2.2526, 2.2516, 2.2381, 2.2325, 2.2325, 2.2325, 2.2226, 2.2194, 2.2194, 2.2158, 2.2158, 2.2158, 2.2158, 2.2158, 2.2117, 2.2117, 2.207, 2.207, 2.207, 2.2015, 2.2015, 2.2015, 2.2015, 2.2776, 2.2751, 2.2743, 2.2684, 2.267, 2.2668, 2.266, 2.2577, 2.2571, 2.255, 2.2511, 2.2404, 2.2375, 2.2331, 2.2331, 2.2321, 2.2305, 2.2305, 2.2305, 2.2245, 2.2245, 2.2209, 2.2209, 2.2197, 2.2168, 2.2168, 2.2168, 2.2066, 2.2066, 2.2066, 2.3135, 2.3015, 2.3003, 2.2973, 2.2967, 2.2935, 2.2925, 2.2919, 2.2867, 2.28, 2.2786, 2.277, 2.277, 2.2749, 2.2735, 2.2692, 2.2692, 2.2692, 2.2667, 2.2667, 2.264, 2.264, 2.264, 2.2609, 2.2574, 2.2574, 2.2574, 2.2534, 2.2489, 2.2436, 2.3144, 2.3134, 2.301, 2.3003, 2.2955, 2.2936, 2.2928, 2.2928, 2.2921, 2.2912, 2.2874, 2.2874, 2.2863, 2.2851, 2.2823, 2.2803, 2.2791, 2.2773, 2.2773, 2.2773, 2.2752, 2.2752, 2.2706, 2.2692, 2.2678, 2.2678, 2.2678, 2.2678, 2.2678, 2.2648, 2.3643, 2.3564, 2.3485, 2.3454, 2.3431, 2.3426, 2.3423, 2.3418, 2.3409, 2.3409, 2.3399, 2.3389, 2.3355, 2.3341, 2.3341, 2.3326, 2.3326, 2.331, 2.3293, 2.3274, 2.3253, 2.3253, 2.3253, 2.3229, 2.3229, 2.3229, 2.3174, 2.3141, 2.3141, 2.3141, 2.3903, 2.3901, 2.3779, 2.3762, 2.3752, 2.3752, 2.3722, 2.3707, 2.3662, 2.365, 2.3625, 2.3625, 2.3625, 2.3611, 2.3611, 2.3579, 2.3579, 2.354, 2.3517, 2.3517, 2.3517, 2.3492, 2.3492, 2.3492, 2.3468, 2.3464, 2.3464, 2.3464, 2.3432, 2.3432, 2.4105, 2.4077, 2.4049, 2.4041, 2.3991, 2.3986, 2.3981, 2.3975, 2.395, 2.3935, 2.3927, 2.3927, 2.3898, 2.3898, 2.3887, 2.3887, 2.3887, 2.388, 2.3849, 2.3834, 2.378, 2.378, 2.3706, 2.3706, 2.3675, 2.364, 2.364, 2.3599, 2.3599, 2.3599, 1.87]}, \"token.table\": {\"Topic\": [10, 4, 1, 5, 10, 3, 10, 10, 1, 5, 2, 2, 4, 4, 3, 6, 1, 5, 8, 1, 8, 9, 10, 2, 9, 10, 10, 4, 7, 6, 5, 1, 7, 7, 2, 7, 5, 9, 10, 5, 4, 5, 7, 3, 8, 2, 7, 5, 8, 10, 5, 2, 4, 6, 7, 2, 2, 3, 6, 6, 6, 1, 3, 8, 8, 3, 8, 4, 3, 3, 3, 8, 10, 7, 6, 5, 2, 6, 2, 2, 4, 3, 2, 4, 10, 5, 10, 7, 3, 8, 2, 3, 10, 10, 8, 6, 7, 10, 4, 3, 4, 7, 10, 3, 8, 6, 4, 5, 2, 9, 9, 8, 4, 7, 6, 2, 2, 9, 2, 2, 9, 4, 6, 4, 6, 1, 4, 4, 9, 1, 9, 8, 6, 5, 5, 7, 4, 9, 9, 10, 8, 9, 7, 5, 3, 3, 1, 1, 10, 8, 10, 3, 9, 3, 9, 1, 7, 2, 1, 1, 5, 9, 8, 1, 4, 10, 7, 6, 1, 7, 6, 7, 9, 9, 3, 10, 6, 2, 4, 8, 9, 4, 9, 1, 8, 7, 10, 2, 9, 5, 4, 10, 1, 6, 8, 1, 5, 5, 1, 10, 6, 9, 5, 8, 8, 8, 7, 3, 1, 2, 5, 1, 7, 6, 9, 8, 3, 9, 1, 4, 3, 8, 9, 7, 9, 1, 3, 2, 3, 4, 9, 1, 3, 8, 8, 9, 1, 7, 5, 5, 6, 4, 5, 7, 4, 5, 9, 6, 1, 6, 6, 10, 7, 5, 9, 10, 2, 10, 7, 10, 7, 8, 1, 5, 2, 3, 6, 6, 4, 2, 7, 6, 2, 8, 10, 2, 7, 3, 6, 1, 4, 3, 2, 4, 10, 1, 3, 5, 5, 8, 1, 2, 6, 5, 10, 8, 7, 4, 6, 3, 7, 9], \"Freq\": [0.9210492943503752, 0.9603214650806884, 0.9112213584290069, 0.9200745603472192, 0.9210492943503752, 0.9463033712136414, 0.9739031816218309, 0.9648693396065967, 0.9826967689919266, 0.941097430590475, 0.9904341036228386, 0.9753000645421004, 0.9237829613115869, 0.9869899799627918, 0.9807018567401051, 0.9427615693351037, 0.9239371046859612, 0.9737090854293724, 0.9690626565363886, 0.9604144361716394, 0.9691815380811318, 0.979535841906797, 0.9856152358464876, 0.9525273817606088, 0.943339836975199, 0.9830477316100379, 0.9739031816218311, 0.9046603510148293, 0.9665144091843645, 0.9645332972805211, 0.9739226691110413, 0.896821695043083, 0.968692012292241, 0.9848292288077738, 0.9549750389515417, 0.9839328399826999, 0.956394351794415, 0.9812417748974959, 0.9210492943503753, 0.9828005546591893, 0.9046603510148296, 0.9919373529046972, 0.978490168134665, 0.9615863724571377, 0.9706812031275686, 0.9870152734678496, 0.9428761283388343, 0.9846474025636085, 0.9706812031275683, 0.9856152358464876, 0.9279052036180743, 0.9610761677256755, 0.9603214650806883, 0.9876897018741632, 0.95852913276814, 0.9573329847758428, 0.9766755899667916, 0.9728629102670672, 0.9819490072491471, 0.9612036540594258, 0.9786836748546484, 0.9239371046859612, 0.9933164097331508, 0.9690626565363886, 0.9690087979375183, 0.9403253358798692, 0.9693942258987952, 0.9237829613115869, 0.9670237798216819, 0.9659544762757658, 0.9781474928629299, 0.9706812031275683, 0.978842980577538, 0.9771596559734872, 0.9701935660671663, 0.8893704612287279, 0.9241739953811655, 0.9803816542212719, 0.9549750389515417, 0.9410359185533466, 0.8928982593913032, 0.9857780681249853, 0.9766755899667916, 0.8928982593913032, 0.9851892186442025, 0.9112018494902773, 0.9743877958861831, 0.95852913276814, 0.9728629102670672, 0.9694764902162718, 0.994745553357047, 0.9745848290274822, 0.9870196063892028, 0.9889466027329281, 0.9784672011917132, 0.9675124056879328, 0.95852913276814, 0.9776723578216314, 0.9237829613115869, 0.9700219438996199, 0.9959159316461387, 0.9585291327681396, 0.9905774500212398, 0.9728629102670672, 0.9689582089493305, 0.9433332889110292, 0.9938320120858654, 0.9112018494902773, 0.9707827677147817, 0.979535841906797, 0.9430828286699536, 0.9698841003331964, 0.9148576567808753, 0.979728892136549, 0.9574577404913658, 0.9241739953811655, 0.9610761677256755, 0.9422893240030117, 0.9410359185533466, 0.9622972052255317, 0.9922013305726098, 0.8928982593913032, 0.9902230718261411, 0.9603214650806893, 0.948360235529534, 0.986201685309707, 0.9865484292685975, 0.9925169603230988, 0.9963789237786057, 0.9604144361716394, 0.9751513303240136, 0.9701524518599395, 0.9786836748546484, 0.946705562130091, 0.9648627440110896, 0.95852913276814, 0.9948755052316585, 0.9765042408807728, 0.9812417748974959, 0.9708243556073944, 0.9696625305851526, 0.9813198787908746, 0.9552407435363914, 0.9756519501701106, 0.9773711245420393, 0.9898350462016539, 0.9598132921252013, 0.9639201267368295, 0.9834483520542652, 0.9694764902162716, 0.9205759748292458, 0.9403253358798691, 0.9428529925469704, 0.9826919954762617, 0.9426462357970548, 0.9365747890879376, 0.9731778607547603, 0.9678881847504087, 0.9924046471635547, 0.9691688634372156, 0.9970168345133348, 0.9347304931813922, 0.970011548795341, 0.947571241172891, 0.9651550647777545, 0.9830477316100379, 0.9886214827131761, 0.9795000882768488, 0.990733214333282, 0.9326273125005013, 0.96882534549388, 0.9856743821404915, 0.987720887866075, 0.943339836975199, 0.9976887617206645, 0.9856152358464878, 0.9701330164744877, 0.9961095083064705, 0.8928982593913032, 0.9704841500111422, 0.9430828286699539, 0.9237829613115869, 0.9436291388086956, 0.9646243382340467, 0.9695656256508963, 0.3999269884256901, 0.5845086753913932, 0.9330249013850703, 0.9428529925469703, 0.9871359676144696, 0.9905819463599477, 0.9763425385790722, 0.9604144361716394, 0.9701935660671663, 0.970011548795341, 0.9759761813642918, 0.927905203618074, 0.9200745603472192, 0.9352479963284013, 0.9648693396065967, 0.9532122886498534, 0.9436291388086956, 0.8893704612287279, 0.9966366774030714, 0.9758813220810018, 0.9687832391332838, 0.9614712104907637, 0.960537979189923, 0.947571241172891, 0.9895255240810669, 0.9910335386106474, 0.9239371046859612, 0.986472570680909, 0.9701935660671663, 0.979535841906797, 0.9695656256508963, 0.9838310870570725, 0.9428529925469703, 0.9627487230222423, 0.9386639929467283, 0.9781474928629299, 0.9697682671534631, 0.943339836975199, 0.9741791928708875, 0.9422893240030117, 0.9604144361716394, 0.9338052980168202, 0.9926323543234551, 0.9605379791899232, 0.9316602941532612, 0.9877208878660747, 0.9604144361716394, 0.9867765642358787, 0.9701524518599395, 0.970011548795341, 0.9678507578455189, 0.9945165835968628, 0.9706801839261078, 0.8893704612287279, 0.9962856393745513, 0.9574577404913658, 0.9046603510148296, 0.941097430590475, 0.968692012292241, 0.9316602941532612, 0.9112018494902773, 0.9430828286699539, 0.9573830458856344, 0.9544938273157559, 0.9675124056879328, 0.9725615371920455, 0.9763425385790722, 0.974794778478988, 0.936911481927245, 0.9853836092452904, 0.9563531323077982, 0.9839044698053053, 0.9582031819783766, 0.995304843676781, 0.9896945416667897, 0.968692012292241, 0.981933379513556, 0.9239371046859612, 0.946705562130091, 0.9410359185533466, 0.9781474928629297, 0.9645332972805211, 0.9645332972805211, 0.9148576567808752, 0.9410359185533466, 0.9965538763246472, 0.9574577404913658, 0.9330249013850703, 0.9784458031432456, 0.9748965117989952, 0.9549750389515417, 0.9856743821404915, 0.9403253358798692, 0.9984837178853365, 0.9982954547166967, 0.9927612902351328, 0.9621114277723909, 0.9807228310053759, 0.9237829613115869, 0.9823867623428396, 0.9872572205666965, 0.9659544762757658, 0.941097430590475, 0.9916508297019788, 0.9691201123079591, 0.9112213584290065, 0.9410359185533466, 0.9869996510293405, 0.9866882966693633, 0.9205759748292458, 0.9701524518599395, 0.979728892136549, 0.9741708762304432, 0.9748245782895205, 0.960537979189923, 0.9665144091843645, 0.9696197968552279], \"Term\": [\"absolutely\", \"alabama\", \"allowed\", \"america\", \"amid\", \"asked\", \"asking\", \"avoid\", \"away\", \"beach\", \"beginning\", \"best\", \"big\", \"bike\", \"black\", \"blocks\", \"break\", \"breonna\", \"bus\", \"buy\", \"car\", \"care\", \"caring\", \"cars\", \"case\", \"cases\", \"change\", \"checkpoints\", \"chicago\", \"cities\", \"city\", \"close\", \"club\", \"come\", \"constitutional\", \"coronavirus\", \"country\", \"court\", \"cover\", \"covid\", \"crisis\", \"cycle\", \"cycling\", \"daily\", \"dark\", \"day\", \"days\", \"dead\", \"death\", \"deaths\", \"die\", \"died\", \"disabilities\", \"distancing\", \"doctors\", \"dog\", \"donald\", \"double\", \"drink\", \"drive\", \"end\", \"ensure\", \"exercise\", \"express\", \"face\", \"faith\", \"family\", \"famous\", \"fast\", \"fear\", \"feel\", \"fever\", \"fight\", \"fine\", \"florida\", \"folks\", \"follow\", \"food\", \"foot\", \"forced\", \"francisco\", \"free\", \"friends\", \"fucking\", \"funneled\", \"future\", \"getting\", \"giving\", \"global\", \"god\", \"goes\", \"going\", \"good\", \"got\", \"government\", \"grammys\", \"great\", \"green\", \"ground\", \"hand\", \"happy\", \"hard\", \"health\", \"heart\", \"help\", \"high\", \"home\", \"hope\", \"hospital\", \"hours\", \"house\", \"imagine\", \"immune\", \"important\", \"infected\", \"instead\", \"job\", \"justices\", \"kids\", \"killers\", \"know\", \"knows\", \"lane\", \"latest\", \"left\", \"let\", \"life\", \"lighthearted\", \"like\", \"line\", \"literally\", \"little\", \"live\", \"local\", \"lockdown\", \"lol\", \"long\", \"look\", \"lot\", \"love\", \"low\", \"make\", \"making\", \"man\", \"march\", \"mask\", \"masks\", \"media\", \"medical\", \"met\", \"middle\", \"migrants\", \"miles\", \"military\", \"months\", \"morning\", \"need\", \"needs\", \"new\", \"news\", \"night\", \"non\", \"nurses\", \"officials\", \"old\", \"open\", \"outside\", \"oxygen\", \"painful\", \"pandemic\", \"park\", \"past\", \"patients\", \"pcr\", \"people\", \"perfectly\", \"person\", \"personal\", \"photo\", \"place\", \"platform\", \"plazas\", \"point\", \"police\", \"positive\", \"post\", \"post\", \"power\", \"problem\", \"public\", \"radicalize\", \"railways\", \"ramyinocencio\", \"ran\", \"read\", \"really\", \"recite\", \"remember\", \"response\", \"restaurant\", \"restrictions\", \"results\", \"ride\", \"right\", \"risk\", \"road\", \"roads\", \"row\", \"rules\", \"run\", \"running\", \"sadly\", \"safe\", \"safety\", \"said\", \"saw\", \"say\", \"says\", \"school\", \"security\", \"seen\", \"service\", \"shows\", \"shut\", \"sick\", \"simply\", \"sink\", \"sleep\", \"south\", \"space\", \"staff\", \"stand\", \"start\", \"started\", \"state\", \"stop\", \"story\", \"street\", \"students\", \"stuff\", \"stupid\", \"suffering\", \"supplies\", \"supreme\", \"sure\", \"suspended\", \"taken\", \"taking\", \"talk\", \"talking\", \"taylor\", \"tell\", \"test\", \"tested\", \"testing\", \"thank\", \"thing\", \"things\", \"think\", \"time\", \"times\", \"today\", \"toll\", \"took\", \"trains\", \"transport\", \"transportation\", \"trump\", \"try\", \"trying\", \"use\", \"used\", \"using\", \"vaccinated\", \"vaccination\", \"video\", \"virus\", \"voters\", \"walk\", \"walking\", \"walks\", \"want\", \"water\", \"wave\", \"way\", \"wearing\", \"week\", \"weeks\", \"went\", \"woman\", \"women\", \"words\", \"work\", \"workers\", \"working\", \"workout\", \"world\", \"year\", \"years\", \"yes\", \"york\", \"zero\"]}, \"R\": 30, \"lambda.step\": 0.01, \"plot.opts\": {\"xlab\": \"PC1\", \"ylab\": \"PC2\"}, \"topic.order\": [2, 9, 6, 7, 5, 10, 3, 4, 8, 1]};\n",
       "\n",
       "function LDAvis_load_lib(url, callback){\n",
       "  var s = document.createElement('script');\n",
       "  s.src = url;\n",
       "  s.async = true;\n",
       "  s.onreadystatechange = s.onload = callback;\n",
       "  s.onerror = function(){console.warn(\"failed to load library \" + url);};\n",
       "  document.getElementsByTagName(\"head\")[0].appendChild(s);\n",
       "}\n",
       "\n",
       "if(typeof(LDAvis) !== \"undefined\"){\n",
       "   // already loaded: just create the visualization\n",
       "   !function(LDAvis){\n",
       "       new LDAvis(\"#\" + \"ldavis_el24671404573315534402493307144\", ldavis_el24671404573315534402493307144_data);\n",
       "   }(LDAvis);\n",
       "}else if(typeof define === \"function\" && define.amd){\n",
       "   // require.js is available: use it to load d3/LDAvis\n",
       "   require.config({paths: {d3: \"https://d3js.org/d3.v5\"}});\n",
       "   require([\"d3\"], function(d3){\n",
       "      window.d3 = d3;\n",
       "      LDAvis_load_lib(\"https://cdn.jsdelivr.net/gh/bmabey/pyLDAvis@3.3.1/pyLDAvis/js/ldavis.v3.0.0.js\", function(){\n",
       "        new LDAvis(\"#\" + \"ldavis_el24671404573315534402493307144\", ldavis_el24671404573315534402493307144_data);\n",
       "      });\n",
       "    });\n",
       "}else{\n",
       "    // require.js not available: dynamically load d3 & LDAvis\n",
       "    LDAvis_load_lib(\"https://d3js.org/d3.v5.js\", function(){\n",
       "         LDAvis_load_lib(\"https://cdn.jsdelivr.net/gh/bmabey/pyLDAvis@3.3.1/pyLDAvis/js/ldavis.v3.0.0.js\", function(){\n",
       "                 new LDAvis(\"#\" + \"ldavis_el24671404573315534402493307144\", ldavis_el24671404573315534402493307144_data);\n",
       "            })\n",
       "         });\n",
       "}\n",
       "</script>"
      ],
      "text/plain": [
       "PreparedData(topic_coordinates=              x         y  topics  cluster       Freq\n",
       "topic                                                \n",
       "1      0.014145  0.073608       1        1  11.093353\n",
       "8      0.047954 -0.412754       2        1  10.761886\n",
       "5     -0.364297 -0.135262       3        1  10.559462\n",
       "6     -0.229003  0.385471       4        1  10.271619\n",
       "4      0.335398 -0.317605       5        1  10.222592\n",
       "9      0.398662 -0.040932       6        1   9.875182\n",
       "2      0.097890  0.438333       7        1   9.840942\n",
       "3     -0.243380 -0.380356       8        1   9.361527\n",
       "7     -0.428598  0.134310       9        1   9.109332\n",
       "0      0.371230  0.255189      10        1   8.904105, topic_info=           Term        Freq       Total Category  logprob  loglift\n",
       "429        walk  529.000000  529.000000  Default  30.0000  30.0000\n",
       "430     walking  552.000000  552.000000  Default  29.0000  29.0000\n",
       "260       night  301.000000  301.000000  Default  28.0000  28.0000\n",
       "279      people  243.000000  243.000000  Default  27.0000  27.0000\n",
       "315       right  206.000000  206.000000  Default  26.0000  26.0000\n",
       "..          ...         ...         ...      ...      ...      ...\n",
       "448     working   15.426692   16.294147  Topic10  -4.3954   2.3640\n",
       "0    absolutely   14.332601   15.200055  Topic10  -4.4689   2.3599\n",
       "10         amid   14.332601   15.200055  Topic10  -4.4689   2.3599\n",
       "71        cover   14.332601   15.200055  Topic10  -4.4689   2.3599\n",
       "293        post   18.780088   32.505933  Topic10  -4.1987   1.8700\n",
       "\n",
       "[331 rows x 6 columns], token_table=      Topic      Freq        Term\n",
       "term                             \n",
       "0        10  0.921049  absolutely\n",
       "4         4  0.960321     alabama\n",
       "5         1  0.911221     allowed\n",
       "8         5  0.920075     america\n",
       "10       10  0.921049        amid\n",
       "...     ...       ...         ...\n",
       "452       4  0.974171        year\n",
       "453       6  0.974825       years\n",
       "456       3  0.960538         yes\n",
       "458       7  0.966514        york\n",
       "459       9  0.969620        zero\n",
       "\n",
       "[302 rows x 3 columns], R=30, lambda_step=0.01, plot_opts={'xlab': 'PC1', 'ylab': 'PC2'}, topic_order=[2, 9, 6, 7, 5, 10, 3, 4, 8, 1])"
      ]
     },
     "execution_count": 58,
     "metadata": {},
     "output_type": "execute_result"
    }
   ],
   "source": [
    "dtm_tf = tf_vectorizer.fit_transform(cleanNonmotorized)\n",
    "\n",
    "tfidf_vectorizer = TfidfVectorizer(**tf_vectorizer.get_params())\n",
    "\n",
    "dtm_tfidf = tfidf_vectorizer.fit_transform(cleanNonmotorized)\n",
    "print(dtm_tfidf.shape)\n",
    "\n",
    "# for TFIDF DTM\n",
    "lda_tfidf = LatentDirichletAllocation(n_components=10, random_state=0)\n",
    "lda_tfidf.fit(dtm_tfidf)\n",
    "pyLDAvis.sklearn.prepare(lda_tfidf, dtm_tfidf, tfidf_vectorizer, mds='mmds')"
   ]
  },
  {
   "cell_type": "code",
   "execution_count": 59,
   "id": "a4bf2379",
   "metadata": {},
   "outputs": [
    {
     "name": "stdout",
     "output_type": "stream",
     "text": [
      "(51572, 863)\n"
     ]
    },
    {
     "name": "stderr",
     "output_type": "stream",
     "text": [
      "/students/jw10/miniconda3/lib/python3.9/site-packages/past/builtins/misc.py:45: DeprecationWarning: the imp module is deprecated in favour of importlib; see the module's documentation for alternative uses\n",
      "  from imp import reload\n",
      "/students/jw10/miniconda3/lib/python3.9/site-packages/past/builtins/misc.py:45: DeprecationWarning: the imp module is deprecated in favour of importlib; see the module's documentation for alternative uses\n",
      "  from imp import reload\n",
      "/students/jw10/miniconda3/lib/python3.9/site-packages/past/builtins/misc.py:45: DeprecationWarning: the imp module is deprecated in favour of importlib; see the module's documentation for alternative uses\n",
      "  from imp import reload\n",
      "/students/jw10/miniconda3/lib/python3.9/site-packages/past/builtins/misc.py:45: DeprecationWarning: the imp module is deprecated in favour of importlib; see the module's documentation for alternative uses\n",
      "  from imp import reload\n"
     ]
    },
    {
     "data": {
      "text/html": [
       "\n",
       "<link rel=\"stylesheet\" type=\"text/css\" href=\"https://cdn.jsdelivr.net/gh/bmabey/pyLDAvis@3.3.1/pyLDAvis/js/ldavis.v1.0.0.css\">\n",
       "\n",
       "\n",
       "<div id=\"ldavis_el24671404573363259527311837167\"></div>\n",
       "<script type=\"text/javascript\">\n",
       "\n",
       "var ldavis_el24671404573363259527311837167_data = {\"mdsDat\": {\"x\": [0.014597310558017197, 0.050075061359996, -0.36005025678836394, -0.2254984051942012, 0.33116461978369416, 0.3922351020667896, 0.09608415144601323, -0.24314581691758838, -0.4315670505617315, 0.37610528424737477], \"y\": [0.07294431416615703, -0.4123486705852716, -0.13425026663432463, 0.37943953518648954, -0.312664260594436, -0.04066190705997091, 0.44121540774886175, -0.3815269213825428, 0.13481293043954515, 0.2530398387154925], \"topics\": [1, 2, 3, 4, 5, 6, 7, 8, 9, 10], \"cluster\": [1, 1, 1, 1, 1, 1, 1, 1, 1, 1], \"Freq\": [10.521872811912722, 10.504529691072168, 10.356612142381305, 10.250274369782417, 9.96495930277176, 9.92239135622894, 9.857261522293564, 9.721296940855161, 9.451455836272665, 9.449346026429305]}, \"tinfo\": {\"Term\": [\"car\", \"road\", \"people\", \"traffic\", \"ford\", \"cars\", \"city\", \"roads\", \"wuhan\", \"vehicles\", \"coronavirus\", \"china\", \"need\", \"new\", \"home\", \"today\", \"time\", \"route\", \"like\", \"government\", \"hospital\", \"mask\", \"doug\", \"got\", \"died\", \"say\", \"day\", \"lives\", \"service\", \"vehicle\", \"home\", \"day\", \"lives\", \"restrictions\", \"public\", \"right\", \"auto\", \"phone\", \"week\", \"govt\", \"test\", \"pneumonia\", \"rides\", \"away\", \"state\", \"closed\", \"patients\", \"really\", \"want\", \"school\", \"open\", \"engine\", \"jerusalem\", \"man\", \"park\", \"world\", \"set\", \"tested\", \"vaccines\", \"years\", \"car\", \"new\", \"police\", \"help\", \"know\", \"long\", \"testing\", \"let\", \"deaths\", \"good\", \"death\", \"positive\", \"nurses\", \"accidents\", \"run\", \"driving\", \"delhi\", \"gas\", \"response\", \"pandemic\", \"citizens\", \"sick\", \"pre\", \"job\", \"transport\", \"small\", \"number\", \"remember\", \"lanes\", \"hour\", \"people\", \"like\", \"hospital\", \"got\", \"blocked\", \"uber\", \"free\", \"desperate\", \"using\", \"die\", \"masks\", \"convoy\", \"construction\", \"months\", \"taking\", \"key\", \"million\", \"dalam\", \"wearing\", \"post\", \"used\", \"big\", \"dodged\", \"walk\", \"market\", \"army\", \"available\", \"diesel\", \"old\", \"roadblock\", \"ford\", \"roads\", \"vehicles\", \"service\", \"said\", \"days\", \"coming\", \"doctors\", \"vaccinated\", \"wuhansars\", \"dimensions\", \"huge\", \"local\", \"professional\", \"covid\", \"recovery\", \"businesses\", \"team\", \"mandates\", \"schools\", \"needs\", \"arrives\", \"making\", \"protect\", \"love\", \"anti\", \"deadly\", \"update\", \"far\", \"real\", \"china\", \"doug\", \"workers\", \"attention\", \"hell\", \"joyride\", \"says\", \"distancing\", \"getting\", \"wuhancoronavirus\", \"personnel\", \"chinapneumonia\", \"wuhanvirus\", \"lincoln\", \"office\", \"drivers\", \"tax\", \"night\", \"breaking\", \"dodge\", \"look\", \"emergency\", \"congestion\", \"trip\", \"order\", \"quarantine\", \"cause\", \"freedom\", \"area\", \"line\", \"wuhan\", \"coronavirus\", \"today\", \"stop\", \"use\", \"protest\", \"goodbye\", \"israel\", \"safe\", \"capital\", \"commute\", \"coronovirus\", \"high\", \"map\", \"exiting\", \"premier\", \"media\", \"family\", \"risk\", \"staff\", \"end\", \"relief\", \"god\", \"outside\", \"essential\", \"allowed\", \"daily\", \"reports\", \"yes\", \"speed\", \"road\", \"cars\", \"died\", \"vehicle\", \"virus\", \"make\", \"drive\", \"hide\", \"news\", \"vaccination\", \"life\", \"think\", \"care\", \"morning\", \"shows\", \"paid\", \"house\", \"numbers\", \"hundreds\", \"middle\", \"plan\", \"lost\", \"flu\", \"pay\", \"americans\", \"economy\", \"times\", \"went\", \"advice\", \"biden\", \"city\", \"government\", \"spread\", \"video\", \"going\", \"ontario\", \"year\", \"endangering\", \"internet\", \"come\", \"hit\", \"trucks\", \"hours\", \"support\", \"close\", \"hospitals\", \"president\", \"crash\", \"private\", \"south\", \"trying\", \"demand\", \"thing\", \"america\", \"living\", \"asked\", \"minister\", \"minutes\", \"laws\", \"miles\", \"need\", \"route\", \"say\", \"work\", \"secret\", \"way\", \"father\", \"enable\", \"cases\", \"prevent\", \"highway\", \"sent\", \"money\", \"working\", \"wuhanpneumonia\", \"air\", \"live\", \"quarantined\", \"driver\", \"shanghai\", \"business\", \"lot\", \"tak\", \"india\", \"walking\", \"face\", \"situation\", \"later\", \"tests\", \"bringing\", \"traffic\", \"time\", \"mask\", \"health\", \"onpoli\", \"food\", \"sooth\", \"country\", \"safety\", \"things\", \"vpn\", \"materials\", \"bus\", \"global\", \"accident\", \"crashes\", \"block\", \"prices\", \"person\", \"took\", \"medical\", \"weeks\", \"better\", \"experts\", \"parents\", \"sama\", \"bad\", \"young\", \"aku\", \"law\"], \"Freq\": [548.0, 455.0, 336.0, 272.0, 270.0, 217.0, 182.0, 184.0, 165.0, 165.0, 146.0, 146.0, 141.0, 137.0, 137.0, 126.0, 123.0, 121.0, 125.0, 120.0, 124.0, 116.0, 113.0, 113.0, 108.0, 103.0, 102.0, 101.0, 97.0, 93.0, 136.36100281544066, 101.73343175436143, 100.80942238318093, 92.49333804255467, 83.25324433074665, 75.53841168643355, 72.16513187657536, 72.16513187657536, 52.7609350817666, 49.98890696822102, 49.98890696822102, 48.6529787231549, 45.36886011231026, 41.672822627580096, 38.6319964798689, 37.97678514284811, 37.05277577166479, 36.1287664004813, 36.1287664004813, 35.8225316811306, 35.204757029297646, 34.28074765811377, 33.35673828692973, 33.35673828692973, 33.35673828692973, 33.35673828692973, 29.660700802191073, 28.736691431005685, 28.73669143100567, 27.812682059819956, 547.6829817710412, 136.29532500921346, 95.52717884361496, 78.84930086677522, 67.730715548879, 53.609975557993195, 53.50856397096349, 51.05283757202671, 49.19974001904222, 48.273191242549885, 43.64044736008681, 42.713898583593924, 41.78734980710096, 39.93425225411469, 37.7606350654589, 36.83573892500769, 34.37495959515235, 27.88911815968645, 27.88911815968645, 27.26918028553761, 26.962569383190054, 26.962569383190054, 26.673662457399793, 26.036020606693235, 26.036020606693235, 25.10947183019595, 23.256374277199725, 23.256374277199725, 22.32982550070064, 21.403276724200804, 335.30121586362543, 124.626059281399, 123.32311083225088, 112.45371690108998, 93.7270363159968, 76.87302378940957, 59.71210228576856, 56.27367514579416, 55.33734111653854, 47.84666888249141, 45.97400082397897, 45.03766679472265, 39.41966261918236, 36.61066053141047, 35.67432650215289, 32.8653244143789, 32.8653244143789, 31.928990385120418, 31.928990385120425, 30.632185685493386, 30.056322326602753, 27.247320238823797, 26.31098620956337, 26.31098620956337, 25.37465218030249, 23.501984121779106, 23.501984121779106, 23.501984121779106, 23.266917265756145, 22.565650092516467, 269.452353019309, 183.44686678336834, 164.54456211612742, 96.49626531405073, 63.41723214635897, 54.91119504609048, 53.966079812727024, 48.29538841254549, 39.78935131226768, 39.78935131226768, 37.899120845538036, 36.008890378807706, 36.008890378807706, 35.063775145442314, 33.18210994736766, 33.17354467871085, 32.22842944534481, 32.22842944534481, 30.3381989786119, 29.39308374524499, 28.44796851187777, 27.502853278510166, 27.502853278510166, 24.66750757840469, 22.777277111664947, 22.600470573499273, 21.832161878294, 21.832161878294, 21.60470572310402, 21.197344808326985, 145.93734366926276, 112.40849492262387, 83.36237220053962, 67.87110674875613, 64.9664944765462, 59.157269932125224, 54.31624947843992, 48.50702493401573, 43.66600448032679, 42.697800389588714, 40.761392208112206, 39.7931881173738, 39.7931881173738, 38.824984026635235, 38.824984026635235, 37.85677993589649, 36.88857584515759, 35.92037175441852, 34.63215266761899, 33.983963572939786, 33.983963572939786, 33.015759482200096, 30.11114720997949, 30.11114720997949, 28.17473902849748, 28.174739028497484, 26.238330847013874, 24.3019226655283, 23.33371857478459, 23.33371857478459, 164.3964763047311, 145.92496211186813, 125.50907800396676, 91.48260449079193, 62.31705576520168, 61.344870807681694, 59.400500892641475, 51.62302123247865, 46.76209644487491, 43.84554157231169, 43.84554157231169, 41.901171657269, 41.34979287396465, 37.04024686966001, 36.06806191213776, 31.20713712452321, 30.234952166999513, 30.234952166999534, 30.23495216699954, 30.234952166999516, 29.262767209475516, 28.290582251951154, 26.346212336901186, 26.346212336901193, 25.763793373894515, 25.374027379375473, 25.374027379375473, 25.37402737937548, 25.096139920988364, 25.019493406490408, 455.00098288635843, 216.2991126926173, 107.70932748151722, 93.0350321827162, 73.4693051176437, 64.66472793835852, 56.523882056350615, 47.055573579778425, 42.164141813502205, 42.164141813502205, 41.909431098868055, 41.185855460246664, 40.415391698730026, 36.294423693966635, 30.42470557442417, 29.446419221166103, 28.468132867907705, 27.48984651464892, 26.51156016138968, 26.511560161389685, 26.511560161389685, 25.533273808129955, 24.554987454869696, 24.554987454869696, 23.5767011016088, 23.5767011016088, 23.5767011016088, 23.5767011016088, 22.598414748347214, 22.598414748347214, 181.4889013996184, 120.03443997150937, 92.2808122297767, 76.42159637735445, 75.43039538657803, 69.48318944191823, 68.15758249712547, 59.57117953414977, 50.65037061715446, 47.67676764482156, 45.74492274791903, 43.711963681709726, 39.424533434507374, 38.75595872781752, 35.44245703767192, 33.79995377392131, 32.80875278314145, 30.528969658253445, 27.852747829237536, 27.852747829237536, 27.852747829237536, 24.879144856890296, 24.879144856890296, 23.88794386610676, 23.88794386610676, 21.905541884537538, 21.905541884537538, 21.905541884537538, 20.914340893751636, 20.914340893751632, 140.8140819689256, 120.42102158080058, 103.08692025089333, 91.1613438177612, 79.63490080454353, 79.63490080454353, 67.39906457166165, 64.34010551344073, 60.26149343581216, 57.20253437759027, 55.16322833877531, 49.04531022232944, 45.98635116410535, 44.60785813730384, 42.92739210588044, 39.868433047654406, 39.868433047654406, 38.848780028245436, 35.789820970017495, 35.789820970017495, 33.75051493119784, 33.75051493119784, 32.73086191178763, 30.463810079930703, 29.671902853555252, 27.395944372716883, 26.612943795319534, 24.573637756493188, 23.553984737079055, 21.51467869824844, 271.357130788818, 122.3623885918083, 115.98764188851358, 83.72198585390765, 69.44539873928625, 68.4256425168133, 61.28734895950044, 56.18856784713306, 45.991005622393565, 44.97124939991921, 40.892224510020505, 37.832955842595005, 36.81319962011953, 36.81319962011953, 33.75393095269177, 31.71441850773872, 28.655149840306766, 28.655149840306766, 27.635393617828694, 23.556368727911064, 22.53661250543001, 21.51685628294807, 20.49710006046514, 20.49710006046514, 19.477343837981064, 19.477343837981064, 18.457587615495633, 18.457587615495633, 17.437831393008626, 17.437831393008626], \"Total\": [548.0, 455.0, 336.0, 272.0, 270.0, 217.0, 182.0, 184.0, 165.0, 165.0, 146.0, 146.0, 141.0, 137.0, 137.0, 126.0, 123.0, 121.0, 125.0, 120.0, 124.0, 116.0, 113.0, 113.0, 108.0, 103.0, 102.0, 101.0, 97.0, 93.0, 137.2367311958188, 102.60916013496569, 101.6851507637856, 93.36906642316379, 84.12897271136167, 76.41414036985131, 73.04086025719948, 73.04086025719948, 53.63666346241593, 50.864635348875574, 50.864635348875574, 49.52870710357012, 46.24458849297492, 42.548551008254485, 39.50772533115353, 38.85251352353412, 37.92850415235408, 37.004494781174024, 37.004494781174024, 36.698260635199794, 36.080485409994, 35.15647603881394, 34.23246666763394, 34.23246666763394, 34.23246666763394, 34.23246666763394, 30.53642918291399, 29.612419811734036, 29.61241981173402, 28.688410440554104, 548.5584562110082, 137.17079944920738, 96.4026532836243, 79.72477530679545, 68.6061899889095, 54.48545475838481, 54.38403888808687, 51.928312012081044, 50.075214459100195, 49.148665682609796, 44.51592180015762, 43.5893730236672, 42.66282424717681, 40.80972669419605, 38.63610998806858, 37.71121407844718, 35.25043403525386, 28.764592599821764, 28.764592599821764, 28.144659774527423, 27.838043823331542, 27.838043823331542, 27.549141536756128, 26.911495046841342, 26.911495046841342, 25.984946270351177, 24.131848717370904, 24.131848717370904, 23.205299940880813, 22.278751164390755, 336.17571177795674, 125.50055519575457, 124.19760693797221, 113.32821281544975, 94.60153223036514, 77.74751970378922, 60.58660089622221, 57.148171060196894, 56.21183703094273, 48.72116479690936, 46.84849673840107, 45.912162709146955, 40.29415853362212, 37.48515644585973, 36.54882241660566, 33.7398203288434, 33.7398203288434, 32.803486299589295, 32.8034862995893, 31.506686528515694, 30.930818241081205, 28.121816153319124, 27.185482124065135, 27.185482124065135, 26.249148094811176, 24.376480036303303, 24.376480036303303, 24.376480036303303, 24.141414019820395, 23.440146007049403, 270.3259708129473, 184.3204845770148, 165.41817990977688, 97.3698831077206, 64.29084994005466, 55.78481283979786, 54.83969760643595, 49.16900620626486, 40.66296910600834, 40.66296910600834, 38.772738639284746, 36.88250817256111, 36.88250817256111, 35.93739293919932, 34.05573455598669, 34.04716247247572, 33.10204723911396, 33.10204723911396, 31.211816772390414, 30.266701539028645, 29.321586305666912, 28.37647107230518, 28.37647107230518, 25.54112537222005, 23.650894905496727, 23.47409517315985, 22.705779672135076, 22.705779672135076, 22.478324210049806, 22.07096529883962, 146.8086527741547, 113.27980382981322, 84.2336811077432, 68.74241565597232, 65.83780338376545, 60.02857883935144, 55.1875583856731, 49.37833384125911, 44.537313387580774, 43.56910929684512, 41.63270111537377, 40.664497024638145, 40.664497024638145, 39.69629293390249, 39.69629293390249, 38.72808884316681, 37.75988475243114, 36.791680661695466, 35.50346233010788, 34.85527248022413, 34.85527248022413, 33.88706838948847, 30.982456117281515, 30.982456117281515, 29.046047935810197, 29.0460479358102, 27.10963975433888, 25.173231572867582, 24.205027482131918, 24.205027482131918, 165.26738712511442, 146.79587293225492, 126.37998882435866, 92.35351531119736, 63.18796658563056, 62.21578162811175, 60.271411713073974, 52.49393205292282, 47.633007265328345, 44.716452392771686, 44.716452392771686, 42.772082477733896, 42.22070369407211, 37.91115769013939, 36.9389727326205, 32.078047945026, 31.1058629875071, 31.10586298750712, 31.105862987507127, 31.105862987507102, 30.133678029988214, 29.16149307246932, 27.217123157431523, 27.21712315743153, 26.634707983661386, 26.244938199912603, 26.244938199912603, 26.24493819991261, 25.967051579131734, 25.89040422639711, 455.87128356697673, 217.16941337324656, 108.57962816216755, 93.90533286337315, 74.33960579831364, 65.53502861903691, 57.39418306412521, 47.92587426048319, 43.03444249421824, 43.03444249421824, 42.779732274185434, 42.056156140965285, 41.28569275597763, 37.16472437470026, 31.295006255182262, 30.31671990192924, 29.338433548676225, 28.36014719542322, 27.38186084217019, 27.381860842170195, 27.381860842170195, 26.403574488917158, 25.425288135664132, 25.425288135664132, 24.447001782411085, 24.447001782411085, 24.447001782411085, 24.447001782411085, 23.468715429158035, 23.468715429158035, 182.35791061614015, 120.90344918804365, 93.14982144632214, 77.29060559390989, 76.29940460313424, 70.3521986584795, 69.02659200533172, 60.44018875072173, 51.519379833739656, 48.545776861412286, 46.613933275364516, 44.580972898308985, 40.29354312415517, 39.62496794442994, 36.3114668040565, 34.66896299055079, 33.67776199977497, 31.397979537382597, 28.72175704589562, 28.72175704589562, 28.72175704589562, 25.74815407356789, 25.74815407356789, 24.756953082791956, 24.756953082791956, 22.77455110124004, 22.77455110124004, 22.77455110124004, 21.783350110464035, 21.78335011046403, 141.68024598186736, 121.2871855937475, 103.95308426384622, 92.02750806633095, 80.50106481750865, 80.50106481750865, 68.26522858463655, 65.20626952641867, 61.12765744879462, 58.06869839057655, 56.029392351764365, 49.91147423532825, 46.852515177110014, 45.474022584614474, 43.79355611889181, 40.73459706067351, 40.73459706067351, 39.71494404126739, 36.65598498304899, 36.65598498304899, 34.616678944236675, 34.616678944236675, 33.59702592483047, 31.329974582035284, 30.538066866611818, 28.262109045319953, 27.47910780839302, 25.439801769580335, 24.420148750173936, 22.380842711361026, 272.22328448143463, 123.22854281538041, 116.85379581060367, 84.58813954655955, 70.31155243194867, 69.29179620947664, 62.1535026521711, 57.05472153981009, 46.857159315087614, 45.83740309261538, 41.75837820272627, 38.69910953530934, 37.679353312837044, 37.679353312837044, 34.620084645419965, 32.5805722004752, 29.521303533057925, 29.521303533057925, 28.501547310585476, 24.422522420695294, 23.402766198222682, 22.383009975749996, 21.363253753277263, 21.363253753277263, 20.343497530804473, 20.343497530804473, 19.323741308331606, 19.323741308331606, 18.30398508585866, 18.30398508585866], \"Category\": [\"Default\", \"Default\", \"Default\", \"Default\", \"Default\", \"Default\", \"Default\", \"Default\", \"Default\", \"Default\", \"Default\", \"Default\", \"Default\", \"Default\", \"Default\", \"Default\", \"Default\", \"Default\", \"Default\", \"Default\", \"Default\", \"Default\", \"Default\", \"Default\", \"Default\", \"Default\", \"Default\", \"Default\", \"Default\", \"Default\", \"Topic1\", \"Topic1\", \"Topic1\", \"Topic1\", \"Topic1\", \"Topic1\", \"Topic1\", \"Topic1\", \"Topic1\", \"Topic1\", \"Topic1\", \"Topic1\", \"Topic1\", \"Topic1\", \"Topic1\", \"Topic1\", \"Topic1\", \"Topic1\", \"Topic1\", \"Topic1\", \"Topic1\", \"Topic1\", \"Topic1\", \"Topic1\", \"Topic1\", \"Topic1\", \"Topic1\", \"Topic1\", \"Topic1\", \"Topic1\", \"Topic2\", \"Topic2\", \"Topic2\", \"Topic2\", \"Topic2\", \"Topic2\", \"Topic2\", \"Topic2\", \"Topic2\", \"Topic2\", \"Topic2\", \"Topic2\", \"Topic2\", \"Topic2\", \"Topic2\", \"Topic2\", \"Topic2\", \"Topic2\", \"Topic2\", \"Topic2\", \"Topic2\", \"Topic2\", \"Topic2\", \"Topic2\", \"Topic2\", \"Topic2\", \"Topic2\", \"Topic2\", \"Topic2\", \"Topic2\", \"Topic3\", \"Topic3\", \"Topic3\", \"Topic3\", \"Topic3\", \"Topic3\", \"Topic3\", \"Topic3\", \"Topic3\", \"Topic3\", \"Topic3\", \"Topic3\", \"Topic3\", \"Topic3\", \"Topic3\", \"Topic3\", \"Topic3\", \"Topic3\", \"Topic3\", \"Topic3\", \"Topic3\", \"Topic3\", \"Topic3\", \"Topic3\", \"Topic3\", \"Topic3\", \"Topic3\", \"Topic3\", \"Topic3\", \"Topic3\", \"Topic4\", \"Topic4\", \"Topic4\", \"Topic4\", \"Topic4\", \"Topic4\", \"Topic4\", \"Topic4\", \"Topic4\", \"Topic4\", \"Topic4\", \"Topic4\", \"Topic4\", \"Topic4\", \"Topic4\", \"Topic4\", \"Topic4\", \"Topic4\", \"Topic4\", \"Topic4\", \"Topic4\", \"Topic4\", \"Topic4\", \"Topic4\", \"Topic4\", \"Topic4\", \"Topic4\", \"Topic4\", \"Topic4\", \"Topic4\", \"Topic5\", \"Topic5\", \"Topic5\", \"Topic5\", \"Topic5\", \"Topic5\", \"Topic5\", \"Topic5\", \"Topic5\", \"Topic5\", \"Topic5\", \"Topic5\", \"Topic5\", \"Topic5\", \"Topic5\", \"Topic5\", \"Topic5\", \"Topic5\", \"Topic5\", \"Topic5\", \"Topic5\", \"Topic5\", \"Topic5\", \"Topic5\", \"Topic5\", \"Topic5\", \"Topic5\", \"Topic5\", \"Topic5\", \"Topic5\", \"Topic6\", \"Topic6\", \"Topic6\", \"Topic6\", \"Topic6\", \"Topic6\", \"Topic6\", \"Topic6\", \"Topic6\", \"Topic6\", \"Topic6\", \"Topic6\", \"Topic6\", \"Topic6\", \"Topic6\", \"Topic6\", \"Topic6\", \"Topic6\", \"Topic6\", \"Topic6\", \"Topic6\", \"Topic6\", \"Topic6\", \"Topic6\", \"Topic6\", \"Topic6\", \"Topic6\", \"Topic6\", \"Topic6\", \"Topic6\", \"Topic7\", \"Topic7\", \"Topic7\", \"Topic7\", \"Topic7\", \"Topic7\", \"Topic7\", \"Topic7\", \"Topic7\", \"Topic7\", \"Topic7\", \"Topic7\", \"Topic7\", \"Topic7\", \"Topic7\", \"Topic7\", \"Topic7\", \"Topic7\", \"Topic7\", \"Topic7\", \"Topic7\", \"Topic7\", \"Topic7\", \"Topic7\", \"Topic7\", \"Topic7\", \"Topic7\", \"Topic7\", \"Topic7\", \"Topic7\", \"Topic8\", \"Topic8\", \"Topic8\", \"Topic8\", \"Topic8\", \"Topic8\", \"Topic8\", \"Topic8\", \"Topic8\", \"Topic8\", \"Topic8\", \"Topic8\", \"Topic8\", \"Topic8\", \"Topic8\", \"Topic8\", \"Topic8\", \"Topic8\", \"Topic8\", \"Topic8\", \"Topic8\", \"Topic8\", \"Topic8\", \"Topic8\", \"Topic8\", \"Topic8\", \"Topic8\", \"Topic8\", \"Topic8\", \"Topic8\", \"Topic9\", \"Topic9\", \"Topic9\", \"Topic9\", \"Topic9\", \"Topic9\", \"Topic9\", \"Topic9\", \"Topic9\", \"Topic9\", \"Topic9\", \"Topic9\", \"Topic9\", \"Topic9\", \"Topic9\", \"Topic9\", \"Topic9\", \"Topic9\", \"Topic9\", \"Topic9\", \"Topic9\", \"Topic9\", \"Topic9\", \"Topic9\", \"Topic9\", \"Topic9\", \"Topic9\", \"Topic9\", \"Topic9\", \"Topic9\", \"Topic10\", \"Topic10\", \"Topic10\", \"Topic10\", \"Topic10\", \"Topic10\", \"Topic10\", \"Topic10\", \"Topic10\", \"Topic10\", \"Topic10\", \"Topic10\", \"Topic10\", \"Topic10\", \"Topic10\", \"Topic10\", \"Topic10\", \"Topic10\", \"Topic10\", \"Topic10\", \"Topic10\", \"Topic10\", \"Topic10\", \"Topic10\", \"Topic10\", \"Topic10\", \"Topic10\", \"Topic10\", \"Topic10\", \"Topic10\"], \"logprob\": [30.0, 29.0, 28.0, 27.0, 26.0, 25.0, 24.0, 23.0, 22.0, 21.0, 20.0, 19.0, 18.0, 17.0, 16.0, 15.0, 14.0, 13.0, 12.0, 11.0, 10.0, 9.0, 8.0, 7.0, 6.0, 5.0, 4.0, 3.0, 2.0, 1.0, -2.932, -3.225, -3.2341, -3.3202, -3.4255, -3.5227, -3.5684, -3.5684, -3.8816, -3.9355, -3.9355, -3.9626, -4.0325, -4.1175, -4.1933, -4.2104, -4.235, -4.2603, -4.2603, -4.2688, -4.2862, -4.3128, -4.3401, -4.3401, -4.3401, -4.3401, -4.4575, -4.4892, -4.4892, -4.5219, -1.54, -2.9309, -3.2863, -3.4782, -3.6302, -3.864, -3.8659, -3.9128, -3.9498, -3.9688, -4.0697, -4.0912, -4.1131, -4.1585, -4.2144, -4.2392, -4.3084, -4.5175, -4.5175, -4.5399, -4.5512, -4.5512, -4.562, -4.5862, -4.5862, -4.6225, -4.6991, -4.6991, -4.7398, -4.7822, -2.0165, -3.0062, -3.0167, -3.109, -3.2911, -3.4894, -3.742, -3.8013, -3.8181, -3.9635, -4.0034, -4.024, -4.1573, -4.2312, -4.2571, -4.3391, -4.3391, -4.368, -4.368, -4.4095, -4.4284, -4.5266, -4.5615, -4.5615, -4.5978, -4.6744, -4.6744, -4.6744, -4.6845, -4.7151, -2.2248, -2.6093, -2.718, -3.2517, -3.6715, -3.8155, -3.8328, -3.9439, -4.1376, -4.1376, -4.1863, -4.2374, -4.2374, -4.264, -4.3192, -4.3194, -4.3483, -4.3483, -4.4088, -4.4404, -4.4731, -4.5069, -4.5069, -4.6157, -4.6954, -4.7032, -4.7378, -4.7378, -4.7483, -4.7673, -2.8098, -3.0708, -3.3698, -3.5754, -3.6191, -3.7128, -3.7981, -3.9113, -4.0164, -4.0388, -4.0852, -4.1093, -4.1093, -4.1339, -4.1339, -4.1592, -4.1851, -4.2117, -4.2482, -4.2671, -4.2671, -4.296, -4.3881, -4.3881, -4.4545, -4.4545, -4.5257, -4.6024, -4.6431, -4.6431, -2.6864, -2.8056, -2.9563, -3.2725, -3.6565, -3.6722, -3.7044, -3.8447, -3.9436, -4.008, -4.008, -4.0534, -4.0666, -4.1767, -4.2033, -4.348, -4.3797, -4.3797, -4.3797, -4.3797, -4.4124, -4.4462, -4.5174, -4.5174, -4.5397, -4.555, -4.555, -4.555, -4.566, -4.569, -1.6618, -2.4054, -3.1027, -3.2491, -3.4852, -3.6129, -3.7474, -3.9308, -4.0405, -4.0405, -4.0466, -4.064, -4.0829, -4.1904, -4.3668, -4.3995, -4.4333, -4.4683, -4.5045, -4.5045, -4.5045, -4.5421, -4.5812, -4.5812, -4.6218, -4.6218, -4.6218, -4.6218, -4.6642, -4.6642, -2.567, -2.9804, -3.2434, -3.4319, -3.445, -3.5271, -3.5464, -3.681, -3.8433, -3.9038, -3.9451, -3.9906, -4.0938, -4.1109, -4.2003, -4.2478, -4.2775, -4.3495, -4.4413, -4.4413, -4.4413, -4.5542, -4.5542, -4.5948, -4.5948, -4.6815, -4.6815, -4.6815, -4.7278, -4.7278, -2.7926, -2.9491, -3.1045, -3.2274, -3.3626, -3.3626, -3.5294, -3.5759, -3.6414, -3.6935, -3.7298, -3.8473, -3.9117, -3.9422, -3.9805, -4.0545, -4.0545, -4.0804, -4.1624, -4.1624, -4.2211, -4.2211, -4.2517, -4.3235, -4.3499, -4.4297, -4.4587, -4.5384, -4.5808, -4.6713, -2.1364, -2.9328, -2.9864, -3.3123, -3.4993, -3.5141, -3.6243, -3.7111, -3.9114, -3.9338, -4.0289, -4.1067, -4.134, -4.134, -4.2207, -4.2831, -4.3845, -4.3845, -4.4207, -4.5804, -4.6247, -4.671, -4.7196, -4.7196, -4.7706, -4.7706, -4.8244, -4.8244, -4.8812, -4.8812], \"loglift\": [30.0, 29.0, 28.0, 27.0, 26.0, 25.0, 24.0, 23.0, 22.0, 21.0, 20.0, 19.0, 18.0, 17.0, 16.0, 15.0, 14.0, 13.0, 12.0, 11.0, 10.0, 9.0, 8.0, 7.0, 6.0, 5.0, 4.0, 3.0, 2.0, 1.0, 2.2453, 2.2431, 2.2431, 2.2423, 2.2413, 2.2402, 2.2397, 2.2397, 2.2353, 2.2343, 2.2343, 2.2339, 2.2326, 2.2309, 2.2293, 2.2289, 2.2284, 2.2278, 2.2278, 2.2276, 2.2271, 2.2265, 2.2258, 2.2258, 2.2258, 2.2258, 2.2226, 2.2217, 2.2217, 2.2207, 2.2518, 2.247, 2.2442, 2.2423, 2.2405, 2.2372, 2.2371, 2.2364, 2.2357, 2.2354, 2.2335, 2.2331, 2.2326, 2.2317, 2.2304, 2.2299, 2.2282, 2.2225, 2.2225, 2.2218, 2.2214, 2.2214, 2.2211, 2.2203, 2.2203, 2.2191, 2.2164, 2.2164, 2.2149, 2.2133, 2.2649, 2.2606, 2.2605, 2.2598, 2.2583, 2.2562, 2.253, 2.2521, 2.2519, 2.2494, 2.2487, 2.2483, 2.2456, 2.2439, 2.2433, 2.2413, 2.2413, 2.2405, 2.2405, 2.2394, 2.2389, 2.236, 2.2348, 2.2348, 2.2337, 2.231, 2.231, 2.231, 2.2306, 2.2295, 2.2746, 2.2731, 2.2726, 2.2689, 2.2642, 2.2621, 2.2618, 2.2599, 2.2561, 2.2561, 2.2551, 2.2539, 2.2539, 2.2533, 2.2519, 2.2519, 2.2511, 2.2511, 2.2495, 2.2486, 2.2476, 2.2466, 2.2466, 2.2431, 2.2402, 2.2399, 2.2386, 2.2386, 2.2382, 2.2375, 2.3001, 2.2984, 2.2957, 2.2933, 2.2928, 2.2915, 2.2902, 2.2883, 2.2863, 2.2859, 2.2849, 2.2844, 2.2844, 2.2839, 2.2839, 2.2833, 2.2827, 2.2821, 2.2812, 2.2808, 2.2808, 2.28, 2.2776, 2.2776, 2.2756, 2.2756, 2.2734, 2.2709, 2.2694, 2.2694, 2.3051, 2.3044, 2.3035, 2.3009, 2.2965, 2.2963, 2.2958, 2.2936, 2.2919, 2.2907, 2.2907, 2.2898, 2.2895, 2.2871, 2.2865, 2.2829, 2.282, 2.282, 2.282, 2.282, 2.281, 2.2801, 2.2779, 2.2779, 2.2771, 2.2766, 2.2766, 2.2766, 2.2763, 2.2762, 2.3151, 2.3129, 2.3089, 2.3077, 2.3052, 2.3036, 2.3017, 2.2986, 2.2965, 2.2965, 2.2964, 2.2961, 2.2957, 2.2933, 2.2888, 2.2878, 2.2868, 2.2858, 2.2847, 2.2847, 2.2847, 2.2834, 2.2821, 2.2821, 2.2807, 2.2807, 2.2807, 2.2807, 2.2792, 2.2792, 2.3261, 2.3236, 2.3215, 2.3195, 2.3194, 2.3184, 2.3182, 2.3164, 2.3138, 2.3128, 2.312, 2.3112, 2.309, 2.3087, 2.3066, 2.3055, 2.3047, 2.3028, 2.3001, 2.3001, 2.3001, 2.2965, 2.2965, 2.2951, 2.2951, 2.2919, 2.2919, 2.2919, 2.2901, 2.2901, 2.3529, 2.3518, 2.3506, 2.3495, 2.3482, 2.3482, 2.3462, 2.3456, 2.3447, 2.344, 2.3434, 2.3415, 2.3403, 2.3398, 2.339, 2.3375, 2.3375, 2.337, 2.3351, 2.3351, 2.3337, 2.3337, 2.3329, 2.331, 2.3302, 2.3279, 2.327, 2.3244, 2.3229, 2.3195, 2.356, 2.3522, 2.3518, 2.3489, 2.3468, 2.3466, 2.3452, 2.3439, 2.3406, 2.3401, 2.3383, 2.3366, 2.336, 2.336, 2.3339, 2.3323, 2.3294, 2.3294, 2.3284, 2.3231, 2.3215, 2.3198, 2.3178, 2.3178, 2.3157, 2.3157, 2.3134, 2.3134, 2.3107, 2.3107]}, \"token.table\": {\"Topic\": [10, 2, 7, 9, 10, 6, 8, 7, 4, 5, 3, 4, 8, 5, 1, 3, 1, 10, 10, 7, 3, 10, 3, 5, 9, 10, 9, 4, 6, 2, 7, 7, 9, 5, 5, 5, 2, 8, 8, 1, 8, 4, 6, 5, 3, 3, 6, 6, 10, 4, 8, 10, 6, 3, 1, 4, 4, 2, 2, 2, 8, 3, 3, 7, 3, 4, 5, 4, 5, 3, 5, 7, 9, 5, 2, 7, 5, 9, 6, 8, 1, 6, 6, 10, 9, 6, 4, 9, 7, 10, 4, 3, 5, 2, 5, 10, 6, 8, 2, 6, 3, 8, 1, 10, 5, 2, 7, 6, 9, 8, 1, 3, 8, 2, 8, 7, 4, 7, 9, 8, 6, 1, 2, 5, 3, 2, 2, 9, 10, 8, 2, 7, 3, 5, 5, 9, 1, 8, 4, 2, 5, 7, 9, 4, 7, 4, 1, 4, 6, 3, 10, 3, 10, 6, 10, 7, 8, 3, 8, 8, 9, 3, 7, 9, 4, 2, 7, 5, 2, 7, 2, 5, 3, 10, 8, 1, 5, 6, 7, 2, 10, 1, 1, 7, 3, 10, 5, 1, 7, 1, 2, 2, 3, 2, 6, 8, 9, 10, 8, 4, 4, 6, 1, 5, 9, 4, 1, 4, 6, 2, 6, 2, 1, 1, 1, 6, 7, 3, 4, 9, 2, 6, 10, 4, 10, 9, 5, 1, 4, 9, 9, 4, 1, 9, 7, 2, 9, 2, 10, 8, 6, 8, 6, 1, 6, 8, 9, 3, 5, 4, 1, 1, 2, 9, 8, 10, 7, 10, 7, 6, 10, 10, 2, 5, 8, 8, 3, 4, 6, 3, 3, 4, 7, 1, 7, 4, 8, 7, 10, 3, 9, 1, 9, 3, 1, 10, 7, 9, 5, 9, 1, 6, 5, 9, 4, 5, 8, 1, 6, 10], \"Freq\": [0.9820888755249766, 0.9801584876991786, 0.9800280747971535, 0.98196626176075, 0.9287594980141185, 0.9525646358764621, 0.9694246266791975, 0.9817154763439053, 0.9798034740141155, 0.9502158184690571, 0.9845556029524107, 0.9867329848258473, 0.9659904997557618, 0.9892000353946272, 0.9857496166729924, 0.9845556029524107, 0.9871076453779104, 0.931496634776369, 0.9361869793327652, 0.9800280747971535, 0.9601086876038509, 0.9823414459841121, 0.99364141133676, 0.9858193455774331, 0.9829835401520559, 0.9819701440415753, 0.9821854966147945, 0.9667075806171964, 0.983977879406026, 0.9989819567911402, 0.9688586367297548, 0.9946152022281485, 0.9815524184001451, 0.9590684433878808, 0.9944917907843027, 0.983659037409573, 0.9698957358983262, 0.9925535963230105, 0.9638828469493281, 0.9780576995869849, 0.988757480120869, 0.9846881430225574, 0.983977879406026, 0.9682899214457851, 0.9678822295658005, 0.9801324386540993, 0.9945783698386247, 0.9819489154371704, 0.9815138605299448, 0.9689998007750767, 0.9873246768344198, 0.9821804173081179, 0.9525646358764621, 0.9755060699264957, 0.9940632967450037, 0.985931424704217, 0.9689162987430368, 0.9884103983632258, 0.978528010898917, 0.9645271308148062, 0.9709433899055344, 0.9799088747916802, 0.985198120777377, 0.9946617227192761, 0.9845556029524107, 0.9800700526606133, 0.9923380597961167, 0.9762247339032873, 0.9754621777606419, 0.9563928232482689, 0.9887022771355083, 0.9931320032260971, 0.982104287107485, 0.9811999800425145, 0.9811405149415846, 0.9817154763439053, 0.97382280522786, 0.9815007125054143, 0.962378371838313, 0.992716952745842, 0.9671048930633106, 0.976169891404451, 0.974580431908132, 0.9361869793327652, 0.955342715460616, 0.9644484067858442, 0.978720646362243, 0.9814659877236346, 0.9832730259183344, 0.9813571551014293, 0.9950949188901099, 0.9903179764577487, 0.9533936844988895, 0.9734189664891516, 0.9879356578403177, 0.9819701440415753, 0.9552809769647094, 0.9829696626088632, 0.9766287514288261, 0.9789052275873906, 0.9882799456335495, 0.9925275151857869, 0.9830012474689905, 0.9930470211342594, 0.9872747366906831, 0.99090903293228, 0.9806811190245389, 0.9710875568792687, 0.9816276367000087, 0.9868294041668227, 0.9909883368319655, 0.9903572462666665, 0.9807042688085849, 0.9426022062477789, 0.9678970121796086, 0.9543795156460692, 0.9760724469053963, 0.9860542406386751, 0.9575494522489049, 0.9899187483347864, 0.9905906828921702, 0.9639971410883104, 0.9661298993142217, 0.9828651808981831, 0.9780727839795001, 0.9911642085210168, 0.9480592819764663, 0.9827120598830205, 0.9287594980141185, 0.9640390432834416, 0.9821232006951223, 0.9817733250599151, 0.9960115300289006, 0.9824594972870169, 0.9502158184690571, 0.98196626176075, 0.9932620371938357, 0.9694246266791975, 0.9760724469053963, 0.9910901953459403, 0.9754621777606419, 0.9847151570675948, 0.9821854966147945, 0.97247905806112, 0.9918359901519676, 0.9867329848258473, 0.9639971410883104, 0.9611744237374105, 0.975965975568813, 0.9524118615088273, 0.9926934696072047, 0.9818884959502753, 0.9819347384551196, 0.9644484067858448, 0.9827898037859614, 0.986054240638675, 0.9640390432834418, 0.9780727839795001, 0.9659904997557618, 0.9659904997557618, 0.9818042815014867, 0.9870573717209785, 0.9686604866766307, 0.9951987238788785, 0.9549278715042954, 0.9914646597241644, 0.9759624516024061, 0.978482074005396, 0.9530973059450617, 0.9520401926671692, 0.9844636575549573, 0.9824594972870169, 0.9527196700705567, 0.9813465584731889, 0.9807795820988672, 0.9700534680252746, 0.9639865658101958, 0.9552809769647091, 0.9565678639975346, 0.9593294151111605, 0.9339593632427203, 0.9639971410883104, 0.9755196211106983, 0.9832730259183344, 0.9965026867296907, 0.9824028041312971, 0.9848027848680677, 0.9857496166729924, 0.986054240638675, 0.9893252391493981, 0.9958232136781582, 0.9864789745118105, 0.9839181270916221, 0.9800668367098313, 0.9663929692083036, 0.9798750879057967, 0.9815959644318465, 0.9823414459841121, 0.9748707210097802, 0.9739159448548411, 0.9788135657950057, 0.9804586296869345, 0.9865804529049099, 0.9639865658101957, 0.981998110320274, 0.9514762818780778, 0.9728547900163452, 0.9692437666920918, 0.9601703153681848, 0.9530973059450617, 0.9525646358764619, 0.9734189664891516, 0.9853370449592057, 0.9730868295397637, 0.9945803176238477, 0.964448406785844, 0.9980887509295182, 0.9812225569364187, 0.9928359315024312, 0.9893872911021373, 0.9835358686921374, 0.986710743207912, 0.9817069722617262, 0.9799217160566666, 0.9339593632427203, 0.9908315922457176, 0.9784814110206876, 0.9809729228820713, 0.9581486757849961, 0.9937756746616392, 0.9817381824662055, 0.9859311414988031, 0.9824331397852458, 0.982104287107485, 0.9586193961866418, 0.9698957358983262, 0.9825646519627291, 0.9620955048317725, 0.9814410676317563, 0.9748707210097802, 0.9656087167040336, 0.9876562141669297, 0.9644484067858446, 0.9871487075781311, 0.985344192837311, 0.984227925551728, 0.9822297983706579, 0.9849838550104337, 0.979875872042162, 0.9667075806171964, 0.9830012474689905, 0.9793188190756582, 0.9929383897198742, 0.9827949962765503, 0.9709433899055344, 0.9817310092606383, 0.9748870025728166, 0.9900303713140469, 0.9817154763439053, 0.9969932832888064, 0.9826994765971735, 0.9955063194400696, 0.9661298993142217, 0.9682899214457851, 0.9869681422243922, 0.9748707210097802, 0.9903852919470975, 0.9689162987430368, 0.9811994806950994, 0.9699064462560862, 0.9784416042073905, 0.9836959985809206, 0.9759624516024061, 0.9793188190756587, 0.9903590899923612, 0.9974719833696335, 0.983301908634397, 0.9819799179195536, 0.9818388971179739, 0.9563928232482689, 0.9823804542388994, 0.9728547900163452, 0.9937756746616392, 0.9755060699264956, 0.9881300695957337, 0.9828883614775246, 0.9817154763439053, 0.9888347724727008, 0.9853540639383289, 0.9895759698027055, 0.9639971410883104, 0.9923312932626268, 0.9869377798621572, 0.9818796145090971, 0.9836959985809206, 0.983659037409573, 0.985127586695104, 0.9760038834504068, 0.9627585143355706, 0.931496634776369], \"Term\": [\"accident\", \"accidents\", \"advice\", \"air\", \"aku\", \"allowed\", \"america\", \"americans\", \"anti\", \"area\", \"army\", \"arrives\", \"asked\", \"attention\", \"auto\", \"available\", \"away\", \"bad\", \"better\", \"biden\", \"big\", \"block\", \"blocked\", \"breaking\", \"bringing\", \"bus\", \"business\", \"businesses\", \"capital\", \"car\", \"care\", \"cars\", \"cases\", \"cause\", \"china\", \"chinapneumonia\", \"citizens\", \"city\", \"close\", \"closed\", \"come\", \"coming\", \"commute\", \"congestion\", \"construction\", \"convoy\", \"coronavirus\", \"coronovirus\", \"country\", \"covid\", \"crash\", \"crashes\", \"daily\", \"dalam\", \"day\", \"days\", \"deadly\", \"death\", \"deaths\", \"delhi\", \"demand\", \"desperate\", \"die\", \"died\", \"diesel\", \"dimensions\", \"distancing\", \"doctors\", \"dodge\", \"dodged\", \"doug\", \"drive\", \"driver\", \"drivers\", \"driving\", \"economy\", \"emergency\", \"enable\", \"end\", \"endangering\", \"engine\", \"essential\", \"exiting\", \"experts\", \"face\", \"family\", \"far\", \"father\", \"flu\", \"food\", \"ford\", \"free\", \"freedom\", \"gas\", \"getting\", \"global\", \"god\", \"going\", \"good\", \"goodbye\", \"got\", \"government\", \"govt\", \"health\", \"hell\", \"help\", \"hide\", \"high\", \"highway\", \"hit\", \"home\", \"hospital\", \"hospitals\", \"hour\", \"hours\", \"house\", \"huge\", \"hundreds\", \"india\", \"internet\", \"israel\", \"jerusalem\", \"job\", \"joyride\", \"key\", \"know\", \"lanes\", \"later\", \"law\", \"laws\", \"let\", \"life\", \"like\", \"lincoln\", \"line\", \"live\", \"lives\", \"living\", \"local\", \"long\", \"look\", \"lost\", \"lot\", \"love\", \"make\", \"making\", \"man\", \"mandates\", \"map\", \"market\", \"mask\", \"masks\", \"materials\", \"media\", \"medical\", \"middle\", \"miles\", \"million\", \"minister\", \"minutes\", \"money\", \"months\", \"morning\", \"need\", \"needs\", \"new\", \"news\", \"night\", \"number\", \"numbers\", \"nurses\", \"office\", \"old\", \"onpoli\", \"ontario\", \"open\", \"order\", \"outside\", \"paid\", \"pandemic\", \"parents\", \"park\", \"patients\", \"pay\", \"people\", \"person\", \"personnel\", \"phone\", \"plan\", \"pneumonia\", \"police\", \"positive\", \"post\", \"pre\", \"premier\", \"president\", \"prevent\", \"prices\", \"private\", \"professional\", \"protect\", \"protest\", \"public\", \"quarantine\", \"quarantined\", \"real\", \"really\", \"recovery\", \"relief\", \"remember\", \"reports\", \"response\", \"restrictions\", \"rides\", \"right\", \"risk\", \"road\", \"roadblock\", \"roads\", \"route\", \"run\", \"safe\", \"safety\", \"said\", \"sama\", \"say\", \"says\", \"school\", \"schools\", \"secret\", \"sent\", \"service\", \"set\", \"shanghai\", \"shows\", \"sick\", \"situation\", \"small\", \"sooth\", \"south\", \"speed\", \"spread\", \"staff\", \"state\", \"stop\", \"support\", \"tak\", \"taking\", \"tax\", \"team\", \"test\", \"tested\", \"testing\", \"tests\", \"thing\", \"things\", \"think\", \"time\", \"times\", \"today\", \"took\", \"traffic\", \"transport\", \"trip\", \"trucks\", \"trying\", \"uber\", \"update\", \"use\", \"used\", \"using\", \"vaccinated\", \"vaccination\", \"vaccines\", \"vehicle\", \"vehicles\", \"video\", \"virus\", \"vpn\", \"walk\", \"walking\", \"want\", \"way\", \"wearing\", \"week\", \"weeks\", \"went\", \"work\", \"workers\", \"working\", \"world\", \"wuhan\", \"wuhancoronavirus\", \"wuhanpneumonia\", \"wuhansars\", \"wuhanvirus\", \"year\", \"years\", \"yes\", \"young\"]}, \"R\": 30, \"lambda.step\": 0.01, \"plot.opts\": {\"xlab\": \"PC1\", \"ylab\": \"PC2\"}, \"topic.order\": [10, 9, 4, 8, 2, 6, 7, 5, 3, 1]};\n",
       "\n",
       "function LDAvis_load_lib(url, callback){\n",
       "  var s = document.createElement('script');\n",
       "  s.src = url;\n",
       "  s.async = true;\n",
       "  s.onreadystatechange = s.onload = callback;\n",
       "  s.onerror = function(){console.warn(\"failed to load library \" + url);};\n",
       "  document.getElementsByTagName(\"head\")[0].appendChild(s);\n",
       "}\n",
       "\n",
       "if(typeof(LDAvis) !== \"undefined\"){\n",
       "   // already loaded: just create the visualization\n",
       "   !function(LDAvis){\n",
       "       new LDAvis(\"#\" + \"ldavis_el24671404573363259527311837167\", ldavis_el24671404573363259527311837167_data);\n",
       "   }(LDAvis);\n",
       "}else if(typeof define === \"function\" && define.amd){\n",
       "   // require.js is available: use it to load d3/LDAvis\n",
       "   require.config({paths: {d3: \"https://d3js.org/d3.v5\"}});\n",
       "   require([\"d3\"], function(d3){\n",
       "      window.d3 = d3;\n",
       "      LDAvis_load_lib(\"https://cdn.jsdelivr.net/gh/bmabey/pyLDAvis@3.3.1/pyLDAvis/js/ldavis.v3.0.0.js\", function(){\n",
       "        new LDAvis(\"#\" + \"ldavis_el24671404573363259527311837167\", ldavis_el24671404573363259527311837167_data);\n",
       "      });\n",
       "    });\n",
       "}else{\n",
       "    // require.js not available: dynamically load d3 & LDAvis\n",
       "    LDAvis_load_lib(\"https://d3js.org/d3.v5.js\", function(){\n",
       "         LDAvis_load_lib(\"https://cdn.jsdelivr.net/gh/bmabey/pyLDAvis@3.3.1/pyLDAvis/js/ldavis.v3.0.0.js\", function(){\n",
       "                 new LDAvis(\"#\" + \"ldavis_el24671404573363259527311837167\", ldavis_el24671404573363259527311837167_data);\n",
       "            })\n",
       "         });\n",
       "}\n",
       "</script>"
      ],
      "text/plain": [
       "PreparedData(topic_coordinates=              x         y  topics  cluster       Freq\n",
       "topic                                                \n",
       "9      0.014597  0.072944       1        1  10.521873\n",
       "8      0.050075 -0.412349       2        1  10.504530\n",
       "3     -0.360050 -0.134250       3        1  10.356612\n",
       "7     -0.225498  0.379440       4        1  10.250274\n",
       "1      0.331165 -0.312664       5        1   9.964959\n",
       "5      0.392235 -0.040662       6        1   9.922391\n",
       "6      0.096084  0.441215       7        1   9.857262\n",
       "4     -0.243146 -0.381527       8        1   9.721297\n",
       "2     -0.431567  0.134813       9        1   9.451456\n",
       "0      0.376105  0.253040      10        1   9.449346, topic_info=        Term        Freq       Total Category  logprob  loglift\n",
       "97       car  548.000000  548.000000  Default  30.0000  30.0000\n",
       "652     road  455.000000  455.000000  Default  29.0000  29.0000\n",
       "552   people  336.000000  336.000000  Default  28.0000  28.0000\n",
       "785  traffic  272.000000  272.000000  Default  27.0000  27.0000\n",
       "266     ford  270.000000  270.000000  Default  26.0000  26.0000\n",
       "..       ...         ...         ...      ...      ...      ...\n",
       "663     sama   19.477344   20.343498  Topic10  -4.7706   2.3157\n",
       "45       bad   18.457588   19.323741  Topic10  -4.8244   2.3134\n",
       "861    young   18.457588   19.323741  Topic10  -4.8244   2.3134\n",
       "17       aku   17.437831   18.303985  Topic10  -4.8812   2.3107\n",
       "393      law   17.437831   18.303985  Topic10  -4.8812   2.3107\n",
       "\n",
       "[330 rows x 6 columns], token_table=      Topic      Freq        Term\n",
       "term                             \n",
       "2        10  0.982089    accident\n",
       "3         2  0.980158   accidents\n",
       "11        7  0.980028      advice\n",
       "15        9  0.981966         air\n",
       "17       10  0.928759         aku\n",
       "...     ...       ...         ...\n",
       "855       5  0.983659  wuhanvirus\n",
       "857       8  0.985128        year\n",
       "858       1  0.976004       years\n",
       "859       6  0.962759         yes\n",
       "861      10  0.931497       young\n",
       "\n",
       "[300 rows x 3 columns], R=30, lambda_step=0.01, plot_opts={'xlab': 'PC1', 'ylab': 'PC2'}, topic_order=[10, 9, 4, 8, 2, 6, 7, 5, 3, 1])"
      ]
     },
     "execution_count": 59,
     "metadata": {},
     "output_type": "execute_result"
    }
   ],
   "source": [
    "dtm_tf = tf_vectorizer.fit_transform(cleanMotorized)\n",
    "\n",
    "tfidf_vectorizer = TfidfVectorizer(**tf_vectorizer.get_params())\n",
    "\n",
    "dtm_tfidf = tfidf_vectorizer.fit_transform(cleanMotorized)\n",
    "print(dtm_tfidf.shape)\n",
    "\n",
    "# for TFIDF DTM\n",
    "lda_tfidf = LatentDirichletAllocation(n_components=10, random_state=0)\n",
    "lda_tfidf.fit(dtm_tfidf)\n",
    "pyLDAvis.sklearn.prepare(lda_tfidf, dtm_tfidf, tfidf_vectorizer, mds='mmds')\n"
   ]
  },
  {
   "cell_type": "code",
   "execution_count": 67,
   "id": "2c301a0d",
   "metadata": {},
   "outputs": [
    {
     "name": "stdout",
     "output_type": "stream",
     "text": [
      "(127742, 1994)\n"
     ]
    },
    {
     "name": "stderr",
     "output_type": "stream",
     "text": [
      "/students/jw10/miniconda3/lib/python3.9/site-packages/past/builtins/misc.py:45: DeprecationWarning: the imp module is deprecated in favour of importlib; see the module's documentation for alternative uses\n",
      "  from imp import reload\n",
      "/students/jw10/miniconda3/lib/python3.9/site-packages/past/builtins/misc.py:45: DeprecationWarning: the imp module is deprecated in favour of importlib; see the module's documentation for alternative uses\n",
      "  from imp import reload\n",
      "/students/jw10/miniconda3/lib/python3.9/site-packages/past/builtins/misc.py:45: DeprecationWarning: the imp module is deprecated in favour of importlib; see the module's documentation for alternative uses\n",
      "  from imp import reload\n",
      "/students/jw10/miniconda3/lib/python3.9/site-packages/past/builtins/misc.py:45: DeprecationWarning: the imp module is deprecated in favour of importlib; see the module's documentation for alternative uses\n",
      "  from imp import reload\n"
     ]
    },
    {
     "data": {
      "text/html": [
       "\n",
       "<link rel=\"stylesheet\" type=\"text/css\" href=\"https://cdn.jsdelivr.net/gh/bmabey/pyLDAvis@3.3.1/pyLDAvis/js/ldavis.v1.0.0.css\">\n",
       "\n",
       "\n",
       "<div id=\"ldavis_el24671404573192360964081510549\"></div>\n",
       "<script type=\"text/javascript\">\n",
       "\n",
       "var ldavis_el24671404573192360964081510549_data = {\"mdsDat\": {\"x\": [0.014944515527297076, 0.04913647765461543, -0.3635388738173276, -0.22883087040945915, 0.33737139779257497, 0.3998758350124953, 0.09702900842471152, -0.2483834962869935, -0.43790356041145223, 0.38029956651353825], \"y\": [0.07406199393692012, -0.4142265960783246, -0.1349864588494832, 0.3855122007293246, -0.3190852976106589, -0.041886710864802286, 0.4449471754053623, -0.3895561331859296, 0.13752563708378127, 0.25769418943381023], \"topics\": [1, 2, 3, 4, 5, 6, 7, 8, 9, 10], \"cluster\": [1, 1, 1, 1, 1, 1, 1, 1, 1, 1], \"Freq\": [10.485973033503077, 10.413135820068677, 10.37749808856175, 10.247956657389915, 10.14638504764166, 10.064214967812331, 9.747760658696727, 9.715727179111287, 9.631264994695568, 9.170083552518998]}, \"tinfo\": {\"Term\": [\"people\", \"car\", \"walking\", \"walk\", \"road\", \"public\", \"city\", \"transport\", \"bus\", \"station\", \"night\", \"new\", \"home\", \"transportation\", \"mask\", \"like\", \"cars\", \"coronavirus\", \"wuhan\", \"workers\", \"right\", \"time\", \"traffic\", \"railway\", \"ford\", \"think\", \"day\", \"use\", \"today\", \"need\", \"walking\", \"mask\", \"ford\", \"video\", \"personal\", \"shut\", \"transit\", \"news\", \"line\", \"staff\", \"piyushgoyal\", \"working\", \"dead\", \"care\", \"fight\", \"park\", \"death\", \"local\", \"vaccinated\", \"covid\", \"uber\", \"hit\", \"express\", \"post\", \"hell\", \"air\", \"suspended\", \"update\", \"order\", \"desperate\", \"public\", \"transport\", \"bus\", \"coronavirus\", \"today\", \"service\", \"rail\", \"died\", \"buses\", \"test\", \"medical\", \"patients\", \"week\", \"vehicle\", \"come\", \"deaths\", \"railminindia\", \"years\", \"leave\", \"safety\", \"schools\", \"capital\", \"house\", \"zero\", \"start\", \"lot\", \"relief\", \"hide\", \"pneumonia\", \"thousands\", \"like\", \"right\", \"think\", \"long\", \"health\", \"work\", \"story\", \"distancing\", \"going\", \"walks\", \"happy\", \"masks\", \"want\", \"route\", \"open\", \"things\", \"hospitals\", \"live\", \"prevent\", \"south\", \"person\", \"father\", \"big\", \"lane\", \"president\", \"patient\", \"place\", \"india\", \"joyride\", \"level\", \"car\", \"new\", \"know\", \"police\", \"got\", \"stuff\", \"said\", \"million\", \"positive\", \"drivers\", \"using\", \"morning\", \"look\", \"breaking\", \"march\", \"pmoindia\", \"coming\", \"area\", \"water\", \"close\", \"end\", \"job\", \"minister\", \"deadly\", \"services\", \"asked\", \"passengers\", \"sure\", \"told\", \"residents\", \"walk\", \"station\", \"night\", \"day\", \"spread\", \"running\", \"exercise\", \"good\", \"delhi\", \"blocked\", \"outside\", \"phone\", \"closed\", \"protest\", \"onpoli\", \"radicalize\", \"media\", \"tested\", \"wuhancoronavirus\", \"daily\", \"global\", \"ban\", \"london\", \"assault\", \"major\", \"report\", \"available\", \"trucks\", \"personnel\", \"access\", \"home\", \"wuhan\", \"workers\", \"traffic\", \"use\", \"hospital\", \"stop\", \"beginning\", \"year\", \"testing\", \"lighthearted\", \"wearing\", \"safe\", \"risk\", \"vaccination\", \"really\", \"world\", \"army\", \"auto\", \"taking\", \"cycle\", \"likely\", \"ontario\", \"family\", \"crisis\", \"metropolitan\", \"vaccines\", \"black\", \"thank\", \"wave\", \"transportation\", \"railway\", \"went\", \"say\", \"goes\", \"sleep\", \"run\", \"let\", \"country\", \"cities\", \"days\", \"man\", \"drive\", \"face\", \"school\", \"employees\", \"attention\", \"railways\", \"nurses\", \"airport\", \"military\", \"driver\", \"kids\", \"toll\", \"used\", \"tomorrow\", \"making\", \"highway\", \"sooth\", \"migrants\", \"people\", \"time\", \"virus\", \"government\", \"cases\", \"help\", \"food\", \"getting\", \"oxygen\", \"train\", \"hours\", \"allowed\", \"bike\", \"number\", \"security\", \"emergency\", \"sick\", \"low\", \"given\", \"trying\", \"gas\", \"source\", \"necessary\", \"contain\", \"parents\", \"shows\", \"weeks\", \"tax\", \"forced\", \"avoid\", \"high\", \"road\", \"city\", \"need\", \"metro\", \"china\", \"free\", \"way\", \"away\", \"says\", \"govt\", \"wuhanpneumonia\", \"die\", \"essential\", \"months\", \"support\", \"read\", \"areas\", \"enable\", \"private\", \"demand\", \"supplies\", \"israel\", \"national\", \"ccp\", \"seen\", \"locking\", \"took\", \"york\", \"protect\", \"latest\", \"cars\", \"roads\", \"vehicles\", \"make\", \"lives\", \"restrictions\", \"painful\", \"life\", \"state\", \"doug\", \"treatrailwayemployeesfrontlineworker\", \"doctors\", \"money\", \"trains\", \"secret\", \"quarantine\", \"thing\", \"case\", \"internet\", \"old\", \"amid\", \"endangering\", \"times\", \"sent\", \"citizens\", \"lost\", \"despite\", \"students\", \"key\", \"waiting\"], \"Freq\": [940.0, 614.0, 618.0, 562.0, 531.0, 509.0, 477.0, 482.0, 429.0, 393.0, 362.0, 352.0, 348.0, 327.0, 337.0, 335.0, 293.0, 306.0, 300.0, 300.0, 303.0, 286.0, 280.0, 273.0, 274.0, 270.0, 264.0, 262.0, 260.0, 250.0, 617.2913961327963, 336.3416726193435, 274.0919681894993, 179.64198938220517, 160.9390232817504, 136.62516735115756, 120.7276461657682, 116.05190464065409, 109.50586650549293, 109.50586650549293, 102.02468006530927, 100.76242051615601, 93.60834532010158, 92.87284727328462, 89.8677521000088, 88.93260379498595, 85.19201057489306, 84.2568622698696, 81.16492761673133, 81.0959579441108, 80.5162690497766, 74.68646171777073, 73.03508260958984, 72.47536508415637, 67.42419277944867, 65.55389616940151, 65.55389616940155, 64.61874786437788, 63.3888997574139, 60.87815464428284, 508.7887293108153, 481.1697954679544, 428.7814173620134, 305.12306935293185, 260.07260079081897, 172.42047261335009, 154.70236374312915, 145.56932652877487, 129.6139522463572, 121.75474722648941, 112.72002653556073, 111.43267086377249, 110.36609290637979, 104.27306368016156, 98.6417551098955, 91.13334368287315, 91.13334368287315, 82.68638082747214, 81.74782939909431, 77.05507225720427, 76.11652082882614, 69.54666083017925, 69.54666083017925, 67.14622435867075, 66.73100654504447, 64.85390368828784, 57.34549226125999, 55.468389404502645, 53.27024909510824, 52.652735119366206, 334.71919560688144, 302.13034133488685, 269.5211078236992, 256.96097690134354, 221.1670788920578, 204.17439907858665, 182.85231397214207, 179.08410554381317, 172.4897407942384, 171.5476886871547, 164.95332393757997, 151.76459443842847, 146.11228179593502, 133.86560440386577, 95.89479416688538, 94.29941590640492, 83.93684272849633, 82.99479062141357, 82.99479062141349, 81.73859061898067, 75.45837376475141, 70.74811322933712, 68.86400901517113, 66.97990480100519, 66.97990480100503, 66.03785269392205, 64.15374847975583, 60.15371577271087, 57.55938373017295, 53.79117530183907, 613.2332293064134, 351.41186917190043, 243.8270920984366, 223.83346096088883, 174.3254219536283, 144.8110140839143, 135.29023735174746, 130.5298489856638, 106.15998587984011, 94.35089740342565, 93.39881973020877, 82.92596532482133, 81.02180997838722, 79.44298727104454, 78.16557695873577, 76.26142161230139, 75.91589326387347, 70.54895557299797, 69.59687789978054, 67.37611617156715, 63.88441186047583, 61.98025651404083, 61.02817884082307, 60.076101167605515, 59.12402349438781, 58.17194582116996, 58.17194582116996, 58.17194582116996, 58.17194582116996, 57.21986814795227, 561.7019180068595, 392.740137847326, 362.01981418195965, 263.1387723840404, 171.93781150246437, 124.89731588985553, 122.01728554622609, 110.497164171708, 109.53715405716521, 100.89706302627582, 93.21698210992973, 83.61688096449565, 82.65687084995204, 75.93680004814749, 74.97678993360363, 74.97678993360363, 74.0167798190602, 71.80869291107174, 71.1367494754292, 70.17673936088534, 69.21672924634164, 62.4966584445346, 60.57663821544646, 54.81657752818136, 54.81657752818135, 51.936547184548125, 50.976537070003694, 50.016526955459014, 48.09650672636958, 47.13649661182477, 347.1937731100353, 299.47562071354724, 299.4756207135461, 280.09835635084545, 261.68995520627533, 222.5646180432081, 191.93180350053947, 169.64794948342782, 164.7869497377313, 144.1065365156705, 140.5820529393682, 126.5407758316496, 123.81665083051998, 114.14177160845963, 106.03318005883668, 102.7963874320854, 93.1077552507291, 87.29457594191507, 80.51253341496466, 79.54367019682876, 77.60594376055685, 76.63708054242092, 72.76162766987707, 70.82390123360503, 68.88617479733306, 65.97958514292444, 65.01072192478836, 64.04185870665219, 63.072995488515886, 59.901243137130585, 326.4577304795838, 272.563760909042, 202.7012077620485, 177.75029592383603, 174.7561865032493, 162.77974882090737, 161.80686040164306, 154.7954570326773, 137.44632809527064, 121.86025340623232, 117.54251594318258, 99.90345098859858, 98.59338912589004, 93.68255089634314, 87.59120041144952, 84.93290388566427, 79.9427215180189, 79.9427215180189, 77.94664857096033, 76.94861209743131, 72.95646620331422, 68.96432030919685, 66.96824736213809, 64.97217441507915, 64.97217441507915, 62.97610146801998, 62.63775393024032, 60.98002852096081, 59.98199204743098, 58.98395557390129, 939.966926470833, 285.96014500705775, 236.3179547776186, 227.945338260602, 172.25887342858616, 170.25702713642778, 145.23394848446006, 142.2311790462238, 138.2274864619092, 130.2201012932785, 102.88674698144276, 102.19425320307012, 89.18225230404236, 80.17394398932963, 66.16101994421797, 64.86566311473734, 63.15825050597916, 63.15488062457674, 62.15732735989928, 61.15640421381953, 60.155481067739736, 60.155481067739736, 59.154557921659986, 58.15363477558008, 57.152711629500054, 54.14994219126002, 54.14994219126, 50.14624960693889, 48.144403314777946, 45.14163387653589, 94.03394191488452, 530.5098374597328, 476.7978897923649, 249.64574525448455, 224.38818300580883, 196.76345246180352, 196.57373318003613, 158.71852115925185, 148.6154962597813, 132.45065642062636, 117.29611907141809, 115.27551409152366, 74.86341449362561, 73.1453000350496, 71.8325070237824, 70.82220453383447, 66.78099457404281, 65.77069208409499, 65.77069208409499, 65.77069208409497, 64.76038959414697, 64.76038959414697, 62.73978461425074, 60.719179634354546, 60.71917963435456, 60.71917963435456, 59.70887714440623, 59.70887714440623, 59.70887714440623, 58.698574654458056, 56.67796967456133, 292.49623600440464, 237.48214526443826, 195.96800960450224, 168.2919191645434, 165.09852411377844, 158.71173401224942, 157.6472689953278, 150.47826820857563, 147.38181420555614, 127.84224852152293, 91.65043794618315, 88.45704289541709, 85.2636478446511, 85.2636478446511, 83.13471781080708, 80.5814014786927, 78.87685774311875, 74.61899767542995, 69.29667259081853, 67.33511380614208, 66.10327754005118, 65.0388125231287, 61.84541747236099, 59.716487438515685, 56.977099442243116, 55.45862737082425, 54.394162353901265, 54.394162353901265, 53.32969733697824, 51.20076730313197], \"Total\": [940.0, 614.0, 618.0, 562.0, 531.0, 509.0, 477.0, 482.0, 429.0, 393.0, 362.0, 352.0, 348.0, 327.0, 337.0, 335.0, 293.0, 306.0, 300.0, 300.0, 303.0, 286.0, 280.0, 273.0, 274.0, 270.0, 264.0, 262.0, 260.0, 250.0, 618.174924312863, 337.22520109603005, 274.9754963695761, 180.52551756229153, 161.82255146183996, 137.50869553125264, 121.61117434586811, 116.93543282075566, 110.38939468559708, 110.38939468559708, 102.90820824541676, 101.64594896149288, 94.49187350021347, 93.75637816224184, 90.75128028012293, 89.81613197510067, 86.07553875501024, 85.14039044998746, 82.04845604862437, 81.97948948403959, 81.39979722989717, 75.56999077843355, 73.91861078971682, 73.35889673894988, 68.30772095958136, 66.43742434953633, 66.43742434953637, 65.50227604451382, 64.27242825804738, 61.76168282442355, 509.67191717839023, 482.0529834054754, 429.66460543714686, 306.00625722051325, 260.9557886584032, 173.30366065251067, 155.58555177303631, 146.45251439637403, 130.49714011396057, 122.63793532654746, 113.60321440316983, 112.31585873135609, 111.24928107350371, 105.15625154777419, 99.52494297751086, 92.01653155049264, 92.01653155049264, 83.56956869509723, 82.6310172667201, 77.93826012483373, 76.99970869645641, 70.4298486978157, 70.4298486978157, 68.02941281151065, 67.61419441268393, 65.7370915559295, 58.228680128911684, 56.351577272157265, 54.153438903346746, 53.53592298702566, 335.6020334064672, 303.01317921279684, 270.403945623305, 257.8438149272973, 222.04991706223086, 205.05723740881677, 183.73515177175645, 179.96694334342814, 173.37257859385443, 172.43052648677093, 165.83616173719733, 152.64743223804842, 146.9951195955562, 134.74844220349004, 96.7776328854375, 95.18225370604469, 84.81968052814254, 83.87762842106048, 83.8776284210604, 82.62142872807303, 76.34121156440425, 71.63095102899433, 69.74684681483025, 67.86274260066634, 67.86274260066618, 66.92069049358426, 65.03658627942026, 61.03655390338604, 58.44222152984623, 54.6740131015184, 614.1150645490551, 352.29370441454796, 244.7089273410902, 224.7152962035442, 175.2072571962898, 145.69284932658147, 136.17207259441702, 131.41168422833468, 107.04182146818624, 95.23273264611078, 94.28065497289442, 83.80780056751357, 81.90364522108082, 80.32482309680218, 79.04741220143157, 77.14325685499875, 76.79772880230578, 71.43079081570049, 70.47871314248403, 68.2579514142277, 64.76624710318558, 62.86209175675293, 61.9100140835364, 60.95793641032011, 60.00585873710372, 59.05378106388722, 59.05378106388722, 59.05378106388722, 59.05378106388722, 58.10170339067093, 562.5829600051059, 393.6211798455761, 362.9008561802108, 264.0198143822965, 172.8188535007301, 125.77835788813174, 122.8983275445032, 111.37820616998921, 110.4181960554468, 101.77810502456117, 94.098024108219, 84.49792296279082, 83.5379128482479, 76.81784204644848, 75.85783193190544, 75.85783193190544, 74.89782181736285, 72.68973517976697, 72.01779147373446, 71.05778135919152, 70.09777124464881, 63.37770044284923, 61.45768021376354, 55.697619526506834, 55.69761952650682, 52.81758918287848, 51.85757906833581, 50.89756895379294, 48.977548724707376, 48.0175386101646, 348.07392987479454, 300.35577740119453, 300.3557774011934, 280.97851303849393, 262.57011189392495, 223.4447748565238, 192.8119601881957, 170.52810617108725, 165.6671075107603, 144.9866934257403, 141.46220962703342, 127.4209327586909, 124.69680766629924, 115.02192829610496, 106.9133371290232, 103.67654411976302, 93.98791193841151, 88.1747326296009, 81.3926901026551, 80.4238268845199, 78.48610044824949, 77.51723723011432, 73.64178435757378, 71.70405792130353, 69.76633148503343, 66.85974183062788, 65.89087861249288, 64.92201539435781, 63.95315217622265, 60.78140016688674, 327.33496984084576, 273.44100027030674, 203.57844712331897, 178.62753528510964, 175.63342586452336, 163.6569881821833, 162.68410141111033, 155.67269639395468, 138.3235676615411, 122.73749276751762, 118.4197554681173, 100.7806903498921, 99.47062869406707, 94.55979040697763, 88.46843977271712, 85.81014324696584, 80.8199608793238, 80.8199608793238, 78.82388793226671, 77.82585145873844, 73.83370556462461, 69.84155967051085, 67.84548672345406, 65.84941377639724, 65.84941377639724, 63.8533408293403, 63.514993611247206, 61.857267882283494, 60.85923140875491, 59.86119493522652, 940.843877164749, 286.83709658727884, 237.19490547154888, 228.82228904904744, 173.13582412252353, 171.13397783036547, 146.11089917840232, 143.1081297401667, 139.10443715585302, 131.09705198722435, 103.76369785219026, 103.07120389702551, 90.05920299800421, 81.0508946832972, 67.03797063819755, 65.74261409045575, 64.03520119996202, 64.03183242285611, 63.034278053883305, 62.03335490780474, 61.0324317617262, 61.0324317617262, 60.03150861564773, 59.03058546956915, 58.0296623234905, 55.02689288525489, 55.026892885254874, 51.023200300940495, 49.02135400878334, 46.01858457054761, 115.15239913534239, 531.3858502190277, 477.6739031023036, 250.52175801378885, 225.26419576511515, 197.63946532335905, 197.4497472746226, 159.59453391856638, 149.49150901909778, 133.3266691799465, 118.17213183074257, 116.15152685084882, 75.73942725297177, 74.02131279403467, 72.7085197831311, 71.69821729318406, 67.65700733339624, 66.64670484344944, 66.64670484344944, 66.64670484344943, 65.63640235350249, 65.63640235350249, 63.6157973736085, 61.5951923937147, 61.59519239371471, 61.59519239371471, 60.58488990376764, 60.58488990376764, 60.58488990376764, 59.57458741382076, 57.55398243392677, 293.3668325699287, 238.35274176978106, 196.83860610984877, 169.16251566989342, 165.96912061912892, 159.58233051760092, 158.51786550067948, 151.3488653613851, 148.2524109860446, 128.71284502688079, 92.52103445155389, 89.32763940078948, 86.13424435002527, 86.13424435002527, 84.0053143161825, 81.45199798394387, 79.7474542484969, 75.48959418081112, 70.16726909620402, 68.20571205122734, 66.9738740454396, 65.90940902851816, 62.71601397775378, 60.5870839439109, 57.84769654012557, 56.32922387622487, 55.26475885930337, 55.26475885930337, 54.20029384238189, 52.0713638085389], \"Category\": [\"Default\", \"Default\", \"Default\", \"Default\", \"Default\", \"Default\", \"Default\", \"Default\", \"Default\", \"Default\", \"Default\", \"Default\", \"Default\", \"Default\", \"Default\", \"Default\", \"Default\", \"Default\", \"Default\", \"Default\", \"Default\", \"Default\", \"Default\", \"Default\", \"Default\", \"Default\", \"Default\", \"Default\", \"Default\", \"Default\", \"Topic1\", \"Topic1\", \"Topic1\", \"Topic1\", \"Topic1\", \"Topic1\", \"Topic1\", \"Topic1\", \"Topic1\", \"Topic1\", \"Topic1\", \"Topic1\", \"Topic1\", \"Topic1\", \"Topic1\", \"Topic1\", \"Topic1\", \"Topic1\", \"Topic1\", \"Topic1\", \"Topic1\", \"Topic1\", \"Topic1\", \"Topic1\", \"Topic1\", \"Topic1\", \"Topic1\", \"Topic1\", \"Topic1\", \"Topic1\", \"Topic2\", \"Topic2\", \"Topic2\", \"Topic2\", \"Topic2\", \"Topic2\", \"Topic2\", \"Topic2\", \"Topic2\", \"Topic2\", \"Topic2\", \"Topic2\", \"Topic2\", \"Topic2\", \"Topic2\", \"Topic2\", \"Topic2\", \"Topic2\", \"Topic2\", \"Topic2\", \"Topic2\", \"Topic2\", \"Topic2\", \"Topic2\", \"Topic2\", \"Topic2\", \"Topic2\", \"Topic2\", \"Topic2\", \"Topic2\", \"Topic3\", \"Topic3\", \"Topic3\", \"Topic3\", \"Topic3\", \"Topic3\", \"Topic3\", \"Topic3\", \"Topic3\", \"Topic3\", \"Topic3\", \"Topic3\", \"Topic3\", \"Topic3\", \"Topic3\", \"Topic3\", \"Topic3\", \"Topic3\", \"Topic3\", \"Topic3\", \"Topic3\", \"Topic3\", \"Topic3\", \"Topic3\", \"Topic3\", \"Topic3\", \"Topic3\", \"Topic3\", \"Topic3\", \"Topic3\", \"Topic4\", \"Topic4\", \"Topic4\", \"Topic4\", \"Topic4\", \"Topic4\", \"Topic4\", \"Topic4\", \"Topic4\", \"Topic4\", \"Topic4\", \"Topic4\", \"Topic4\", \"Topic4\", \"Topic4\", \"Topic4\", \"Topic4\", \"Topic4\", \"Topic4\", \"Topic4\", \"Topic4\", \"Topic4\", \"Topic4\", \"Topic4\", \"Topic4\", \"Topic4\", \"Topic4\", \"Topic4\", \"Topic4\", \"Topic4\", \"Topic5\", \"Topic5\", \"Topic5\", \"Topic5\", \"Topic5\", \"Topic5\", \"Topic5\", \"Topic5\", \"Topic5\", \"Topic5\", \"Topic5\", \"Topic5\", \"Topic5\", \"Topic5\", \"Topic5\", \"Topic5\", \"Topic5\", \"Topic5\", \"Topic5\", \"Topic5\", \"Topic5\", \"Topic5\", \"Topic5\", \"Topic5\", \"Topic5\", \"Topic5\", \"Topic5\", \"Topic5\", \"Topic5\", \"Topic5\", \"Topic6\", \"Topic6\", \"Topic6\", \"Topic6\", \"Topic6\", \"Topic6\", \"Topic6\", \"Topic6\", \"Topic6\", \"Topic6\", \"Topic6\", \"Topic6\", \"Topic6\", \"Topic6\", \"Topic6\", \"Topic6\", \"Topic6\", \"Topic6\", \"Topic6\", \"Topic6\", \"Topic6\", \"Topic6\", \"Topic6\", \"Topic6\", \"Topic6\", \"Topic6\", \"Topic6\", \"Topic6\", \"Topic6\", \"Topic6\", \"Topic7\", \"Topic7\", \"Topic7\", \"Topic7\", \"Topic7\", \"Topic7\", \"Topic7\", \"Topic7\", \"Topic7\", \"Topic7\", \"Topic7\", \"Topic7\", \"Topic7\", \"Topic7\", \"Topic7\", \"Topic7\", \"Topic7\", \"Topic7\", \"Topic7\", \"Topic7\", \"Topic7\", \"Topic7\", \"Topic7\", \"Topic7\", \"Topic7\", \"Topic7\", \"Topic7\", \"Topic7\", \"Topic7\", \"Topic7\", \"Topic8\", \"Topic8\", \"Topic8\", \"Topic8\", \"Topic8\", \"Topic8\", \"Topic8\", \"Topic8\", \"Topic8\", \"Topic8\", \"Topic8\", \"Topic8\", \"Topic8\", \"Topic8\", \"Topic8\", \"Topic8\", \"Topic8\", \"Topic8\", \"Topic8\", \"Topic8\", \"Topic8\", \"Topic8\", \"Topic8\", \"Topic8\", \"Topic8\", \"Topic8\", \"Topic8\", \"Topic8\", \"Topic8\", \"Topic8\", \"Topic8\", \"Topic9\", \"Topic9\", \"Topic9\", \"Topic9\", \"Topic9\", \"Topic9\", \"Topic9\", \"Topic9\", \"Topic9\", \"Topic9\", \"Topic9\", \"Topic9\", \"Topic9\", \"Topic9\", \"Topic9\", \"Topic9\", \"Topic9\", \"Topic9\", \"Topic9\", \"Topic9\", \"Topic9\", \"Topic9\", \"Topic9\", \"Topic9\", \"Topic9\", \"Topic9\", \"Topic9\", \"Topic9\", \"Topic9\", \"Topic9\", \"Topic10\", \"Topic10\", \"Topic10\", \"Topic10\", \"Topic10\", \"Topic10\", \"Topic10\", \"Topic10\", \"Topic10\", \"Topic10\", \"Topic10\", \"Topic10\", \"Topic10\", \"Topic10\", \"Topic10\", \"Topic10\", \"Topic10\", \"Topic10\", \"Topic10\", \"Topic10\", \"Topic10\", \"Topic10\", \"Topic10\", \"Topic10\", \"Topic10\", \"Topic10\", \"Topic10\", \"Topic10\", \"Topic10\", \"Topic10\"], \"logprob\": [30.0, 29.0, 28.0, 27.0, 26.0, 25.0, 24.0, 23.0, 22.0, 21.0, 20.0, 19.0, 18.0, 17.0, 16.0, 15.0, 14.0, 13.0, 12.0, 11.0, 10.0, 9.0, 8.0, 7.0, 6.0, 5.0, 4.0, 3.0, 2.0, 1.0, -2.5421, -3.1493, -3.3539, -3.7764, -3.8864, -4.0502, -4.1739, -4.2134, -4.2714, -4.2714, -4.3422, -4.3546, -4.4283, -4.4362, -4.4691, -4.4795, -4.5225, -4.5335, -4.5709, -4.5718, -4.5789, -4.6541, -4.6765, -4.6842, -4.7564, -4.7845, -4.7845, -4.7989, -4.8181, -4.8585, -2.7284, -2.7842, -2.8995, -3.2397, -3.3995, -3.8105, -3.9189, -3.9798, -4.0959, -4.1584, -4.2355, -4.247, -4.2566, -4.3134, -4.3689, -4.4481, -4.4481, -4.5454, -4.5568, -4.6159, -4.6282, -4.7184, -4.7184, -4.7536, -4.7598, -4.7883, -4.9113, -4.9446, -4.9851, -4.9967, -3.1437, -3.2461, -3.3604, -3.4081, -3.5581, -3.638, -3.7483, -3.7691, -3.8067, -3.8121, -3.8513, -3.9347, -3.9726, -4.0602, -4.3938, -4.4105, -4.5269, -4.5382, -4.5382, -4.5535, -4.6334, -4.6979, -4.7249, -4.7526, -4.7526, -4.7668, -4.7957, -4.8601, -4.9042, -4.9719, -2.5257, -3.0825, -3.448, -3.5335, -3.7835, -3.969, -4.037, -4.0728, -4.2795, -4.3974, -4.4076, -4.5265, -4.5497, -4.5694, -4.5856, -4.6103, -4.6148, -4.6881, -4.7017, -4.7342, -4.7874, -4.8176, -4.8331, -4.8488, -4.8648, -4.881, -4.881, -4.881, -4.881, -4.8975, -2.6035, -2.9613, -3.0428, -3.3618, -3.7874, -4.107, -4.1303, -4.2295, -4.2382, -4.3204, -4.3996, -4.5082, -4.5198, -4.6046, -4.6173, -4.6173, -4.6302, -4.6605, -4.6699, -4.6835, -4.6972, -4.7994, -4.8306, -4.9305, -4.9305, -4.9845, -5.0031, -5.0221, -5.0613, -5.0814, -3.0765, -3.2243, -3.2243, -3.2912, -3.3592, -3.5211, -3.6692, -3.7926, -3.8217, -3.9558, -3.9806, -4.0858, -4.1075, -4.1889, -4.2626, -4.2936, -4.3926, -4.4571, -4.5379, -4.55, -4.5747, -4.5873, -4.6392, -4.6662, -4.6939, -4.737, -4.7518, -4.7668, -4.7821, -4.8337, -3.1061, -3.2865, -3.5827, -3.714, -3.731, -3.802, -3.808, -3.8523, -3.9712, -4.0915, -4.1276, -4.2902, -4.3034, -4.3545, -4.4217, -4.4525, -4.5131, -4.5131, -4.5384, -4.5513, -4.6045, -4.6608, -4.6902, -4.7204, -4.7204, -4.7516, -4.757, -4.7839, -4.8004, -4.8171, -2.0453, -3.2353, -3.4259, -3.462, -3.7421, -3.7538, -3.9128, -3.9337, -3.9622, -4.0219, -4.2575, -4.2642, -4.4004, -4.5069, -4.699, -4.7188, -4.7455, -4.7455, -4.7614, -4.7777, -4.7942, -4.7942, -4.811, -4.828, -4.8454, -4.8994, -4.8994, -4.9762, -5.0169, -5.0813, -4.3475, -2.6085, -2.7153, -3.3623, -3.469, -3.6004, -3.6013, -3.8152, -3.881, -3.9962, -4.1177, -4.1351, -4.5667, -4.5899, -4.608, -4.6222, -4.681, -4.6962, -4.6962, -4.6962, -4.7117, -4.7117, -4.7434, -4.7761, -4.7761, -4.7761, -4.7929, -4.7929, -4.7929, -4.81, -4.845, -3.1549, -3.3632, -3.5554, -3.7076, -3.7268, -3.7662, -3.773, -3.8195, -3.8403, -3.9825, -4.3153, -4.3508, -4.3876, -4.3876, -4.4128, -4.444, -4.4654, -4.5209, -4.5949, -4.6236, -4.6421, -4.6583, -4.7087, -4.7437, -4.7907, -4.8177, -4.8371, -4.8371, -4.8568, -4.8976], \"loglift\": [30.0, 29.0, 28.0, 27.0, 26.0, 25.0, 24.0, 23.0, 22.0, 21.0, 20.0, 19.0, 18.0, 17.0, 16.0, 15.0, 14.0, 13.0, 12.0, 11.0, 10.0, 9.0, 8.0, 7.0, 6.0, 5.0, 4.0, 3.0, 2.0, 1.0, 2.2537, 2.2525, 2.2519, 2.2502, 2.2497, 2.2487, 2.2478, 2.2475, 2.2471, 2.2471, 2.2465, 2.2464, 2.2457, 2.2457, 2.2453, 2.2452, 2.2448, 2.2447, 2.2443, 2.2443, 2.2442, 2.2434, 2.2431, 2.243, 2.2421, 2.2417, 2.2417, 2.2416, 2.2413, 2.2407, 2.2604, 2.2603, 2.26, 2.2592, 2.2587, 2.257, 2.2564, 2.2561, 2.2553, 2.2549, 2.2543, 2.2542, 2.2541, 2.2537, 2.2532, 2.2525, 2.2525, 2.2515, 2.2514, 2.2507, 2.2506, 2.2495, 2.2495, 2.249, 2.249, 2.2486, 2.2468, 2.2463, 2.2457, 2.2455, 2.2629, 2.2626, 2.2623, 2.2621, 2.2615, 2.2612, 2.2607, 2.2606, 2.2604, 2.2604, 2.2602, 2.2597, 2.2595, 2.259, 2.2564, 2.2562, 2.2551, 2.2549, 2.2549, 2.2548, 2.2539, 2.2531, 2.2528, 2.2524, 2.2524, 2.2523, 2.2519, 2.251, 2.2503, 2.2493, 2.2767, 2.2756, 2.2745, 2.2742, 2.273, 2.272, 2.2716, 2.2714, 2.2698, 2.2688, 2.2687, 2.2675, 2.2673, 2.2671, 2.2669, 2.2666, 2.2665, 2.2657, 2.2655, 2.2651, 2.2644, 2.264, 2.2637, 2.2635, 2.2633, 2.263, 2.263, 2.263, 2.263, 2.2628, 2.2865, 2.2858, 2.2856, 2.2847, 2.2829, 2.281, 2.2809, 2.2801, 2.28, 2.2794, 2.2786, 2.2776, 2.2775, 2.2765, 2.2764, 2.2764, 2.2762, 2.2759, 2.2757, 2.2756, 2.2754, 2.2741, 2.2736, 2.2721, 2.2721, 2.2712, 2.2709, 2.2706, 2.2699, 2.2695, 2.2937, 2.2932, 2.2932, 2.293, 2.2928, 2.2922, 2.2916, 2.291, 2.2909, 2.2901, 2.2899, 2.2893, 2.2891, 2.2885, 2.2879, 2.2877, 2.2868, 2.2862, 2.2853, 2.2852, 2.2849, 2.2848, 2.2842, 2.2838, 2.2835, 2.2829, 2.2827, 2.2825, 2.2823, 2.2816, 2.3254, 2.3249, 2.3238, 2.3232, 2.3231, 2.3228, 2.3227, 2.3225, 2.3218, 2.321, 2.3207, 2.3194, 2.3193, 2.3188, 2.3182, 2.3179, 2.3172, 2.3172, 2.3169, 2.3168, 2.3162, 2.3155, 2.3151, 2.3147, 2.3147, 2.3143, 2.3142, 2.3138, 2.3136, 2.3134, 2.3305, 2.3284, 2.3277, 2.3276, 2.3263, 2.3263, 2.3254, 2.3253, 2.3251, 2.3247, 2.3229, 2.3229, 2.3216, 2.3205, 2.3183, 2.318, 2.3176, 2.3176, 2.3174, 2.3172, 2.317, 2.317, 2.3167, 2.3165, 2.3162, 2.3154, 2.3154, 2.3141, 2.3134, 2.3122, 2.1288, 2.3385, 2.3383, 2.3367, 2.3363, 2.3357, 2.3357, 2.3347, 2.3343, 2.3336, 2.3327, 2.3326, 2.3285, 2.3283, 2.328, 2.3279, 2.3271, 2.3269, 2.3269, 2.3269, 2.3267, 2.3267, 2.3263, 2.3258, 2.3258, 2.3258, 2.3256, 2.3256, 2.3256, 2.3253, 2.3248, 2.3863, 2.3856, 2.3848, 2.3841, 2.384, 2.3838, 2.3837, 2.3835, 2.3833, 2.3824, 2.3798, 2.3794, 2.3791, 2.3791, 2.3788, 2.3785, 2.3782, 2.3776, 2.3767, 2.3764, 2.3761, 2.3759, 2.3752, 2.3748, 2.3741, 2.3736, 2.3733, 2.3733, 2.373, 2.3724]}, \"token.table\": {\"Topic\": [5, 1, 7, 8, 10, 4, 9, 6, 4, 5, 7, 6, 5, 8, 9, 5, 6, 3, 8, 6, 5, 4, 2, 2, 2, 4, 1, 10, 10, 8, 9, 9, 7, 10, 9, 4, 5, 2, 4, 8, 2, 7, 1, 6, 6, 5, 5, 7, 1, 4, 1, 2, 5, 9, 1, 10, 9, 2, 3, 10, 10, 7, 7, 4, 8, 7, 9, 4, 10, 9, 5, 1, 7, 6, 3, 1, 8, 8, 1, 9, 8, 8, 8, 5, 7, 3, 5, 4, 8, 9, 3, 3, 1, 8, 2, 6, 8, 7, 1, 6, 6, 3, 8, 2, 3, 10, 9, 4, 3, 10, 7, 4, 3, 9, 2, 7, 3, 10, 6, 3, 6, 1, 3, 10, 1, 9, 5, 3, 4, 10, 2, 8, 5, 10, 7, 7, 4, 1, 3, 5, 2, 9, 6, 7, 7, 4, 4, 10, 9, 4, 9, 8, 9, 4, 1, 5, 8, 7, 10, 5, 6, 3, 1, 5, 8, 10, 8, 1, 4, 3, 2, 8, 3, 1, 5, 5, 1, 3, 4, 2, 4, 4, 1, 3, 3, 9, 9, 5, 2, 10, 5, 2, 2, 7, 7, 9, 6, 2, 5, 4, 10, 3, 6, 9, 10, 3, 7, 5, 6, 2, 4, 7, 9, 7, 2, 10, 8, 9, 10, 2, 4, 8, 1, 8, 7, 7, 8, 3, 5, 1, 2, 10, 5, 6, 3, 10, 4, 9, 9, 4, 1, 6, 8, 2, 5, 6, 6, 10, 3, 3, 2, 8, 10, 2, 4, 7, 7, 9, 6, 8, 10, 1, 2, 7, 10, 5, 8, 1, 1, 6, 7, 4, 1, 6, 6, 2, 10, 1, 8, 10, 5, 1, 3, 3, 4, 6, 9, 6, 2, 8, 7, 3, 6, 1, 6, 6, 5, 9, 6, 2, 9, 2], \"Freq\": [0.9788090218779102, 0.9934159947677234, 0.9893884686995518, 0.9896071467439567, 0.9854588963335336, 0.9939691159683227, 0.9902965218615305, 0.9866772192603561, 0.9821555699753215, 0.9874748771592503, 0.9898544756715717, 0.9951753640018555, 0.98346280170145, 0.9778657996534836, 0.9967121275159849, 0.9782620632616424, 0.9969031136101553, 0.9892920347092817, 0.9882388144382348, 0.9857981088732815, 0.9923548878771775, 0.9835066789352828, 0.9984531994752729, 0.9961904137245734, 0.9938967823193828, 0.9981842742290097, 0.9919325151305124, 0.9953408755926664, 0.993514414984952, 0.9934396932103449, 0.9903370316645776, 0.9967644856642736, 0.9939913000429743, 0.9853460623183574, 0.9985891984093608, 0.9815706245475527, 0.9935608536303145, 0.994725513405926, 0.9896125990345455, 0.982541500116064, 0.996711644952449, 0.9904313655010715, 0.9880520177643911, 0.9890157405625114, 0.9938065409610967, 0.985113785725387, 0.9961373566424079, 0.99645535944186, 0.9947945417738768, 0.9842852880735324, 0.9875047107393489, 0.9889527291089554, 0.9962126164854496, 0.9903041249873055, 0.9876673887499331, 0.977114550295546, 0.9902372214870062, 0.9969101630092243, 0.9946271058147443, 0.985137417604503, 0.9944617413535385, 0.9952686667386557, 0.9879504456303518, 0.9870555783514932, 0.988704220227173, 0.9905588871395518, 0.9902965218615305, 0.9881690365358858, 0.9862021365094524, 0.9862024495988542, 0.9926904819418482, 0.9875726724311679, 0.9940800375659852, 0.9901810589007912, 0.9911916424404453, 0.9917215462106547, 0.9923968767241251, 0.9791651203963003, 0.9964524243706974, 0.9977222190413996, 0.9830838829139749, 0.9922566960928169, 0.9835918156625959, 0.9843394272719818, 0.9963934777141342, 0.9920830698546057, 0.9876258900427455, 0.9931095479969916, 0.9964064294065724, 0.9900811484689012, 0.9949579046666408, 0.9952717070282147, 0.9808554444327727, 0.9933737423465403, 0.9760152716643645, 0.17368287721468437, 0.8163095229090166, 0.9861411938866278, 0.9924574454414752, 0.9969146500710903, 0.9980094640529885, 0.9903361988274575, 0.9926400285649213, 0.9938967823193828, 0.9830174897320253, 0.9833644787485798, 0.9903200557246498, 0.9862859836085502, 0.9924331841215107, 0.9778544772123852, 0.9875380550087236, 0.9971029772031894, 0.9872869476298197, 0.9903745594918171, 0.9923634333983417, 0.9956787772709202, 0.9876721487360569, 0.9910877074752802, 0.996732628252789, 0.998206109181293, 0.9933274553041813, 0.9964725353671327, 0.9895367997691251, 0.9941608377780534, 0.9866057643856198, 0.9903459442660262, 0.9925529207713076, 0.9967274183887824, 0.988966971877239, 0.9764025884832774, 0.9887872806891316, 0.9838856333824393, 0.9874748771592506, 0.9931278175588144, 0.9918917789018559, 0.9922535721160305, 0.9867495700079022, 0.996366816323193, 0.9957586431127202, 0.98801271124343, 0.9946901643026661, 0.9943879418528041, 0.987141113514829, 0.9856134690234903, 0.9887083337041117, 0.9968672174719307, 0.9853010196006659, 0.9868316677230484, 0.9902553402923838, 0.9903612723154234, 0.9903370316645779, 0.9828172131696378, 0.9979173145760851, 0.9963277674328643, 0.9920004330749813, 0.9975176245388536, 0.9870341383965775, 0.9895477379525521, 0.9823224182408394, 0.9886915838475917, 0.9912850515074765, 0.9919647457552714, 0.9802025799781718, 0.9883310609481428, 0.9920603743601967, 0.9967330780095746, 0.9822562758033887, 0.99091330302081, 0.9821555699753215, 0.9862420652447911, 0.9882843015561726, 0.9991030635525928, 0.9824313560536991, 0.9949169540684573, 0.9800408809717699, 0.994107275713628, 0.9911745791623263, 0.9840614900209135, 0.9851800805202241, 0.9787005418916164, 0.9968168779979433, 0.990267154894259, 0.9814760472232078, 0.9872869476298219, 0.9895367997691261, 0.9902965218615307, 0.9903551591582243, 0.9893534883998178, 0.998681667253495, 0.9944507440562358, 0.9886915838475917, 0.9962364643351299, 0.9889527291089554, 0.9983872196566324, 0.9898544756715717, 0.9902891458063069, 0.9934744726928638, 0.9788990558228089, 0.9845205130425848, 0.9810383633116027, 0.9963509085516413, 0.9966563196510825, 0.991115361120758, 0.9992738793875134, 0.994324622575193, 0.9944456337212434, 0.9957949092432727, 0.9938116707738861, 0.9944119847224641, 0.9879614951202282, 0.9913927094441164, 0.9964869062090118, 0.9900494838121552, 0.994705006961572, 0.9870167210580315, 0.9880327295437683, 0.9845166757239796, 0.9903370316645776, 0.9903100808671631, 0.9924775931010216, 0.9832373245167515, 0.9813383450998001, 0.9963006300853386, 0.9838338729235908, 0.9959855781932638, 0.9858816585608193, 0.9830838829139749, 0.992478601040436, 0.995261781431002, 0.9964725353671327, 0.9909161912225828, 0.9915521712077756, 0.9984218840921625, 0.9957888494707321, 0.99599885071165, 0.977114550295546, 0.995244452079948, 0.9903041249873055, 0.9902617203112742, 0.9821555699753215, 0.9934159947677228, 0.9947300830992727, 0.9799463715543998, 0.9947982218972552, 0.9905112437394192, 0.9931945932248902, 0.9850960876236993, 0.990627233740054, 0.9875790532372148, 0.998506140055117, 0.9899894695538258, 0.9970816306634029, 0.9885832352482132, 0.9963373540655411, 0.9821555699753215, 0.987100663047942, 0.9866359251018516, 0.9903459442660262, 0.9965174808994741, 0.9916317570029626, 0.9868316677230484, 0.9949743570099085, 0.9978156272407307, 0.9959217011201252, 0.9943684757240072, 0.9823651900819115, 0.9833419470970007, 0.9950884738844247, 0.9923319298985506, 0.9978287250981739, 0.987100663047942, 0.9864165668634503, 0.9872215017915386, 0.9914572198983838, 0.9864794850022841, 0.989004443095341, 0.9957396258466656, 0.997088956899901, 0.9949623476559356, 0.9794250864548469, 0.9989637794840062, 0.998099365945377, 0.9975031887013117, 0.993230254186029, 0.993207691781826, 0.9871440907129276, 0.9962747225486448, 0.9966965179929419, 0.9887704346360827, 0.9813383450998004, 0.9971586033222438, 0.9948441838865263, 0.9954860951471479, 0.9936451086531979, 0.9894889468439423, 0.9954860951471441, 0.9858674995038461, 0.9900859947168192, 0.9959732048154643, 0.9931844964142953, 0.9903459442660262, 0.9848681214644194], \"Term\": [\"access\", \"air\", \"airport\", \"allowed\", \"amid\", \"area\", \"areas\", \"army\", \"asked\", \"assault\", \"attention\", \"auto\", \"available\", \"avoid\", \"away\", \"ban\", \"beginning\", \"big\", \"bike\", \"black\", \"blocked\", \"breaking\", \"bus\", \"buses\", \"capital\", \"car\", \"care\", \"cars\", \"case\", \"cases\", \"ccp\", \"china\", \"cities\", \"citizens\", \"city\", \"close\", \"closed\", \"come\", \"coming\", \"contain\", \"coronavirus\", \"country\", \"covid\", \"crisis\", \"cycle\", \"daily\", \"day\", \"days\", \"dead\", \"deadly\", \"death\", \"deaths\", \"delhi\", \"demand\", \"desperate\", \"despite\", \"die\", \"died\", \"distancing\", \"doctors\", \"doug\", \"drive\", \"driver\", \"drivers\", \"emergency\", \"employees\", \"enable\", \"end\", \"endangering\", \"essential\", \"exercise\", \"express\", \"face\", \"family\", \"father\", \"fight\", \"food\", \"forced\", \"ford\", \"free\", \"gas\", \"getting\", \"given\", \"global\", \"goes\", \"going\", \"good\", \"got\", \"government\", \"govt\", \"happy\", \"health\", \"hell\", \"help\", \"hide\", \"high\", \"high\", \"highway\", \"hit\", \"home\", \"hospital\", \"hospitals\", \"hours\", \"house\", \"india\", \"internet\", \"israel\", \"job\", \"joyride\", \"key\", \"kids\", \"know\", \"lane\", \"latest\", \"leave\", \"let\", \"level\", \"life\", \"lighthearted\", \"like\", \"likely\", \"line\", \"live\", \"lives\", \"local\", \"locking\", \"london\", \"long\", \"look\", \"lost\", \"lot\", \"low\", \"major\", \"make\", \"making\", \"man\", \"march\", \"mask\", \"masks\", \"media\", \"medical\", \"metro\", \"metropolitan\", \"migrants\", \"military\", \"million\", \"minister\", \"money\", \"months\", \"morning\", \"national\", \"necessary\", \"need\", \"new\", \"news\", \"night\", \"number\", \"nurses\", \"old\", \"onpoli\", \"ontario\", \"open\", \"order\", \"outside\", \"oxygen\", \"painful\", \"parents\", \"park\", \"passengers\", \"patient\", \"patients\", \"people\", \"person\", \"personal\", \"personnel\", \"phone\", \"piyushgoyal\", \"place\", \"pmoindia\", \"pneumonia\", \"police\", \"positive\", \"post\", \"president\", \"prevent\", \"private\", \"protect\", \"protest\", \"public\", \"quarantine\", \"radicalize\", \"rail\", \"railminindia\", \"railway\", \"railways\", \"read\", \"really\", \"relief\", \"report\", \"residents\", \"restrictions\", \"right\", \"risk\", \"road\", \"roads\", \"route\", \"run\", \"running\", \"safe\", \"safety\", \"said\", \"say\", \"says\", \"school\", \"schools\", \"secret\", \"security\", \"seen\", \"sent\", \"service\", \"services\", \"shows\", \"shut\", \"sick\", \"sleep\", \"sooth\", \"source\", \"south\", \"spread\", \"staff\", \"start\", \"state\", \"station\", \"stop\", \"story\", \"students\", \"stuff\", \"supplies\", \"support\", \"sure\", \"suspended\", \"taking\", \"tax\", \"test\", \"tested\", \"testing\", \"thank\", \"thing\", \"things\", \"think\", \"thousands\", \"time\", \"times\", \"today\", \"told\", \"toll\", \"tomorrow\", \"took\", \"traffic\", \"train\", \"trains\", \"transit\", \"transport\", \"transportation\", \"treatrailwayemployeesfrontlineworker\", \"trucks\", \"trying\", \"uber\", \"update\", \"use\", \"used\", \"using\", \"vaccinated\", \"vaccination\", \"vaccines\", \"vehicle\", \"vehicles\", \"video\", \"virus\", \"waiting\", \"walk\", \"walking\", \"walks\", \"want\", \"water\", \"wave\", \"way\", \"wearing\", \"week\", \"weeks\", \"went\", \"work\", \"workers\", \"working\", \"world\", \"wuhan\", \"wuhancoronavirus\", \"wuhanpneumonia\", \"year\", \"years\", \"york\", \"zero\"]}, \"R\": 30, \"lambda.step\": 0.01, \"plot.opts\": {\"xlab\": \"PC1\", \"ylab\": \"PC2\"}, \"topic.order\": [2, 5, 8, 7, 9, 3, 6, 4, 10, 1]};\n",
       "\n",
       "function LDAvis_load_lib(url, callback){\n",
       "  var s = document.createElement('script');\n",
       "  s.src = url;\n",
       "  s.async = true;\n",
       "  s.onreadystatechange = s.onload = callback;\n",
       "  s.onerror = function(){console.warn(\"failed to load library \" + url);};\n",
       "  document.getElementsByTagName(\"head\")[0].appendChild(s);\n",
       "}\n",
       "\n",
       "if(typeof(LDAvis) !== \"undefined\"){\n",
       "   // already loaded: just create the visualization\n",
       "   !function(LDAvis){\n",
       "       new LDAvis(\"#\" + \"ldavis_el24671404573192360964081510549\", ldavis_el24671404573192360964081510549_data);\n",
       "   }(LDAvis);\n",
       "}else if(typeof define === \"function\" && define.amd){\n",
       "   // require.js is available: use it to load d3/LDAvis\n",
       "   require.config({paths: {d3: \"https://d3js.org/d3.v5\"}});\n",
       "   require([\"d3\"], function(d3){\n",
       "      window.d3 = d3;\n",
       "      LDAvis_load_lib(\"https://cdn.jsdelivr.net/gh/bmabey/pyLDAvis@3.3.1/pyLDAvis/js/ldavis.v3.0.0.js\", function(){\n",
       "        new LDAvis(\"#\" + \"ldavis_el24671404573192360964081510549\", ldavis_el24671404573192360964081510549_data);\n",
       "      });\n",
       "    });\n",
       "}else{\n",
       "    // require.js not available: dynamically load d3 & LDAvis\n",
       "    LDAvis_load_lib(\"https://d3js.org/d3.v5.js\", function(){\n",
       "         LDAvis_load_lib(\"https://cdn.jsdelivr.net/gh/bmabey/pyLDAvis@3.3.1/pyLDAvis/js/ldavis.v3.0.0.js\", function(){\n",
       "                 new LDAvis(\"#\" + \"ldavis_el24671404573192360964081510549\", ldavis_el24671404573192360964081510549_data);\n",
       "            })\n",
       "         });\n",
       "}\n",
       "</script>"
      ],
      "text/plain": [
       "PreparedData(topic_coordinates=              x         y  topics  cluster       Freq\n",
       "topic                                                \n",
       "1      0.014945  0.074062       1        1  10.485973\n",
       "4      0.049136 -0.414227       2        1  10.413136\n",
       "7     -0.363539 -0.134986       3        1  10.377498\n",
       "6     -0.228831  0.385512       4        1  10.247957\n",
       "8      0.337371 -0.319085       5        1  10.146385\n",
       "2      0.399876 -0.041887       6        1  10.064215\n",
       "5      0.097029  0.444947       7        1   9.747761\n",
       "3     -0.248383 -0.389556       8        1   9.715727\n",
       "9     -0.437904  0.137526       9        1   9.631265\n",
       "0      0.380300  0.257694      10        1   9.170084, topic_info=          Term        Freq       Total Category  logprob  loglift\n",
       "1251    people  940.000000  940.000000  Default  30.0000  30.0000\n",
       "227        car  614.000000  614.000000  Default  29.0000  29.0000\n",
       "1912   walking  618.000000  618.000000  Default  28.0000  28.0000\n",
       "1910      walk  562.000000  562.000000  Default  27.0000  27.0000\n",
       "1490      road  531.000000  531.000000  Default  26.0000  26.0000\n",
       "...        ...         ...         ...      ...      ...      ...\n",
       "999       lost   55.458627   56.329224  Topic10  -4.8177   2.3736\n",
       "445    despite   54.394162   55.264759  Topic10  -4.8371   2.3733\n",
       "1689  students   54.394162   55.264759  Topic10  -4.8371   2.3733\n",
       "897        key   53.329697   54.200294  Topic10  -4.8568   2.3730\n",
       "1907   waiting   51.200767   52.071364  Topic10  -4.8976   2.3724\n",
       "\n",
       "[331 rows x 6 columns], token_table=      Topic      Freq            Term\n",
       "term                                 \n",
       "6         5  0.978809          access\n",
       "40        1  0.993416             air\n",
       "43        7  0.989388         airport\n",
       "50        8  0.989607         allowed\n",
       "60       10  0.985459            amid\n",
       "...     ...       ...             ...\n",
       "1978      9  0.990086  wuhanpneumonia\n",
       "1983      6  0.995973            year\n",
       "1984      2  0.993184           years\n",
       "1989      9  0.990346            york\n",
       "1992      2  0.984868            zero\n",
       "\n",
       "[302 rows x 3 columns], R=30, lambda_step=0.01, plot_opts={'xlab': 'PC1', 'ylab': 'PC2'}, topic_order=[2, 5, 8, 7, 9, 3, 6, 4, 10, 1])"
      ]
     },
     "execution_count": 67,
     "metadata": {},
     "output_type": "execute_result"
    }
   ],
   "source": [
    "corpus = list(cleanTransit) + list(cleanNonmotorized) + list(cleanMotorized)\n",
    "\n",
    "dtm_tf = tf_vectorizer.fit_transform(corpus)\n",
    "\n",
    "tfidf_vectorizer = TfidfVectorizer(**tf_vectorizer.get_params())\n",
    "\n",
    "dtm_tfidf = tfidf_vectorizer.fit_transform(corpus)\n",
    "print(dtm_tfidf.shape)\n",
    "\n",
    "# for TFIDF DTM\n",
    "lda_tfidf = LatentDirichletAllocation(n_components=10, random_state=0)\n",
    "lda_tfidf.fit(dtm_tfidf)\n",
    "pyLDAvis.sklearn.prepare(lda_tfidf, dtm_tfidf, tfidf_vectorizer, mds='mmds')\n"
   ]
  },
  {
   "cell_type": "markdown",
   "id": "41db4102",
   "metadata": {},
   "source": [
    "### Conclusions + Post-Data Exploration Thoughts <a href name id='5'>\n",
    "I tried out a `biterm topic modeling` library but obtained quite strange results. Based on the pyLDAvis visualization, it did not seem likely that my corpus would obtain enough meaningful information to form coherent topics. This exploration led me to turn my focus toward sentiment analysis rather than topic modeling."
   ]
  },
  {
   "cell_type": "markdown",
   "id": "cbfbe409",
   "metadata": {},
   "source": [
    "### [INCOMPLETE/INCOHERENT] LDA and Word Embeddings Analysis"
   ]
  },
  {
   "cell_type": "code",
   "execution_count": 88,
   "id": "7687c3be",
   "metadata": {},
   "outputs": [
    {
     "name": "stderr",
     "output_type": "stream",
     "text": [
      "100%|███████████████████████████████████████████████| 20/20 [00:00<00:00, 14344.40it/s]\n",
      "100%|████████████████████████████████████████| 44958/44958 [00:00<00:00, 134097.89it/s]\n"
     ]
    },
    {
     "data": {
      "text/html": [
       "<div>\n",
       "<style scoped>\n",
       "    .dataframe tbody tr th:only-of-type {\n",
       "        vertical-align: middle;\n",
       "    }\n",
       "\n",
       "    .dataframe tbody tr th {\n",
       "        vertical-align: top;\n",
       "    }\n",
       "\n",
       "    .dataframe thead th {\n",
       "        text-align: right;\n",
       "    }\n",
       "</style>\n",
       "<table border=\"1\" class=\"dataframe\">\n",
       "  <thead>\n",
       "    <tr style=\"text-align: right;\">\n",
       "      <th></th>\n",
       "      <th>documents</th>\n",
       "      <th>label</th>\n",
       "    </tr>\n",
       "  </thead>\n",
       "  <tbody>\n",
       "    <tr>\n",
       "      <th>0</th>\n",
       "      <td>’</td>\n",
       "      <td>0</td>\n",
       "    </tr>\n",
       "    <tr>\n",
       "      <th>1</th>\n",
       "      <td>understand</td>\n",
       "      <td>2</td>\n",
       "    </tr>\n",
       "    <tr>\n",
       "      <th>2</th>\n",
       "      <td>kept</td>\n",
       "      <td>2</td>\n",
       "    </tr>\n",
       "    <tr>\n",
       "      <th>3</th>\n",
       "      <td>saying</td>\n",
       "      <td>2</td>\n",
       "    </tr>\n",
       "    <tr>\n",
       "      <th>4</th>\n",
       "      <td>public</td>\n",
       "      <td>2</td>\n",
       "    </tr>\n",
       "    <tr>\n",
       "      <th>...</th>\n",
       "      <td>...</td>\n",
       "      <td>...</td>\n",
       "    </tr>\n",
       "    <tr>\n",
       "      <th>44953</th>\n",
       "      <td>must</td>\n",
       "      <td>2</td>\n",
       "    </tr>\n",
       "    <tr>\n",
       "      <th>44954</th>\n",
       "      <td>demand</td>\n",
       "      <td>2</td>\n",
       "    </tr>\n",
       "    <tr>\n",
       "      <th>44955</th>\n",
       "      <td>johnson</td>\n",
       "      <td>2</td>\n",
       "    </tr>\n",
       "    <tr>\n",
       "      <th>44956</th>\n",
       "      <td>’</td>\n",
       "      <td>0</td>\n",
       "    </tr>\n",
       "    <tr>\n",
       "      <th>44957</th>\n",
       "      <td>resignation</td>\n",
       "      <td>2</td>\n",
       "    </tr>\n",
       "  </tbody>\n",
       "</table>\n",
       "<p>44958 rows × 2 columns</p>\n",
       "</div>"
      ],
      "text/plain": [
       "         documents  label\n",
       "0                ’      0\n",
       "1       understand      2\n",
       "2             kept      2\n",
       "3           saying      2\n",
       "4           public      2\n",
       "...            ...    ...\n",
       "44953         must      2\n",
       "44954       demand      2\n",
       "44955      johnson      2\n",
       "44956            ’      0\n",
       "44957  resignation      2\n",
       "\n",
       "[44958 rows x 2 columns]"
      ]
     },
     "execution_count": 88,
     "metadata": {},
     "output_type": "execute_result"
    }
   ],
   "source": [
    "import bitermplus as btm\n",
    "import numpy as np\n",
    "import pandas as pd\n",
    "\n",
    "# IMPORTING DATA\n",
    "texts = cleanTransit\n",
    "\n",
    "# PREPROCESSING\n",
    "# Obtaining terms frequency in a sparse matrix and corpus vocabulary\n",
    "X, vocabulary, vocab_dict = btm.get_words_freqs(texts)\n",
    "tf = np.array(X.sum(axis=0)).ravel()\n",
    "# Vectorizing documents\n",
    "docs_vec = btm.get_vectorized_docs(texts, vocabulary)\n",
    "docs_lens = list(map(len, docs_vec))\n",
    "# Generating biterms\n",
    "biterms = btm.get_biterms(docs_vec)\n",
    "\n",
    "# INITIALIZING AND RUNNING MODEL\n",
    "model = btm.BTM(\n",
    "    X, vocabulary, seed=12321, T=8, M=20, alpha=50/8, beta=0.01)\n",
    "model.fit(biterms, iterations=20)\n",
    "p_zd = model.transform(docs_vec)\n",
    "\n",
    "# METRICS\n",
    "perplexity = btm.perplexity(model.matrix_topics_words_, p_zd, X, 8)\n",
    "coherence = btm.coherence(model.matrix_topics_words_, X, M=20)\n",
    "# or\n",
    "perplexity = model.perplexity_\n",
    "coherence = model.coherence_\n",
    "\n",
    "# LABELS\n",
    "model.labels_\n",
    "# or\n",
    "btm.get_docs_top_topic(texts, model.matrix_docs_topics_)"
   ]
  },
  {
   "cell_type": "code",
   "execution_count": null,
   "id": "ed0d7667",
   "metadata": {},
   "outputs": [],
   "source": []
  }
 ],
 "metadata": {
  "kernelspec": {
   "display_name": "Python 3 (ipykernel)",
   "language": "python",
   "name": "python3"
  },
  "language_info": {
   "codemirror_mode": {
    "name": "ipython",
    "version": 3
   },
   "file_extension": ".py",
   "mimetype": "text/x-python",
   "name": "python",
   "nbconvert_exporter": "python",
   "pygments_lexer": "ipython3",
   "version": "3.9.5"
  }
 },
 "nbformat": 4,
 "nbformat_minor": 5
}
